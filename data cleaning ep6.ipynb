{
 "cells": [
  {
   "cell_type": "code",
   "id": "initial_id",
   "metadata": {
    "collapsed": true,
    "ExecuteTime": {
     "end_time": "2024-06-09T13:32:13.669237Z",
     "start_time": "2024-06-09T13:32:11.254220Z"
    }
   },
   "source": [
    "#Importing packages\n",
    "\n",
    "import numpy as np\n",
    "import pandas as pd\n",
    "import requests\n",
    "import glob\n",
    "import openpyxl\n",
    "import os\n"
   ],
   "outputs": [],
   "execution_count": 1
  },
  {
   "metadata": {
    "ExecuteTime": {
     "end_time": "2024-06-09T13:32:13.752336Z",
     "start_time": "2024-06-09T13:32:13.669237Z"
    }
   },
   "cell_type": "code",
   "source": [
    "%load_ext autoreload\n",
    "%autoreload 2\n"
   ],
   "id": "b36d0f1ca6001e7e",
   "outputs": [],
   "execution_count": 2
  },
  {
   "metadata": {
    "ExecuteTime": {
     "end_time": "2024-06-09T13:32:14.066115Z",
     "start_time": "2024-06-09T13:32:13.753878Z"
    }
   },
   "cell_type": "code",
   "source": "import helperfunctions as hf ",
   "id": "c97b03dcc8b9df74",
   "outputs": [],
   "execution_count": 3
  },
  {
   "metadata": {},
   "cell_type": "markdown",
   "source": "Creating relative paths",
   "id": "5c8d28fbbdaf5e67"
  },
  {
   "metadata": {
    "ExecuteTime": {
     "end_time": "2024-06-09T13:32:14.152146Z",
     "start_time": "2024-06-09T13:32:14.069455Z"
    }
   },
   "cell_type": "code",
   "source": [
    "#creating relative paths\n",
    "votes = os.path.join(\"VoteWatch-EP-voting-data_2004-2022\", \"EP6_RCVs_2022_06_13.xlsx\")\n",
    "votations = os.path.join(\"VoteWatch-EP-voting-data_2004-2022\",\"EP6_Voted docs.xlsx\")\n"
   ],
   "id": "ff8c185e3323d4fd",
   "outputs": [],
   "execution_count": 4
  },
  {
   "metadata": {},
   "cell_type": "markdown",
   "source": "Importing data from EU API (for correct names)",
   "id": "28d1bba418253e6f"
  },
  {
   "metadata": {
    "ExecuteTime": {
     "end_time": "2024-06-09T13:32:17.214282Z",
     "start_time": "2024-06-09T13:32:14.153155Z"
    }
   },
   "cell_type": "code",
   "source": [
    "\n",
    "url = 'https://data.europarl.europa.eu/api/v2/meps?parliamentary-term=6&format=application%2Fld%2Bjson&offset=0'\n",
    "response = requests.get(url)\n",
    "meps_data = response.json()"
   ],
   "id": "56e2ab3791d910be",
   "outputs": [],
   "execution_count": 5
  },
  {
   "metadata": {},
   "cell_type": "markdown",
   "source": "Creating DataFrames (runtime is quite long, .xlsx files)",
   "id": "b9e6cb128b140637"
  },
  {
   "metadata": {
    "ExecuteTime": {
     "end_time": "2024-06-09T13:33:19.167468Z",
     "start_time": "2024-06-09T13:32:17.214282Z"
    }
   },
   "cell_type": "code",
   "source": [
    "\n",
    "meps_df_6 = pd.json_normalize(meps_data['data'])\n",
    "EP_6_votes = pd.read_excel(votes)\n",
    "EP_6_votations = pd.read_excel(votations)"
   ],
   "id": "a700b9c4fd4163e2",
   "outputs": [],
   "execution_count": 6
  },
  {
   "metadata": {},
   "cell_type": "markdown",
   "source": "Inspecting the data",
   "id": "72034274dcbeb73f"
  },
  {
   "metadata": {
    "ExecuteTime": {
     "end_time": "2024-06-09T13:33:19.271686Z",
     "start_time": "2024-06-09T13:33:19.167468Z"
    }
   },
   "cell_type": "code",
   "source": "meps_df_6.head()",
   "id": "7fa55017b23846e1",
   "outputs": [
    {
     "data": {
      "text/plain": [
       "             id    type identifier                  label  familyName  \\\n",
       "0   person/2278  Person       2278             Paul RÜBIG       Rübig   \n",
       "1  person/28196  Person      28196       Irena BELOHORSKÁ  Belohorská   \n",
       "2   person/4436  Person       4436        Gianni PITTELLA    Pittella   \n",
       "3  person/39713  Person      39713           Renate WEBER       Weber   \n",
       "4  person/34482  Person      34482  Alexandru-Ioan MORȚUN      Morțun   \n",
       "\n",
       "        givenName    sortLabel officialFamilyName officialGivenName  \n",
       "0            Paul        RUBIG                NaN               NaN  \n",
       "1           Irena   BELOHORSKA                NaN               NaN  \n",
       "2          Gianni     PITTELLA                NaN               NaN  \n",
       "3          Renate  WEBERRENATE                NaN               NaN  \n",
       "4  Alexandru-Ioan       MORTUN                NaN               NaN  "
      ],
      "text/html": [
       "<div>\n",
       "<style scoped>\n",
       "    .dataframe tbody tr th:only-of-type {\n",
       "        vertical-align: middle;\n",
       "    }\n",
       "\n",
       "    .dataframe tbody tr th {\n",
       "        vertical-align: top;\n",
       "    }\n",
       "\n",
       "    .dataframe thead th {\n",
       "        text-align: right;\n",
       "    }\n",
       "</style>\n",
       "<table border=\"1\" class=\"dataframe\">\n",
       "  <thead>\n",
       "    <tr style=\"text-align: right;\">\n",
       "      <th></th>\n",
       "      <th>id</th>\n",
       "      <th>type</th>\n",
       "      <th>identifier</th>\n",
       "      <th>label</th>\n",
       "      <th>familyName</th>\n",
       "      <th>givenName</th>\n",
       "      <th>sortLabel</th>\n",
       "      <th>officialFamilyName</th>\n",
       "      <th>officialGivenName</th>\n",
       "    </tr>\n",
       "  </thead>\n",
       "  <tbody>\n",
       "    <tr>\n",
       "      <th>0</th>\n",
       "      <td>person/2278</td>\n",
       "      <td>Person</td>\n",
       "      <td>2278</td>\n",
       "      <td>Paul RÜBIG</td>\n",
       "      <td>Rübig</td>\n",
       "      <td>Paul</td>\n",
       "      <td>RUBIG</td>\n",
       "      <td>NaN</td>\n",
       "      <td>NaN</td>\n",
       "    </tr>\n",
       "    <tr>\n",
       "      <th>1</th>\n",
       "      <td>person/28196</td>\n",
       "      <td>Person</td>\n",
       "      <td>28196</td>\n",
       "      <td>Irena BELOHORSKÁ</td>\n",
       "      <td>Belohorská</td>\n",
       "      <td>Irena</td>\n",
       "      <td>BELOHORSKA</td>\n",
       "      <td>NaN</td>\n",
       "      <td>NaN</td>\n",
       "    </tr>\n",
       "    <tr>\n",
       "      <th>2</th>\n",
       "      <td>person/4436</td>\n",
       "      <td>Person</td>\n",
       "      <td>4436</td>\n",
       "      <td>Gianni PITTELLA</td>\n",
       "      <td>Pittella</td>\n",
       "      <td>Gianni</td>\n",
       "      <td>PITTELLA</td>\n",
       "      <td>NaN</td>\n",
       "      <td>NaN</td>\n",
       "    </tr>\n",
       "    <tr>\n",
       "      <th>3</th>\n",
       "      <td>person/39713</td>\n",
       "      <td>Person</td>\n",
       "      <td>39713</td>\n",
       "      <td>Renate WEBER</td>\n",
       "      <td>Weber</td>\n",
       "      <td>Renate</td>\n",
       "      <td>WEBERRENATE</td>\n",
       "      <td>NaN</td>\n",
       "      <td>NaN</td>\n",
       "    </tr>\n",
       "    <tr>\n",
       "      <th>4</th>\n",
       "      <td>person/34482</td>\n",
       "      <td>Person</td>\n",
       "      <td>34482</td>\n",
       "      <td>Alexandru-Ioan MORȚUN</td>\n",
       "      <td>Morțun</td>\n",
       "      <td>Alexandru-Ioan</td>\n",
       "      <td>MORTUN</td>\n",
       "      <td>NaN</td>\n",
       "      <td>NaN</td>\n",
       "    </tr>\n",
       "  </tbody>\n",
       "</table>\n",
       "</div>"
      ]
     },
     "execution_count": 7,
     "metadata": {},
     "output_type": "execute_result"
    }
   ],
   "execution_count": 7
  },
  {
   "metadata": {},
   "cell_type": "markdown",
   "source": "Dropping irrelevant columns (to discuss)",
   "id": "f7b2a219a25e765a"
  },
  {
   "metadata": {
    "ExecuteTime": {
     "end_time": "2024-06-09T13:33:19.355506Z",
     "start_time": "2024-06-09T13:33:19.271686Z"
    }
   },
   "cell_type": "code",
   "source": "meps_df_6.drop(columns=['id','type','sortLabel','officialFamilyName','officialGivenName'],inplace=True)",
   "id": "c6f61c20e4efa52d",
   "outputs": [],
   "execution_count": 8
  },
  {
   "metadata": {},
   "cell_type": "markdown",
   "source": "Renaming variables for pd.merge and correcting datatype",
   "id": "5ad859647648b705"
  },
  {
   "metadata": {
    "ExecuteTime": {
     "end_time": "2024-06-09T13:33:19.443073Z",
     "start_time": "2024-06-09T13:33:19.356778Z"
    }
   },
   "cell_type": "code",
   "source": [
    "meps_df_6.rename(columns={'identifier': 'MepId'},inplace=True)\n",
    "EP_6_votes.rename(columns={'WebisteEpID': 'MepId'},inplace=True)\n",
    "meps_df_6.MepId = meps_df_6.MepId.astype(int)"
   ],
   "id": "bee4a902600f3e6d",
   "outputs": [],
   "execution_count": 9
  },
  {
   "metadata": {},
   "cell_type": "markdown",
   "source": "Merging ",
   "id": "2e367140da9d99b4"
  },
  {
   "metadata": {
    "ExecuteTime": {
     "end_time": "2024-06-09T13:33:19.538440Z",
     "start_time": "2024-06-09T13:33:19.443073Z"
    }
   },
   "cell_type": "code",
   "source": "EP_6_votes_fixed_names = pd.merge(EP_6_votes,meps_df_6 , on='MepId', how='left')",
   "id": "150e98bdf525da4f",
   "outputs": [],
   "execution_count": 10
  },
  {
   "metadata": {},
   "cell_type": "markdown",
   "source": "Updating names of MPs",
   "id": "b22ecf8eb5961628"
  },
  {
   "metadata": {
    "ExecuteTime": {
     "end_time": "2024-06-09T13:33:19.638458Z",
     "start_time": "2024-06-09T13:33:19.538440Z"
    }
   },
   "cell_type": "code",
   "source": [
    "EP_6_votes_fixed_names[['Fname','Lname','FullName']] = EP_6_votes_fixed_names[['givenName','familyName','label']]\n",
    "EP_6_votes_fixed_names.drop(columns=['label','familyName','givenName'],inplace=True)"
   ],
   "id": "f0e5b6b1c37d2629",
   "outputs": [],
   "execution_count": 11
  },
  {
   "metadata": {},
   "cell_type": "markdown",
   "source": "Encoding missing party names",
   "id": "3cf8d91faf156b8a"
  },
  {
   "metadata": {
    "ExecuteTime": {
     "end_time": "2024-06-09T13:33:19.728573Z",
     "start_time": "2024-06-09T13:33:19.638458Z"
    }
   },
   "cell_type": "code",
   "source": "EP_6_votes_fixed_names.Party = EP_6_votes_fixed_names.Party.replace({\".\":np.NAN,\"--\":np.NAN})",
   "id": "dd3cd2b86adc1265",
   "outputs": [],
   "execution_count": 12
  },
  {
   "metadata": {},
   "cell_type": "markdown",
   "source": "Votations dataset inspection",
   "id": "91f7e71eb8c3c4c4"
  },
  {
   "metadata": {
    "ExecuteTime": {
     "end_time": "2024-06-09T13:33:19.827625Z",
     "start_time": "2024-06-09T13:33:19.728573Z"
    }
   },
   "cell_type": "code",
   "source": "EP_6_votations.head()",
   "id": "ce8e118eeda0131",
   "outputs": [
    {
     "data": {
      "text/plain": [
       "   euro_act_id                 date                            title  \\\n",
       "0            1  2004-09-15 00:00:00   EU-Mauritius fishing agreement   \n",
       "1            2  2004-09-15 00:00:00   EU-Mauritius fishing agreement   \n",
       "2            3  2004-09-15 00:00:00  EU-Madagascar Fishing agreement   \n",
       "3            4  2004-09-15 00:00:00  EU-Madagascar Fishing agreement   \n",
       "4            5  2004-09-15 00:00:00  EU-Cape Verde Fishing agreement   \n",
       "\n",
       "  procedure reading                                     type_of_vote  \\\n",
       "0     CNS *     Leg        Amended proposal for a Council regulation   \n",
       "1     CNS *     Leg  Legislative resolution for a Council regulation   \n",
       "2     CNS *     Leg        Amended proposal for a Council regulation   \n",
       "3     CNS *     Leg  Legislative resolution for a Council regulation   \n",
       "4     CNS *     Leg        Amended proposal for a Council regulation   \n",
       "\n",
       "                                   type_of_vote_en rule          raporteur  \\\n",
       "0        Amended proposal for a Council regulation    s  Morillon Philippe   \n",
       "1  Legislative resolution for a Council regulation    s  Morillon Philippe   \n",
       "2        Amended proposal for a Council regulation    s  Morillon Philippe   \n",
       "3  Legislative resolution for a Council regulation    s  Morillon Philippe   \n",
       "4        Amended proposal for a Council regulation    s  Morillon Philippe   \n",
       "\n",
       "                                                 url  ... final_vote  \\\n",
       "0  http://www.europarl.europa.eu/sides/getDoc.do?...  ...          0   \n",
       "1  http://www.europarl.europa.eu/sides/getDoc.do?...  ...          1   \n",
       "2  http://www.europarl.europa.eu/sides/getDoc.do?...  ...          0   \n",
       "3  http://www.europarl.europa.eu/sides/getDoc.do?...  ...          0   \n",
       "4  http://www.europarl.europa.eu/sides/getDoc.do?...  ...          0   \n",
       "\n",
       "  author_name am_no  result_code  yes    no abstain  did_not_vote  absent  \\\n",
       "0           0   NaN            +  405  63.0    73.0             0       0   \n",
       "1           0   NaN            +  415  56.0    67.0             0       0   \n",
       "2           0   NaN            +  504  79.0    84.0             0       0   \n",
       "3           0   NaN            +  507  68.0    86.0             0       0   \n",
       "4           0   NaN            +  495  74.0   104.0             0       0   \n",
       "\n",
       "   absent_motivated  \n",
       "0                 0  \n",
       "1                 0  \n",
       "2                 0  \n",
       "3                 0  \n",
       "4                 0  \n",
       "\n",
       "[5 rows x 23 columns]"
      ],
      "text/html": [
       "<div>\n",
       "<style scoped>\n",
       "    .dataframe tbody tr th:only-of-type {\n",
       "        vertical-align: middle;\n",
       "    }\n",
       "\n",
       "    .dataframe tbody tr th {\n",
       "        vertical-align: top;\n",
       "    }\n",
       "\n",
       "    .dataframe thead th {\n",
       "        text-align: right;\n",
       "    }\n",
       "</style>\n",
       "<table border=\"1\" class=\"dataframe\">\n",
       "  <thead>\n",
       "    <tr style=\"text-align: right;\">\n",
       "      <th></th>\n",
       "      <th>euro_act_id</th>\n",
       "      <th>date</th>\n",
       "      <th>title</th>\n",
       "      <th>procedure</th>\n",
       "      <th>reading</th>\n",
       "      <th>type_of_vote</th>\n",
       "      <th>type_of_vote_en</th>\n",
       "      <th>rule</th>\n",
       "      <th>raporteur</th>\n",
       "      <th>url</th>\n",
       "      <th>...</th>\n",
       "      <th>final_vote</th>\n",
       "      <th>author_name</th>\n",
       "      <th>am_no</th>\n",
       "      <th>result_code</th>\n",
       "      <th>yes</th>\n",
       "      <th>no</th>\n",
       "      <th>abstain</th>\n",
       "      <th>did_not_vote</th>\n",
       "      <th>absent</th>\n",
       "      <th>absent_motivated</th>\n",
       "    </tr>\n",
       "  </thead>\n",
       "  <tbody>\n",
       "    <tr>\n",
       "      <th>0</th>\n",
       "      <td>1</td>\n",
       "      <td>2004-09-15 00:00:00</td>\n",
       "      <td>EU-Mauritius fishing agreement</td>\n",
       "      <td>CNS *</td>\n",
       "      <td>Leg</td>\n",
       "      <td>Amended proposal for a Council regulation</td>\n",
       "      <td>Amended proposal for a Council regulation</td>\n",
       "      <td>s</td>\n",
       "      <td>Morillon Philippe</td>\n",
       "      <td>http://www.europarl.europa.eu/sides/getDoc.do?...</td>\n",
       "      <td>...</td>\n",
       "      <td>0</td>\n",
       "      <td>0</td>\n",
       "      <td>NaN</td>\n",
       "      <td>+</td>\n",
       "      <td>405</td>\n",
       "      <td>63.0</td>\n",
       "      <td>73.0</td>\n",
       "      <td>0</td>\n",
       "      <td>0</td>\n",
       "      <td>0</td>\n",
       "    </tr>\n",
       "    <tr>\n",
       "      <th>1</th>\n",
       "      <td>2</td>\n",
       "      <td>2004-09-15 00:00:00</td>\n",
       "      <td>EU-Mauritius fishing agreement</td>\n",
       "      <td>CNS *</td>\n",
       "      <td>Leg</td>\n",
       "      <td>Legislative resolution for a Council regulation</td>\n",
       "      <td>Legislative resolution for a Council regulation</td>\n",
       "      <td>s</td>\n",
       "      <td>Morillon Philippe</td>\n",
       "      <td>http://www.europarl.europa.eu/sides/getDoc.do?...</td>\n",
       "      <td>...</td>\n",
       "      <td>1</td>\n",
       "      <td>0</td>\n",
       "      <td>NaN</td>\n",
       "      <td>+</td>\n",
       "      <td>415</td>\n",
       "      <td>56.0</td>\n",
       "      <td>67.0</td>\n",
       "      <td>0</td>\n",
       "      <td>0</td>\n",
       "      <td>0</td>\n",
       "    </tr>\n",
       "    <tr>\n",
       "      <th>2</th>\n",
       "      <td>3</td>\n",
       "      <td>2004-09-15 00:00:00</td>\n",
       "      <td>EU-Madagascar Fishing agreement</td>\n",
       "      <td>CNS *</td>\n",
       "      <td>Leg</td>\n",
       "      <td>Amended proposal for a Council regulation</td>\n",
       "      <td>Amended proposal for a Council regulation</td>\n",
       "      <td>s</td>\n",
       "      <td>Morillon Philippe</td>\n",
       "      <td>http://www.europarl.europa.eu/sides/getDoc.do?...</td>\n",
       "      <td>...</td>\n",
       "      <td>0</td>\n",
       "      <td>0</td>\n",
       "      <td>NaN</td>\n",
       "      <td>+</td>\n",
       "      <td>504</td>\n",
       "      <td>79.0</td>\n",
       "      <td>84.0</td>\n",
       "      <td>0</td>\n",
       "      <td>0</td>\n",
       "      <td>0</td>\n",
       "    </tr>\n",
       "    <tr>\n",
       "      <th>3</th>\n",
       "      <td>4</td>\n",
       "      <td>2004-09-15 00:00:00</td>\n",
       "      <td>EU-Madagascar Fishing agreement</td>\n",
       "      <td>CNS *</td>\n",
       "      <td>Leg</td>\n",
       "      <td>Legislative resolution for a Council regulation</td>\n",
       "      <td>Legislative resolution for a Council regulation</td>\n",
       "      <td>s</td>\n",
       "      <td>Morillon Philippe</td>\n",
       "      <td>http://www.europarl.europa.eu/sides/getDoc.do?...</td>\n",
       "      <td>...</td>\n",
       "      <td>0</td>\n",
       "      <td>0</td>\n",
       "      <td>NaN</td>\n",
       "      <td>+</td>\n",
       "      <td>507</td>\n",
       "      <td>68.0</td>\n",
       "      <td>86.0</td>\n",
       "      <td>0</td>\n",
       "      <td>0</td>\n",
       "      <td>0</td>\n",
       "    </tr>\n",
       "    <tr>\n",
       "      <th>4</th>\n",
       "      <td>5</td>\n",
       "      <td>2004-09-15 00:00:00</td>\n",
       "      <td>EU-Cape Verde Fishing agreement</td>\n",
       "      <td>CNS *</td>\n",
       "      <td>Leg</td>\n",
       "      <td>Amended proposal for a Council regulation</td>\n",
       "      <td>Amended proposal for a Council regulation</td>\n",
       "      <td>s</td>\n",
       "      <td>Morillon Philippe</td>\n",
       "      <td>http://www.europarl.europa.eu/sides/getDoc.do?...</td>\n",
       "      <td>...</td>\n",
       "      <td>0</td>\n",
       "      <td>0</td>\n",
       "      <td>NaN</td>\n",
       "      <td>+</td>\n",
       "      <td>495</td>\n",
       "      <td>74.0</td>\n",
       "      <td>104.0</td>\n",
       "      <td>0</td>\n",
       "      <td>0</td>\n",
       "      <td>0</td>\n",
       "    </tr>\n",
       "  </tbody>\n",
       "</table>\n",
       "<p>5 rows × 23 columns</p>\n",
       "</div>"
      ]
     },
     "execution_count": 13,
     "metadata": {},
     "output_type": "execute_result"
    }
   ],
   "execution_count": 13
  },
  {
   "metadata": {},
   "cell_type": "markdown",
   "source": "Dropping irrelevant columns (also to be discussed)",
   "id": "bfbfac8b6fcc56f0"
  },
  {
   "metadata": {
    "ExecuteTime": {
     "end_time": "2024-06-09T13:33:19.913906Z",
     "start_time": "2024-06-09T13:33:19.827625Z"
    }
   },
   "cell_type": "code",
   "source": "EP_6_votations_columnsdropped = EP_6_votations.drop(columns=['type_of_vote_en', 'did_not_vote','absent','absent_motivated'])",
   "id": "423f3a73edfbbb5a",
   "outputs": [],
   "execution_count": 14
  },
  {
   "metadata": {},
   "cell_type": "markdown",
   "source": "Manually fixing some dates, in order for pd.to_datetime to work",
   "id": "77d1e7bee510186"
  },
  {
   "metadata": {
    "ExecuteTime": {
     "end_time": "2024-06-09T13:33:20.038364Z",
     "start_time": "2024-06-09T13:33:19.913906Z"
    }
   },
   "cell_type": "code",
   "source": [
    "replacements = {\n",
    "    \" 00:00:00\": \"\",\n",
    "    \" ian \":\"/01/\",\n",
    "    \"03/11/2008\":\"11/03/2008\",\n",
    "    \"03/12/2008\":\"12/03/2008\",\n",
    "    \"13/12/2009\":\"13/12/2007\",\n",
    "    \"13/12/2008\":\"13/12/2007\",\n",
    "    \"3/13/2008\":\"13/3/2008\",\n",
    "    '2009-12-13':'2007-12-13',\n",
    "}\n",
    "EP_6_votations_copy = EP_6_votations_columnsdropped.copy()\n",
    "\n",
    "EP_6_votations_copy['date'] = EP_6_votations_copy['date'].astype(str).replace(replacements, regex=True)"
   ],
   "id": "1f05ebf2fc3d74ce",
   "outputs": [],
   "execution_count": 15
  },
  {
   "metadata": {
    "ExecuteTime": {
     "end_time": "2024-06-09T13:33:20.123028Z",
     "start_time": "2024-06-09T13:33:20.039316Z"
    }
   },
   "cell_type": "code",
   "source": "EP_6_votations_copy.date",
   "id": "71e01be63ff167ad",
   "outputs": [
    {
     "data": {
      "text/plain": [
       "0       2004-09-15\n",
       "1       2004-09-15\n",
       "2       2004-09-15\n",
       "3       2004-09-15\n",
       "4       2004-09-15\n",
       "           ...    \n",
       "6194     7.05.2009\n",
       "6195     7.05.2009\n",
       "6196     7.05.2009\n",
       "6197     7.05.2009\n",
       "6198     7.05.2009\n",
       "Name: date, Length: 6199, dtype: object"
      ]
     },
     "execution_count": 16,
     "metadata": {},
     "output_type": "execute_result"
    }
   ],
   "execution_count": 16
  },
  {
   "metadata": {
    "ExecuteTime": {
     "end_time": "2024-06-09T13:33:20.211264Z",
     "start_time": "2024-06-09T13:33:20.123028Z"
    }
   },
   "cell_type": "code",
   "source": "EP_6_votations_date_fixed = EP_6_votations_copy.copy()",
   "id": "a383d39ee23ddf4",
   "outputs": [],
   "execution_count": 17
  },
  {
   "metadata": {
    "ExecuteTime": {
     "end_time": "2024-06-09T13:33:20.306852Z",
     "start_time": "2024-06-09T13:33:20.211264Z"
    }
   },
   "cell_type": "code",
   "source": "EP_6_votations_date_fixed['date'] = pd.to_datetime(EP_6_votations_copy['date'],format=\"mixed\",dayfirst=True,yearfirst=True) ",
   "id": "47e35428a27c1327",
   "outputs": [],
   "execution_count": 18
  },
  {
   "metadata": {
    "ExecuteTime": {
     "end_time": "2024-06-09T13:33:20.400413Z",
     "start_time": "2024-06-09T13:33:20.306852Z"
    }
   },
   "cell_type": "code",
   "source": "EP_6_votations_date_fixed.date.max()",
   "id": "17c9881e55644e48",
   "outputs": [
    {
     "data": {
      "text/plain": [
       "Timestamp('2009-05-07 00:00:00')"
      ]
     },
     "execution_count": 19,
     "metadata": {},
     "output_type": "execute_result"
    }
   ],
   "execution_count": 19
  },
  {
   "metadata": {},
   "cell_type": "markdown",
   "source": "Recoding columns in line with convention for the app\n",
   "id": "32f82e47baf87e38"
  },
  {
   "metadata": {
    "ExecuteTime": {
     "end_time": "2024-06-09T13:33:20.482205Z",
     "start_time": "2024-06-09T13:33:20.400413Z"
    }
   },
   "cell_type": "code",
   "source": [
    "original_columns = EP_6_votations_date_fixed.columns.tolist()\n",
    "\n",
    "new_columns = [\n",
    "    \"VoteId\",\n",
    "    \"Date\",\n",
    "    \"Title\",\n",
    "    \"Procedure\",\n",
    "    \"Leg/Non-Leg/Bud\",\n",
    "    \"TypeOfVote\",\n",
    "    \"VotingRule\",\n",
    "    \"Rapporteur\",\n",
    "    \"Link\",\n",
    "    \"CommitteeResponsabile\",\n",
    "    \"PolicyArea\",\n",
    "    \"Subject\",\n",
    "    \"FinalVote\",\n",
    "    \"Author\",\n",
    "    \"AmNo\",\n",
    "    \"Vote\",\n",
    "    \"Yes\",\n",
    "    \"No\",\n",
    "    \"Abs\"\n",
    "]\n",
    "\n",
    "# Create a dictionary mapping original column names to new names\n",
    "rename_dict = dict(zip(original_columns, new_columns))\n",
    "\n",
    "# Assuming 'df' is your DataFrame\n",
    "EP_6_votations_column_names_good = EP_6_votations_date_fixed.rename(columns=rename_dict)"
   ],
   "id": "da9cbbcd0a9576dc",
   "outputs": [],
   "execution_count": 20
  },
  {
   "metadata": {},
   "cell_type": "markdown",
   "source": "Recoding missing data",
   "id": "b03f77aa9810bc58"
  },
  {
   "metadata": {
    "ExecuteTime": {
     "end_time": "2024-06-09T13:33:20.565336Z",
     "start_time": "2024-06-09T13:33:20.482205Z"
    }
   },
   "cell_type": "code",
   "source": [
    "def recode_votations(df):\n",
    "    df['TypeOfVote'] = df['TypeOfVote'].replace(0,np.NAN)\n",
    "    df['VotingRule'] = df['VotingRule'].replace(0,np.NAN)\n",
    "    df['Rapporteur'] = df['Rapporteur'].replace(0,np.NAN)\n",
    "    df['CommitteeResponsabile'] = df['CommitteeResponsabile'].replace(0,np.NAN)\n",
    "    df['Author'] = df['Author'].replace(0,np.NAN)\n",
    "    df['Subject'] = df['Subject'].replace(0,np.NAN)\n",
    "    df['AmNo'] = df['AmNo'].replace(0,np.NAN)\n",
    "    df['Vote'] = df['Vote'].replace({'+': 1, '-': 0})\n",
    "    df['Vote'] = df['Vote'].replace({\"-*\":0,\" +\":1, \"?  replaced by 1043\":0})\n",
    "\n"
   ],
   "id": "d01d3a5edef045aa",
   "outputs": [],
   "execution_count": 21
  },
  {
   "metadata": {
    "ExecuteTime": {
     "end_time": "2024-06-09T13:33:20.656711Z",
     "start_time": "2024-06-09T13:33:20.565336Z"
    }
   },
   "cell_type": "code",
   "source": "recode_votations(EP_6_votations_column_names_good)",
   "id": "7cf4454cbd02ba2d",
   "outputs": [
    {
     "name": "stderr",
     "output_type": "stream",
     "text": [
      "C:\\Users\\zwiad\\AppData\\Local\\Temp\\ipykernel_14456\\3001296997.py:10: FutureWarning: Downcasting behavior in `replace` is deprecated and will be removed in a future version. To retain the old behavior, explicitly call `result.infer_objects(copy=False)`. To opt-in to the future behavior, set `pd.set_option('future.no_silent_downcasting', True)`\n",
      "  df['Vote'] = df['Vote'].replace({\"-*\":0,\" +\":1, \"?  replaced by 1043\":0})\n"
     ]
    }
   ],
   "execution_count": 22
  },
  {
   "metadata": {},
   "cell_type": "markdown",
   "source": "Checking and fixing the datatypes",
   "id": "4e6c16bbc8011af2"
  },
  {
   "metadata": {
    "ExecuteTime": {
     "end_time": "2024-06-09T13:33:20.742267Z",
     "start_time": "2024-06-09T13:33:20.656711Z"
    }
   },
   "cell_type": "code",
   "source": "EP_6_votations_column_names_good.dtypes",
   "id": "e07b12cbeaeb4a17",
   "outputs": [
    {
     "data": {
      "text/plain": [
       "VoteId                            int64\n",
       "Date                     datetime64[ns]\n",
       "Title                            object\n",
       "Procedure                        object\n",
       "Leg/Non-Leg/Bud                  object\n",
       "TypeOfVote                       object\n",
       "VotingRule                       object\n",
       "Rapporteur                       object\n",
       "Link                             object\n",
       "CommitteeResponsabile            object\n",
       "PolicyArea                       object\n",
       "Subject                          object\n",
       "FinalVote                         int64\n",
       "Author                           object\n",
       "AmNo                             object\n",
       "Vote                            float64\n",
       "Yes                               int64\n",
       "No                              float64\n",
       "Abs                             float64\n",
       "dtype: object"
      ]
     },
     "execution_count": 23,
     "metadata": {},
     "output_type": "execute_result"
    }
   ],
   "execution_count": 23
  },
  {
   "metadata": {
    "ExecuteTime": {
     "end_time": "2024-06-09T13:33:20.827062Z",
     "start_time": "2024-06-09T13:33:20.742267Z"
    }
   },
   "cell_type": "code",
   "source": [
    "EP_6_votations_column_names_good.No = EP_6_votations_column_names_good['No'].astype('Int64')\n",
    "EP_6_votations_column_names_good.Abs = EP_6_votations_column_names_good['Abs'].astype('Int64')\n",
    "EP_6_votations_column_names_good.Vote = EP_6_votations_column_names_good['Vote'].astype('Int64')\n",
    "EP_6_votations_column_names_good.Yes = EP_6_votations_column_names_good['Yes'].astype('Int64')"
   ],
   "id": "745936e0d1d5eaed",
   "outputs": [],
   "execution_count": 24
  },
  {
   "metadata": {},
   "cell_type": "markdown",
   "source": "Renaming EPG groups to fit the API convention",
   "id": "e563ded80449dcfb"
  },
  {
   "metadata": {
    "ExecuteTime": {
     "end_time": "2024-06-09T13:33:20.909039Z",
     "start_time": "2024-06-09T13:33:20.827062Z"
    }
   },
   "cell_type": "code",
   "source": [
    "\n",
    "EPG_rename_dict = {\n",
    "    \"Group of the European People's Party (Christian Democrats) and European Democrats\":\"EPP-ED\",\n",
    "    \"Socialist Group in the European Parliament\":\"PES\",\n",
    "    \"Group of the Alliance of Liberals and Democrats for Europe\":\"ALDE\",\n",
    "    \"Union for Europe of the Nations Group\":\"UEN\",\n",
    "    \"Confederal Group of the European United Left - Nordic Green Left\":\"GUE–NGL\",\n",
    "    \"Group of the Greens/European Free Alliance\":\"Greens–EFA\",\n",
    "    \"Non-attached Members\":\"NI\",  \n",
    "    \"Independence/Democracy Group\":\"IND/DEM\"\n",
    "}"
   ],
   "id": "b7fd88fd3400befd",
   "outputs": [],
   "execution_count": 25
  },
  {
   "metadata": {
    "ExecuteTime": {
     "end_time": "2024-06-09T13:33:20.989744Z",
     "start_time": "2024-06-09T13:33:20.909039Z"
    }
   },
   "cell_type": "code",
   "source": "EP_6_votes_fixed_names.EPG = EP_6_votes_fixed_names.EPG.replace(EPG_rename_dict, regex=False)\n",
   "id": "96fcc194a57d7361",
   "outputs": [],
   "execution_count": 26
  },
  {
   "metadata": {
    "ExecuteTime": {
     "end_time": "2024-06-09T13:33:21.073563Z",
     "start_time": "2024-06-09T13:33:20.989744Z"
    }
   },
   "cell_type": "code",
   "source": [
    "EP_6_votes_fixed_names.EPG.value_counts()\n",
    "{}"
   ],
   "id": "55da3d9b3a771f68",
   "outputs": [
    {
     "data": {
      "text/plain": [
       "EPG\n",
       "EPP-ED        341\n",
       "PES           263\n",
       "ALDE          126\n",
       "UEN            51\n",
       "GUE–NGL        48\n",
       "Greens–EFA     44\n",
       "NI             40\n",
       "IND/DEM        27\n",
       "Name: count, dtype: int64"
      ]
     },
     "execution_count": 27,
     "metadata": {},
     "output_type": "execute_result"
    }
   ],
   "execution_count": 27
  },
  {
   "metadata": {},
   "cell_type": "markdown",
   "source": "Creating a list to filter the non,observation columns from Votes\n",
   "id": "eb07c2a1c891c890"
  },
  {
   "metadata": {
    "ExecuteTime": {
     "end_time": "2024-06-09T13:33:21.155359Z",
     "start_time": "2024-06-09T13:33:21.073563Z"
    }
   },
   "cell_type": "code",
   "source": [
    "filtered_list = ['MepId',\n",
    " 'Fname',\n",
    " 'Lname',\n",
    " 'FullName',\n",
    " 'Activ',\n",
    " 'Country',\n",
    " 'Party',\n",
    " 'EPG',\n",
    " 'Start',\n",
    " 'End']"
   ],
   "id": "d959174efc6c7d6e",
   "outputs": [],
   "execution_count": 28
  },
  {
   "metadata": {},
   "cell_type": "code",
   "outputs": [],
   "execution_count": null,
   "source": "",
   "id": "fe18032b95ea8b01"
  },
  {
   "metadata": {
    "ExecuteTime": {
     "end_time": "2024-06-09T13:34:59.567713Z",
     "start_time": "2024-06-09T13:34:58.937210Z"
    }
   },
   "cell_type": "code",
   "source": "EP_6_votes_fixed_names[~filtered_list]",
   "id": "cb4e49825dd1103a",
   "outputs": [
    {
     "ename": "TypeError",
     "evalue": "bad operand type for unary ~: 'list'",
     "output_type": "error",
     "traceback": [
      "\u001B[1;31m---------------------------------------------------------------------------\u001B[0m",
      "\u001B[1;31mTypeError\u001B[0m                                 Traceback (most recent call last)",
      "Cell \u001B[1;32mIn[30], line 1\u001B[0m\n\u001B[1;32m----> 1\u001B[0m EP_6_votes_fixed_names[\u001B[38;5;241;43m~\u001B[39;49m\u001B[43mfiltered_list\u001B[49m]\n",
      "\u001B[1;31mTypeError\u001B[0m: bad operand type for unary ~: 'list'"
     ]
    }
   ],
   "execution_count": 30
  },
  {
   "metadata": {},
   "cell_type": "markdown",
   "source": "Melting votes into long format",
   "id": "902b84427a8a8520"
  },
  {
   "metadata": {
    "ExecuteTime": {
     "end_time": "2024-06-09T13:35:31.917075Z",
     "start_time": "2024-06-09T13:35:30.765586Z"
    }
   },
   "cell_type": "code",
   "source": [
    "\n",
    "mep_info = EP_6_votes_fixed_names[filtered_list]\n",
    "vote_columns = [col for col in EP_6_votes_fixed_names.columns if col not in filtered_list]\n",
    "melted_votes = pd.melt(EP_6_votes_fixed_names, id_vars='MepId', value_vars=vote_columns, var_name='VoteId', value_name='Vote')\n"
   ],
   "id": "9188747c2b1679b3",
   "outputs": [],
   "execution_count": 31
  },
  {
   "metadata": {
    "ExecuteTime": {
     "end_time": "2024-06-09T13:51:01.534193Z",
     "start_time": "2024-06-09T13:51:01.455712Z"
    }
   },
   "cell_type": "code",
   "source": "mep_info_for_wnominate = mep_info[['MepId','EPG']]",
   "id": "19f387da6713e12a",
   "outputs": [],
   "execution_count": 35
  },
  {
   "metadata": {},
   "cell_type": "code",
   "outputs": [],
   "execution_count": null,
   "source": "",
   "id": "588218012f752aa6"
  },
  {
   "metadata": {
    "ExecuteTime": {
     "end_time": "2024-06-09T14:59:54.984632Z",
     "start_time": "2024-06-09T14:59:54.857776Z"
    }
   },
   "cell_type": "code",
   "source": "wnominate_ep6_votes = EP_6_votes_fixed_names[vote_columns]",
   "id": "9836fe5393d4a95f",
   "outputs": [],
   "execution_count": 44
  },
  {
   "metadata": {
    "ExecuteTime": {
     "end_time": "2024-06-09T14:59:57.442521Z",
     "start_time": "2024-06-09T14:59:57.360991Z"
    }
   },
   "cell_type": "code",
   "source": [
    "def recode(x):\n",
    "    if x in [0, 1, 2]:\n",
    "        return x\n",
    "    else:\n",
    "        return 3"
   ],
   "id": "49759843c7d953e0",
   "outputs": [],
   "execution_count": 45
  },
  {
   "metadata": {
    "ExecuteTime": {
     "end_time": "2024-06-09T15:00:39.188821Z",
     "start_time": "2024-06-09T15:00:36.868349Z"
    }
   },
   "cell_type": "code",
   "source": "wnominate_ep6_votes = wnominate_ep6_votes.map(recode)",
   "id": "93a2d39c10f49134",
   "outputs": [],
   "execution_count": 47
  },
  {
   "metadata": {
    "ExecuteTime": {
     "end_time": "2024-06-04T08:40:58.807906Z",
     "start_time": "2024-06-04T08:40:48.894062Z"
    }
   },
   "cell_type": "code",
   "source": [
    "epg_df = hf.get_epgs()\n",
    "party_df = hf.get_parties()\n",
    "ep_df = hf.generate_ep_df(6)\n",
    "org_df = pd.concat([epg_df, party_df, ep_df], ignore_index=True)"
   ],
   "id": "64e71fd9995ade16",
   "outputs": [],
   "execution_count": 28
  },
  {
   "metadata": {
    "ExecuteTime": {
     "end_time": "2024-06-04T08:40:58.815213Z",
     "start_time": "2024-06-04T08:40:58.809419Z"
    }
   },
   "cell_type": "code",
   "source": "org_df = pd.concat([epg_df, party_df, ep_df], ignore_index=True)",
   "id": "e346fd08915e7b79",
   "outputs": [],
   "execution_count": 29
  },
  {
   "metadata": {
    "ExecuteTime": {
     "end_time": "2024-06-09T20:14:32.043055Z",
     "start_time": "2024-06-09T20:14:31.959858Z"
    }
   },
   "cell_type": "code",
   "source": "mep_info_for_wnominate[mep_info_for_wnominate['EPG']==\"EPP-ED\"]",
   "id": "12dcff154df5373e",
   "outputs": [
    {
     "data": {
      "text/plain": [
       "     MepId     EPG\n",
       "3    28367  EPP-ED\n",
       "9    28276  EPP-ED\n",
       "11   28422  EPP-ED\n",
       "14   28132  EPP-ED\n",
       "16    4537  EPP-ED\n",
       "..     ...     ...\n",
       "932  95014  EPP-ED\n",
       "933  72754  EPP-ED\n",
       "937  95704  EPP-ED\n",
       "938  96101  EPP-ED\n",
       "939  23852  EPP-ED\n",
       "\n",
       "[341 rows x 2 columns]"
      ],
      "text/html": [
       "<div>\n",
       "<style scoped>\n",
       "    .dataframe tbody tr th:only-of-type {\n",
       "        vertical-align: middle;\n",
       "    }\n",
       "\n",
       "    .dataframe tbody tr th {\n",
       "        vertical-align: top;\n",
       "    }\n",
       "\n",
       "    .dataframe thead th {\n",
       "        text-align: right;\n",
       "    }\n",
       "</style>\n",
       "<table border=\"1\" class=\"dataframe\">\n",
       "  <thead>\n",
       "    <tr style=\"text-align: right;\">\n",
       "      <th></th>\n",
       "      <th>MepId</th>\n",
       "      <th>EPG</th>\n",
       "    </tr>\n",
       "  </thead>\n",
       "  <tbody>\n",
       "    <tr>\n",
       "      <th>3</th>\n",
       "      <td>28367</td>\n",
       "      <td>EPP-ED</td>\n",
       "    </tr>\n",
       "    <tr>\n",
       "      <th>9</th>\n",
       "      <td>28276</td>\n",
       "      <td>EPP-ED</td>\n",
       "    </tr>\n",
       "    <tr>\n",
       "      <th>11</th>\n",
       "      <td>28422</td>\n",
       "      <td>EPP-ED</td>\n",
       "    </tr>\n",
       "    <tr>\n",
       "      <th>14</th>\n",
       "      <td>28132</td>\n",
       "      <td>EPP-ED</td>\n",
       "    </tr>\n",
       "    <tr>\n",
       "      <th>16</th>\n",
       "      <td>4537</td>\n",
       "      <td>EPP-ED</td>\n",
       "    </tr>\n",
       "    <tr>\n",
       "      <th>...</th>\n",
       "      <td>...</td>\n",
       "      <td>...</td>\n",
       "    </tr>\n",
       "    <tr>\n",
       "      <th>932</th>\n",
       "      <td>95014</td>\n",
       "      <td>EPP-ED</td>\n",
       "    </tr>\n",
       "    <tr>\n",
       "      <th>933</th>\n",
       "      <td>72754</td>\n",
       "      <td>EPP-ED</td>\n",
       "    </tr>\n",
       "    <tr>\n",
       "      <th>937</th>\n",
       "      <td>95704</td>\n",
       "      <td>EPP-ED</td>\n",
       "    </tr>\n",
       "    <tr>\n",
       "      <th>938</th>\n",
       "      <td>96101</td>\n",
       "      <td>EPP-ED</td>\n",
       "    </tr>\n",
       "    <tr>\n",
       "      <th>939</th>\n",
       "      <td>23852</td>\n",
       "      <td>EPP-ED</td>\n",
       "    </tr>\n",
       "  </tbody>\n",
       "</table>\n",
       "<p>341 rows × 2 columns</p>\n",
       "</div>"
      ]
     },
     "execution_count": 53,
     "metadata": {},
     "output_type": "execute_result"
    }
   ],
   "execution_count": 53
  },
  {
   "metadata": {
    "ExecuteTime": {
     "end_time": "2024-06-04T08:42:27.359371Z",
     "start_time": "2024-06-04T08:41:04.141423Z"
    }
   },
   "cell_type": "code",
   "source": "memberships_df = hf.get_memberships_df(mep_info,org_df)",
   "id": "7b39c885f1c835e6",
   "outputs": [],
   "execution_count": 31
  },
  {
   "metadata": {
    "ExecuteTime": {
     "end_time": "2024-06-04T08:42:34.015349Z",
     "start_time": "2024-06-04T08:42:33.990752Z"
    }
   },
   "cell_type": "code",
   "source": "memberships_df",
   "id": "827e9780e258b520",
   "outputs": [
    {
     "data": {
      "text/plain": [
       "        org_id            membershipClassification memberDuring.startDate  \\\n",
       "0     org/ep-6                                 NaN             2004-07-20   \n",
       "1     org/2615    def/ep-entities/NATIONAL_CHAMBER             2008-11-04   \n",
       "2     org/1550  def/ep-entities/EU_POLITICAL_GROUP             2004-07-20   \n",
       "3     org/1547    def/ep-entities/NATIONAL_CHAMBER             2004-07-20   \n",
       "4     org/ep-6                                 NaN             2004-07-20   \n",
       "...        ...                                 ...                    ...   \n",
       "8406  org/1533  def/ep-entities/EU_POLITICAL_GROUP             2009-03-19   \n",
       "8407  org/1157    def/ep-entities/NATIONAL_CHAMBER             2004-05-01   \n",
       "8408   org/994  def/ep-entities/EU_POLITICAL_GROUP             2004-05-01   \n",
       "8409   org/994  def/ep-entities/EU_POLITICAL_GROUP             2003-04-22   \n",
       "8410  org/1351    def/ep-entities/NATIONAL_CHAMBER             2009-03-19   \n",
       "\n",
       "     memberDuring.endDate                                        citizenship  \\\n",
       "0              2009-07-13  http://publications.europa.eu/resource/authori...   \n",
       "1              2009-07-13  http://publications.europa.eu/resource/authori...   \n",
       "2              2009-07-13  http://publications.europa.eu/resource/authori...   \n",
       "3              2008-11-03  http://publications.europa.eu/resource/authori...   \n",
       "4              2009-07-13  http://publications.europa.eu/resource/authori...   \n",
       "...                   ...                                                ...   \n",
       "8406           2009-07-13  http://publications.europa.eu/resource/authori...   \n",
       "8407           2004-07-19  http://publications.europa.eu/resource/authori...   \n",
       "8408           2004-07-19  http://publications.europa.eu/resource/authori...   \n",
       "8409           2004-04-30  http://publications.europa.eu/resource/authori...   \n",
       "8410           2009-07-13  http://publications.europa.eu/resource/authori...   \n",
       "\n",
       "            bday                                          hasGender  \\\n",
       "0     1932-10-30  http://publications.europa.eu/resource/authori...   \n",
       "1     1932-10-30  http://publications.europa.eu/resource/authori...   \n",
       "2     1932-10-30  http://publications.europa.eu/resource/authori...   \n",
       "3     1932-10-30  http://publications.europa.eu/resource/authori...   \n",
       "4     1955-11-16  http://publications.europa.eu/resource/authori...   \n",
       "...          ...                                                ...   \n",
       "8406  1957-07-26  http://publications.europa.eu/resource/authori...   \n",
       "8407  1957-07-26  http://publications.europa.eu/resource/authori...   \n",
       "8408  1957-07-26  http://publications.europa.eu/resource/authori...   \n",
       "8409  1957-07-26  http://publications.europa.eu/resource/authori...   \n",
       "8410  1957-07-26  http://publications.europa.eu/resource/authori...   \n",
       "\n",
       "      identifier org_label  \n",
       "0          28620       EP6  \n",
       "1          28620         -  \n",
       "2          28620      ALDE  \n",
       "3          28620        LC  \n",
       "4          28213       EP6  \n",
       "...          ...       ...  \n",
       "8406       23852    PPE-DE  \n",
       "8407       23852        JL  \n",
       "8408       23852    PPE-DE  \n",
       "8409       23852    PPE-DE  \n",
       "8410       23852        JL  \n",
       "\n",
       "[8411 rows x 9 columns]"
      ],
      "text/html": [
       "<div>\n",
       "<style scoped>\n",
       "    .dataframe tbody tr th:only-of-type {\n",
       "        vertical-align: middle;\n",
       "    }\n",
       "\n",
       "    .dataframe tbody tr th {\n",
       "        vertical-align: top;\n",
       "    }\n",
       "\n",
       "    .dataframe thead th {\n",
       "        text-align: right;\n",
       "    }\n",
       "</style>\n",
       "<table border=\"1\" class=\"dataframe\">\n",
       "  <thead>\n",
       "    <tr style=\"text-align: right;\">\n",
       "      <th></th>\n",
       "      <th>org_id</th>\n",
       "      <th>membershipClassification</th>\n",
       "      <th>memberDuring.startDate</th>\n",
       "      <th>memberDuring.endDate</th>\n",
       "      <th>citizenship</th>\n",
       "      <th>bday</th>\n",
       "      <th>hasGender</th>\n",
       "      <th>identifier</th>\n",
       "      <th>org_label</th>\n",
       "    </tr>\n",
       "  </thead>\n",
       "  <tbody>\n",
       "    <tr>\n",
       "      <th>0</th>\n",
       "      <td>org/ep-6</td>\n",
       "      <td>NaN</td>\n",
       "      <td>2004-07-20</td>\n",
       "      <td>2009-07-13</td>\n",
       "      <td>http://publications.europa.eu/resource/authori...</td>\n",
       "      <td>1932-10-30</td>\n",
       "      <td>http://publications.europa.eu/resource/authori...</td>\n",
       "      <td>28620</td>\n",
       "      <td>EP6</td>\n",
       "    </tr>\n",
       "    <tr>\n",
       "      <th>1</th>\n",
       "      <td>org/2615</td>\n",
       "      <td>def/ep-entities/NATIONAL_CHAMBER</td>\n",
       "      <td>2008-11-04</td>\n",
       "      <td>2009-07-13</td>\n",
       "      <td>http://publications.europa.eu/resource/authori...</td>\n",
       "      <td>1932-10-30</td>\n",
       "      <td>http://publications.europa.eu/resource/authori...</td>\n",
       "      <td>28620</td>\n",
       "      <td>-</td>\n",
       "    </tr>\n",
       "    <tr>\n",
       "      <th>2</th>\n",
       "      <td>org/1550</td>\n",
       "      <td>def/ep-entities/EU_POLITICAL_GROUP</td>\n",
       "      <td>2004-07-20</td>\n",
       "      <td>2009-07-13</td>\n",
       "      <td>http://publications.europa.eu/resource/authori...</td>\n",
       "      <td>1932-10-30</td>\n",
       "      <td>http://publications.europa.eu/resource/authori...</td>\n",
       "      <td>28620</td>\n",
       "      <td>ALDE</td>\n",
       "    </tr>\n",
       "    <tr>\n",
       "      <th>3</th>\n",
       "      <td>org/1547</td>\n",
       "      <td>def/ep-entities/NATIONAL_CHAMBER</td>\n",
       "      <td>2004-07-20</td>\n",
       "      <td>2008-11-03</td>\n",
       "      <td>http://publications.europa.eu/resource/authori...</td>\n",
       "      <td>1932-10-30</td>\n",
       "      <td>http://publications.europa.eu/resource/authori...</td>\n",
       "      <td>28620</td>\n",
       "      <td>LC</td>\n",
       "    </tr>\n",
       "    <tr>\n",
       "      <th>4</th>\n",
       "      <td>org/ep-6</td>\n",
       "      <td>NaN</td>\n",
       "      <td>2004-07-20</td>\n",
       "      <td>2009-07-13</td>\n",
       "      <td>http://publications.europa.eu/resource/authori...</td>\n",
       "      <td>1955-11-16</td>\n",
       "      <td>http://publications.europa.eu/resource/authori...</td>\n",
       "      <td>28213</td>\n",
       "      <td>EP6</td>\n",
       "    </tr>\n",
       "    <tr>\n",
       "      <th>...</th>\n",
       "      <td>...</td>\n",
       "      <td>...</td>\n",
       "      <td>...</td>\n",
       "      <td>...</td>\n",
       "      <td>...</td>\n",
       "      <td>...</td>\n",
       "      <td>...</td>\n",
       "      <td>...</td>\n",
       "      <td>...</td>\n",
       "    </tr>\n",
       "    <tr>\n",
       "      <th>8406</th>\n",
       "      <td>org/1533</td>\n",
       "      <td>def/ep-entities/EU_POLITICAL_GROUP</td>\n",
       "      <td>2009-03-19</td>\n",
       "      <td>2009-07-13</td>\n",
       "      <td>http://publications.europa.eu/resource/authori...</td>\n",
       "      <td>1957-07-26</td>\n",
       "      <td>http://publications.europa.eu/resource/authori...</td>\n",
       "      <td>23852</td>\n",
       "      <td>PPE-DE</td>\n",
       "    </tr>\n",
       "    <tr>\n",
       "      <th>8407</th>\n",
       "      <td>org/1157</td>\n",
       "      <td>def/ep-entities/NATIONAL_CHAMBER</td>\n",
       "      <td>2004-05-01</td>\n",
       "      <td>2004-07-19</td>\n",
       "      <td>http://publications.europa.eu/resource/authori...</td>\n",
       "      <td>1957-07-26</td>\n",
       "      <td>http://publications.europa.eu/resource/authori...</td>\n",
       "      <td>23852</td>\n",
       "      <td>JL</td>\n",
       "    </tr>\n",
       "    <tr>\n",
       "      <th>8408</th>\n",
       "      <td>org/994</td>\n",
       "      <td>def/ep-entities/EU_POLITICAL_GROUP</td>\n",
       "      <td>2004-05-01</td>\n",
       "      <td>2004-07-19</td>\n",
       "      <td>http://publications.europa.eu/resource/authori...</td>\n",
       "      <td>1957-07-26</td>\n",
       "      <td>http://publications.europa.eu/resource/authori...</td>\n",
       "      <td>23852</td>\n",
       "      <td>PPE-DE</td>\n",
       "    </tr>\n",
       "    <tr>\n",
       "      <th>8409</th>\n",
       "      <td>org/994</td>\n",
       "      <td>def/ep-entities/EU_POLITICAL_GROUP</td>\n",
       "      <td>2003-04-22</td>\n",
       "      <td>2004-04-30</td>\n",
       "      <td>http://publications.europa.eu/resource/authori...</td>\n",
       "      <td>1957-07-26</td>\n",
       "      <td>http://publications.europa.eu/resource/authori...</td>\n",
       "      <td>23852</td>\n",
       "      <td>PPE-DE</td>\n",
       "    </tr>\n",
       "    <tr>\n",
       "      <th>8410</th>\n",
       "      <td>org/1351</td>\n",
       "      <td>def/ep-entities/NATIONAL_CHAMBER</td>\n",
       "      <td>2009-03-19</td>\n",
       "      <td>2009-07-13</td>\n",
       "      <td>http://publications.europa.eu/resource/authori...</td>\n",
       "      <td>1957-07-26</td>\n",
       "      <td>http://publications.europa.eu/resource/authori...</td>\n",
       "      <td>23852</td>\n",
       "      <td>JL</td>\n",
       "    </tr>\n",
       "  </tbody>\n",
       "</table>\n",
       "<p>8411 rows × 9 columns</p>\n",
       "</div>"
      ]
     },
     "execution_count": 32,
     "metadata": {},
     "output_type": "execute_result"
    }
   ],
   "execution_count": 32
  },
  {
   "metadata": {
    "ExecuteTime": {
     "end_time": "2024-06-04T08:55:31.378489Z",
     "start_time": "2024-06-04T08:55:31.360488Z"
    }
   },
   "cell_type": "code",
   "source": "",
   "id": "76682f7b9c3bcd19",
   "outputs": [
    {
     "ename": "AttributeError",
     "evalue": "module 'helperfunctions' has no attribute 'reload'",
     "output_type": "error",
     "traceback": [
      "\u001B[1;31m---------------------------------------------------------------------------\u001B[0m",
      "\u001B[1;31mAttributeError\u001B[0m                            Traceback (most recent call last)",
      "Cell \u001B[1;32mIn[44], line 1\u001B[0m\n\u001B[1;32m----> 1\u001B[0m \u001B[43mhf\u001B[49m\u001B[38;5;241;43m.\u001B[39;49m\u001B[43mreload\u001B[49m(hf)\n",
      "\u001B[1;31mAttributeError\u001B[0m: module 'helperfunctions' has no attribute 'reload'"
     ]
    }
   ],
   "execution_count": 44
  },
  {
   "metadata": {
    "ExecuteTime": {
     "end_time": "2024-06-04T09:05:06.776704Z",
     "start_time": "2024-06-04T09:05:02.039112Z"
    }
   },
   "cell_type": "code",
   "source": "mep_info_db = hf.get_mep_database(mep_info,memberships_df)",
   "id": "1b23886405665ee9",
   "outputs": [],
   "execution_count": 57
  },
  {
   "metadata": {
    "ExecuteTime": {
     "end_time": "2024-06-04T08:47:58.462985Z",
     "start_time": "2024-06-04T08:47:58.454532Z"
    }
   },
   "cell_type": "code",
   "source": [
    "votings_filtered_list = [\n",
    "    \"VoteId\" \n",
    "    ,\"Date\" \n",
    "    ,\"Title\"\n",
    "    ,\"TypeOfVote\"\n",
    "    ,\"Rapporteur\"\n",
    "    ,\"Link\"\n",
    "    ,\"CommitteeResponsabile\"\n",
    "    ,'Subject'\n",
    "    ,'FinalVote' \n",
    "    ,'AmNo'\n",
    "    ,'Author'\n",
    "    ,'Vote'   \n",
    "    ,'Yes'\n",
    "    ,'No' \n",
    "    ,'Abs']"
   ],
   "id": "8913e29ec4611ac7",
   "outputs": [],
   "execution_count": 33
  },
  {
   "metadata": {
    "ExecuteTime": {
     "end_time": "2024-06-04T08:49:01.958935Z",
     "start_time": "2024-06-04T08:49:01.947635Z"
    }
   },
   "cell_type": "code",
   "source": "votings = EP_6_votations_column_names_good[votings_filtered_list]",
   "id": "46b75cdf90bd0354",
   "outputs": [],
   "execution_count": 34
  },
  {
   "metadata": {
    "ExecuteTime": {
     "end_time": "2024-06-04T08:49:18.685188Z",
     "start_time": "2024-06-04T08:49:18.677152Z"
    }
   },
   "cell_type": "code",
   "source": "votings.dtypes",
   "id": "8b1ef3081bc0f64a",
   "outputs": [
    {
     "data": {
      "text/plain": [
       "VoteId                            int64\n",
       "Date                     datetime64[ns]\n",
       "Title                            object\n",
       "TypeOfVote                       object\n",
       "Rapporteur                       object\n",
       "Link                             object\n",
       "CommitteeResponsabile            object\n",
       "Subject                          object\n",
       "FinalVote                         int64\n",
       "AmNo                             object\n",
       "Author                           object\n",
       "Vote                              Int64\n",
       "Yes                               Int64\n",
       "No                                Int64\n",
       "Abs                               Int64\n",
       "dtype: object"
      ]
     },
     "execution_count": 36,
     "metadata": {},
     "output_type": "execute_result"
    }
   ],
   "execution_count": 36
  },
  {
   "metadata": {
    "ExecuteTime": {
     "end_time": "2024-04-17T18:21:03.461837Z",
     "start_time": "2024-04-17T18:21:02.387572Z"
    }
   },
   "cell_type": "code",
   "source": "melted_votes.VoteId = melted_votes.VoteId.astype('Int64')",
   "id": "24c12c8104c0996b",
   "outputs": [],
   "execution_count": 29
  },
  {
   "metadata": {},
   "cell_type": "markdown",
   "source": "Saving files to .csv",
   "id": "d2ffcc4598bd8a6"
  },
  {
   "metadata": {
    "ExecuteTime": {
     "end_time": "2024-06-09T13:51:16.500157Z",
     "start_time": "2024-06-09T13:51:16.421294Z"
    }
   },
   "cell_type": "code",
   "source": [
    "base_directory = os.path.join(\"Cleaned_data\",\"EP6_clean_data\")\n",
    "os.makedirs(base_directory, exist_ok=True)\n",
    "\n"
   ],
   "id": "6b19b09fc7561fc7",
   "outputs": [],
   "execution_count": 37
  },
  {
   "metadata": {
    "ExecuteTime": {
     "end_time": "2024-06-09T15:00:49.858589Z",
     "start_time": "2024-06-09T15:00:48.378819Z"
    }
   },
   "cell_type": "code",
   "source": [
    "wnominate_ep6_votes.to_csv(os.path.join(base_directory,\"wnominate_ep6_votes.csv\"),index=False)\n",
    "mep_info_for_wnominate.to_csv(os.path.join(base_directory,\"mep_info_for_wnominate.csv\"),index=False)"
   ],
   "id": "c36fc5629ad193e1",
   "outputs": [],
   "execution_count": 48
  },
  {
   "metadata": {
    "ExecuteTime": {
     "end_time": "2024-06-04T09:09:47.806191Z",
     "start_time": "2024-06-04T09:09:43.284182Z"
    }
   },
   "cell_type": "code",
   "source": [
    "mep_info_db.to_csv(os.path.join(base_directory,\"mep_info_EP_6.csv\"),index=False)\n",
    "melted_votes.to_csv(os.path.join(base_directory,\"votes_EP_6.csv\"),index=False)\n",
    "votings.to_csv(os.path.join(base_directory,\"votings_EP_6.csv\"),index=False)\n",
    "memberships_df.to_csv(os.path.join(base_directory,\"memberships_EP_6.csv\"),index=False)\n"
   ],
   "id": "1cbfc676c40a2eaa",
   "outputs": [],
   "execution_count": 59
  },
  {
   "metadata": {},
   "cell_type": "code",
   "outputs": [],
   "execution_count": null,
   "source": "",
   "id": "e42f5b39e1ef7bd2"
  }
 ],
 "metadata": {
  "kernelspec": {
   "display_name": "Python 3",
   "language": "python",
   "name": "python3"
  },
  "language_info": {
   "codemirror_mode": {
    "name": "ipython",
    "version": 2
   },
   "file_extension": ".py",
   "mimetype": "text/x-python",
   "name": "python",
   "nbconvert_exporter": "python",
   "pygments_lexer": "ipython2",
   "version": "2.7.6"
  }
 },
 "nbformat": 4,
 "nbformat_minor": 5
}
