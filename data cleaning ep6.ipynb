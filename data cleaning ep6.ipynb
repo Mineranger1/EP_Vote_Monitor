{
 "cells": [
  {
   "cell_type": "code",
   "id": "initial_id",
   "metadata": {
    "collapsed": true,
    "ExecuteTime": {
     "end_time": "2024-04-17T18:15:47.058778Z",
     "start_time": "2024-04-17T18:15:46.397031Z"
    }
   },
   "source": [
    "#Importing packages\n",
    "\n",
    "import numpy as np\n",
    "import pandas as pd\n",
    "import requests\n",
    "import glob\n",
    "import openpyxl\n",
    "import os"
   ],
   "outputs": [],
   "execution_count": 1
  },
  {
   "metadata": {},
   "cell_type": "markdown",
   "source": "Creating relative paths",
   "id": "5c8d28fbbdaf5e67"
  },
  {
   "metadata": {
    "ExecuteTime": {
     "end_time": "2024-04-17T12:53:25.054297Z",
     "start_time": "2024-04-17T12:53:25.048805Z"
    }
   },
   "cell_type": "code",
   "source": [
    "#creating relative paths\n",
    "votes = os.path.join(\"VoteWatch-EP-voting-data_2004-2022\", \"EP6_RCVs_2022_06_13.xlsx\")\n",
    "votations = os.path.join(\"VoteWatch-EP-voting-data_2004-2022\",\"EP6_Voted docs.xlsx\")\n"
   ],
   "id": "ff8c185e3323d4fd",
   "outputs": [],
   "execution_count": 125
  },
  {
   "metadata": {},
   "cell_type": "markdown",
   "source": "Importing data from EU API (for correct names)",
   "id": "28d1bba418253e6f"
  },
  {
   "metadata": {
    "ExecuteTime": {
     "end_time": "2024-04-17T12:53:32.312126Z",
     "start_time": "2024-04-17T12:53:26.039984Z"
    }
   },
   "cell_type": "code",
   "source": [
    "\n",
    "url = 'https://data.europarl.europa.eu/api/v2/meps?parliamentary-term=6&format=application%2Fld%2Bjson&offset=0'\n",
    "response = requests.get(url)\n",
    "meps_data = response.json()"
   ],
   "id": "56e2ab3791d910be",
   "outputs": [],
   "execution_count": 126
  },
  {
   "metadata": {},
   "cell_type": "markdown",
   "source": "Creating DataFrames (runtime is quite long, .xlsx files)",
   "id": "b9e6cb128b140637"
  },
  {
   "metadata": {
    "ExecuteTime": {
     "end_time": "2024-04-17T12:55:50.603954Z",
     "start_time": "2024-04-17T12:54:39.487648Z"
    }
   },
   "cell_type": "code",
   "source": [
    "\n",
    "meps_df_6 = pd.json_normalize(meps_data['data'])\n",
    "EP_6_votes = pd.read_excel(votes)\n",
    "EP_6_votations = pd.read_excel(votations)"
   ],
   "id": "a700b9c4fd4163e2",
   "outputs": [
    {
     "ename": "KeyboardInterrupt",
     "evalue": "",
     "output_type": "error",
     "traceback": [
      "\u001B[1;31m---------------------------------------------------------------------------\u001B[0m",
      "\u001B[1;31mKeyboardInterrupt\u001B[0m                         Traceback (most recent call last)",
      "Cell \u001B[1;32mIn[146], line 2\u001B[0m\n\u001B[0;32m      1\u001B[0m \u001B[38;5;66;03m# pydev_debug_cell\u001B[39;00m\n\u001B[1;32m----> 2\u001B[0m meps_df_6 \u001B[38;5;241m=\u001B[39m \u001B[43mpd\u001B[49m\u001B[38;5;241m.\u001B[39mjson_normalize(meps_data[\u001B[38;5;124m'\u001B[39m\u001B[38;5;124mdata\u001B[39m\u001B[38;5;124m'\u001B[39m])\n\u001B[0;32m      3\u001B[0m EP_6_votes \u001B[38;5;241m=\u001B[39m pd\u001B[38;5;241m.\u001B[39mread_excel(votes)\n\u001B[0;32m      4\u001B[0m EP_6_votations \u001B[38;5;241m=\u001B[39m pd\u001B[38;5;241m.\u001B[39mread_excel(votations)\n",
      "File \u001B[1;32m_pydevd_bundle\\\\pydevd_cython_win32_312_64.pyx:1187\u001B[0m, in \u001B[0;36m_pydevd_bundle.pydevd_cython_win32_312_64.SafeCallWrapper.__call__\u001B[1;34m()\u001B[0m\n",
      "File \u001B[1;32m_pydevd_bundle\\\\pydevd_cython_win32_312_64.pyx:627\u001B[0m, in \u001B[0;36m_pydevd_bundle.pydevd_cython_win32_312_64.PyDBFrame.trace_dispatch\u001B[1;34m()\u001B[0m\n",
      "File \u001B[1;32m_pydevd_bundle\\\\pydevd_cython_win32_312_64.pyx:937\u001B[0m, in \u001B[0;36m_pydevd_bundle.pydevd_cython_win32_312_64.PyDBFrame.trace_dispatch\u001B[1;34m()\u001B[0m\n",
      "File \u001B[1;32m_pydevd_bundle\\\\pydevd_cython_win32_312_64.pyx:928\u001B[0m, in \u001B[0;36m_pydevd_bundle.pydevd_cython_win32_312_64.PyDBFrame.trace_dispatch\u001B[1;34m()\u001B[0m\n",
      "File \u001B[1;32m_pydevd_bundle\\\\pydevd_cython_win32_312_64.pyx:585\u001B[0m, in \u001B[0;36m_pydevd_bundle.pydevd_cython_win32_312_64.PyDBFrame.do_wait_suspend\u001B[1;34m()\u001B[0m\n",
      "File \u001B[1;32mD:\\PyCharm 2024.1\\plugins\\python\\helpers\\pydev\\pydevd.py:1185\u001B[0m, in \u001B[0;36mPyDB.do_wait_suspend\u001B[1;34m(self, thread, frame, event, arg, send_suspend_message, is_unhandled_exception)\u001B[0m\n\u001B[0;32m   1182\u001B[0m         from_this_thread\u001B[38;5;241m.\u001B[39mappend(frame_id)\n\u001B[0;32m   1184\u001B[0m \u001B[38;5;28;01mwith\u001B[39;00m \u001B[38;5;28mself\u001B[39m\u001B[38;5;241m.\u001B[39m_threads_suspended_single_notification\u001B[38;5;241m.\u001B[39mnotify_thread_suspended(thread_id, stop_reason):\n\u001B[1;32m-> 1185\u001B[0m     \u001B[38;5;28;43mself\u001B[39;49m\u001B[38;5;241;43m.\u001B[39;49m\u001B[43m_do_wait_suspend\u001B[49m\u001B[43m(\u001B[49m\u001B[43mthread\u001B[49m\u001B[43m,\u001B[49m\u001B[43m \u001B[49m\u001B[43mframe\u001B[49m\u001B[43m,\u001B[49m\u001B[43m \u001B[49m\u001B[43mevent\u001B[49m\u001B[43m,\u001B[49m\u001B[43m \u001B[49m\u001B[43marg\u001B[49m\u001B[43m,\u001B[49m\u001B[43m \u001B[49m\u001B[43msuspend_type\u001B[49m\u001B[43m,\u001B[49m\u001B[43m \u001B[49m\u001B[43mfrom_this_thread\u001B[49m\u001B[43m)\u001B[49m\n",
      "File \u001B[1;32mD:\\PyCharm 2024.1\\plugins\\python\\helpers\\pydev\\pydevd.py:1200\u001B[0m, in \u001B[0;36mPyDB._do_wait_suspend\u001B[1;34m(self, thread, frame, event, arg, suspend_type, from_this_thread)\u001B[0m\n\u001B[0;32m   1197\u001B[0m             \u001B[38;5;28mself\u001B[39m\u001B[38;5;241m.\u001B[39m_call_mpl_hook()\n\u001B[0;32m   1199\u001B[0m         \u001B[38;5;28mself\u001B[39m\u001B[38;5;241m.\u001B[39mprocess_internal_commands()\n\u001B[1;32m-> 1200\u001B[0m         \u001B[43mtime\u001B[49m\u001B[38;5;241;43m.\u001B[39;49m\u001B[43msleep\u001B[49m\u001B[43m(\u001B[49m\u001B[38;5;241;43m0.01\u001B[39;49m\u001B[43m)\u001B[49m\n\u001B[0;32m   1202\u001B[0m \u001B[38;5;28mself\u001B[39m\u001B[38;5;241m.\u001B[39mcancel_async_evaluation(get_current_thread_id(thread), \u001B[38;5;28mstr\u001B[39m(\u001B[38;5;28mid\u001B[39m(frame)))\n\u001B[0;32m   1204\u001B[0m \u001B[38;5;66;03m# process any stepping instructions\u001B[39;00m\n",
      "\u001B[1;31mKeyboardInterrupt\u001B[0m: "
     ]
    }
   ],
   "execution_count": 146
  },
  {
   "metadata": {},
   "cell_type": "markdown",
   "source": "Inspecting the data",
   "id": "72034274dcbeb73f"
  },
  {
   "metadata": {
    "ExecuteTime": {
     "end_time": "2024-04-17T12:54:39.138836Z",
     "start_time": "2024-04-17T12:54:39.129884Z"
    }
   },
   "cell_type": "code",
   "source": "meps_df_6.head()",
   "id": "7fa55017b23846e1",
   "outputs": [
    {
     "data": {
      "text/plain": [
       "             id    type identifier                  label  familyName  \\\n",
       "0   person/2278  Person       2278             Paul RÜBIG       Rübig   \n",
       "1  person/28196  Person      28196       Irena BELOHORSKÁ  Belohorská   \n",
       "2   person/4436  Person       4436        Gianni PITTELLA    Pittella   \n",
       "3  person/39713  Person      39713           Renate WEBER       Weber   \n",
       "4  person/34482  Person      34482  Alexandru-Ioan MORȚUN      Morțun   \n",
       "\n",
       "        givenName    sortLabel officialFamilyName officialGivenName  \n",
       "0            Paul        RUBIG                NaN               NaN  \n",
       "1           Irena   BELOHORSKA                NaN               NaN  \n",
       "2          Gianni     PITTELLA                NaN               NaN  \n",
       "3          Renate  WEBERRENATE                NaN               NaN  \n",
       "4  Alexandru-Ioan       MORTUN                NaN               NaN  "
      ],
      "text/html": [
       "<div>\n",
       "<style scoped>\n",
       "    .dataframe tbody tr th:only-of-type {\n",
       "        vertical-align: middle;\n",
       "    }\n",
       "\n",
       "    .dataframe tbody tr th {\n",
       "        vertical-align: top;\n",
       "    }\n",
       "\n",
       "    .dataframe thead th {\n",
       "        text-align: right;\n",
       "    }\n",
       "</style>\n",
       "<table border=\"1\" class=\"dataframe\">\n",
       "  <thead>\n",
       "    <tr style=\"text-align: right;\">\n",
       "      <th></th>\n",
       "      <th>id</th>\n",
       "      <th>type</th>\n",
       "      <th>identifier</th>\n",
       "      <th>label</th>\n",
       "      <th>familyName</th>\n",
       "      <th>givenName</th>\n",
       "      <th>sortLabel</th>\n",
       "      <th>officialFamilyName</th>\n",
       "      <th>officialGivenName</th>\n",
       "    </tr>\n",
       "  </thead>\n",
       "  <tbody>\n",
       "    <tr>\n",
       "      <th>0</th>\n",
       "      <td>person/2278</td>\n",
       "      <td>Person</td>\n",
       "      <td>2278</td>\n",
       "      <td>Paul RÜBIG</td>\n",
       "      <td>Rübig</td>\n",
       "      <td>Paul</td>\n",
       "      <td>RUBIG</td>\n",
       "      <td>NaN</td>\n",
       "      <td>NaN</td>\n",
       "    </tr>\n",
       "    <tr>\n",
       "      <th>1</th>\n",
       "      <td>person/28196</td>\n",
       "      <td>Person</td>\n",
       "      <td>28196</td>\n",
       "      <td>Irena BELOHORSKÁ</td>\n",
       "      <td>Belohorská</td>\n",
       "      <td>Irena</td>\n",
       "      <td>BELOHORSKA</td>\n",
       "      <td>NaN</td>\n",
       "      <td>NaN</td>\n",
       "    </tr>\n",
       "    <tr>\n",
       "      <th>2</th>\n",
       "      <td>person/4436</td>\n",
       "      <td>Person</td>\n",
       "      <td>4436</td>\n",
       "      <td>Gianni PITTELLA</td>\n",
       "      <td>Pittella</td>\n",
       "      <td>Gianni</td>\n",
       "      <td>PITTELLA</td>\n",
       "      <td>NaN</td>\n",
       "      <td>NaN</td>\n",
       "    </tr>\n",
       "    <tr>\n",
       "      <th>3</th>\n",
       "      <td>person/39713</td>\n",
       "      <td>Person</td>\n",
       "      <td>39713</td>\n",
       "      <td>Renate WEBER</td>\n",
       "      <td>Weber</td>\n",
       "      <td>Renate</td>\n",
       "      <td>WEBERRENATE</td>\n",
       "      <td>NaN</td>\n",
       "      <td>NaN</td>\n",
       "    </tr>\n",
       "    <tr>\n",
       "      <th>4</th>\n",
       "      <td>person/34482</td>\n",
       "      <td>Person</td>\n",
       "      <td>34482</td>\n",
       "      <td>Alexandru-Ioan MORȚUN</td>\n",
       "      <td>Morțun</td>\n",
       "      <td>Alexandru-Ioan</td>\n",
       "      <td>MORTUN</td>\n",
       "      <td>NaN</td>\n",
       "      <td>NaN</td>\n",
       "    </tr>\n",
       "  </tbody>\n",
       "</table>\n",
       "</div>"
      ]
     },
     "execution_count": 128,
     "metadata": {},
     "output_type": "execute_result"
    }
   ],
   "execution_count": 128
  },
  {
   "metadata": {},
   "cell_type": "markdown",
   "source": "Dropping irrelevant columns (to discuss)",
   "id": "f7b2a219a25e765a"
  },
  {
   "metadata": {
    "ExecuteTime": {
     "end_time": "2024-04-17T12:54:39.143918Z",
     "start_time": "2024-04-17T12:54:39.138836Z"
    }
   },
   "cell_type": "code",
   "source": "meps_df_6.drop(columns=['id','type','sortLabel','officialFamilyName','officialGivenName'],inplace=True)",
   "id": "c6f61c20e4efa52d",
   "outputs": [],
   "execution_count": 129
  },
  {
   "metadata": {},
   "cell_type": "markdown",
   "source": "Renaming variables for pd.merge and correcting datatype",
   "id": "5ad859647648b705"
  },
  {
   "metadata": {
    "ExecuteTime": {
     "end_time": "2024-04-17T12:54:39.155176Z",
     "start_time": "2024-04-17T12:54:39.148278Z"
    }
   },
   "cell_type": "code",
   "source": [
    "meps_df_6.rename(columns={'identifier': 'MepId'},inplace=True)\n",
    "EP_6_votes.rename(columns={'WebisteEpID': 'MepId'},inplace=True)\n",
    "meps_df_6.MepId = meps_df_6.MepId.astype(int)"
   ],
   "id": "bee4a902600f3e6d",
   "outputs": [],
   "execution_count": 130
  },
  {
   "metadata": {},
   "cell_type": "markdown",
   "source": "Merging ",
   "id": "2e367140da9d99b4"
  },
  {
   "metadata": {
    "ExecuteTime": {
     "end_time": "2024-04-17T12:54:39.172770Z",
     "start_time": "2024-04-17T12:54:39.155176Z"
    }
   },
   "cell_type": "code",
   "source": "EP_6_votes_fixed_names = pd.merge(EP_6_votes,meps_df_6 , on='MepId', how='left')",
   "id": "150e98bdf525da4f",
   "outputs": [],
   "execution_count": 131
  },
  {
   "metadata": {},
   "cell_type": "markdown",
   "source": "Updating names of MPs",
   "id": "b22ecf8eb5961628"
  },
  {
   "metadata": {
    "ExecuteTime": {
     "end_time": "2024-04-17T12:54:39.191167Z",
     "start_time": "2024-04-17T12:54:39.172770Z"
    }
   },
   "cell_type": "code",
   "source": [
    "EP_6_votes_fixed_names[['Fname','Lname','FullName']] = EP_6_votes_fixed_names[['givenName','familyName','label']]\n",
    "EP_6_votes_fixed_names.drop(columns=['label','familyName','givenName'],inplace=True)"
   ],
   "id": "f0e5b6b1c37d2629",
   "outputs": [],
   "execution_count": 132
  },
  {
   "metadata": {},
   "cell_type": "markdown",
   "source": "Encoding missing party names",
   "id": "3cf8d91faf156b8a"
  },
  {
   "metadata": {
    "ExecuteTime": {
     "end_time": "2024-04-17T12:54:39.197987Z",
     "start_time": "2024-04-17T12:54:39.191167Z"
    }
   },
   "cell_type": "code",
   "source": "EP_6_votes_fixed_names.Party = EP_6_votes_fixed_names.Party.replace({\".\":np.NAN,\"--\":np.NAN})",
   "id": "dd3cd2b86adc1265",
   "outputs": [],
   "execution_count": 133
  },
  {
   "metadata": {},
   "cell_type": "markdown",
   "source": "Votations dataset inspection",
   "id": "91f7e71eb8c3c4c4"
  },
  {
   "metadata": {
    "ExecuteTime": {
     "end_time": "2024-04-17T12:54:39.213036Z",
     "start_time": "2024-04-17T12:54:39.197987Z"
    }
   },
   "cell_type": "code",
   "source": "EP_6_votations.head()",
   "id": "ce8e118eeda0131",
   "outputs": [
    {
     "data": {
      "text/plain": [
       "   euro_act_id                 date                            title  \\\n",
       "0            1  2004-09-15 00:00:00   EU-Mauritius fishing agreement   \n",
       "1            2  2004-09-15 00:00:00   EU-Mauritius fishing agreement   \n",
       "2            3  2004-09-15 00:00:00  EU-Madagascar Fishing agreement   \n",
       "3            4  2004-09-15 00:00:00  EU-Madagascar Fishing agreement   \n",
       "4            5  2004-09-15 00:00:00  EU-Cape Verde Fishing agreement   \n",
       "\n",
       "  procedure reading                                     type_of_vote  \\\n",
       "0     CNS *     Leg        Amended proposal for a Council regulation   \n",
       "1     CNS *     Leg  Legislative resolution for a Council regulation   \n",
       "2     CNS *     Leg        Amended proposal for a Council regulation   \n",
       "3     CNS *     Leg  Legislative resolution for a Council regulation   \n",
       "4     CNS *     Leg        Amended proposal for a Council regulation   \n",
       "\n",
       "                                   type_of_vote_en rule          raporteur  \\\n",
       "0        Amended proposal for a Council regulation    s  Morillon Philippe   \n",
       "1  Legislative resolution for a Council regulation    s  Morillon Philippe   \n",
       "2        Amended proposal for a Council regulation    s  Morillon Philippe   \n",
       "3  Legislative resolution for a Council regulation    s  Morillon Philippe   \n",
       "4        Amended proposal for a Council regulation    s  Morillon Philippe   \n",
       "\n",
       "                                                 url  ... final_vote  \\\n",
       "0  http://www.europarl.europa.eu/sides/getDoc.do?...  ...          0   \n",
       "1  http://www.europarl.europa.eu/sides/getDoc.do?...  ...          1   \n",
       "2  http://www.europarl.europa.eu/sides/getDoc.do?...  ...          0   \n",
       "3  http://www.europarl.europa.eu/sides/getDoc.do?...  ...          0   \n",
       "4  http://www.europarl.europa.eu/sides/getDoc.do?...  ...          0   \n",
       "\n",
       "  author_name am_no  result_code  yes    no abstain  did_not_vote  absent  \\\n",
       "0           0   NaN            +  405  63.0    73.0             0       0   \n",
       "1           0   NaN            +  415  56.0    67.0             0       0   \n",
       "2           0   NaN            +  504  79.0    84.0             0       0   \n",
       "3           0   NaN            +  507  68.0    86.0             0       0   \n",
       "4           0   NaN            +  495  74.0   104.0             0       0   \n",
       "\n",
       "   absent_motivated  \n",
       "0                 0  \n",
       "1                 0  \n",
       "2                 0  \n",
       "3                 0  \n",
       "4                 0  \n",
       "\n",
       "[5 rows x 23 columns]"
      ],
      "text/html": [
       "<div>\n",
       "<style scoped>\n",
       "    .dataframe tbody tr th:only-of-type {\n",
       "        vertical-align: middle;\n",
       "    }\n",
       "\n",
       "    .dataframe tbody tr th {\n",
       "        vertical-align: top;\n",
       "    }\n",
       "\n",
       "    .dataframe thead th {\n",
       "        text-align: right;\n",
       "    }\n",
       "</style>\n",
       "<table border=\"1\" class=\"dataframe\">\n",
       "  <thead>\n",
       "    <tr style=\"text-align: right;\">\n",
       "      <th></th>\n",
       "      <th>euro_act_id</th>\n",
       "      <th>date</th>\n",
       "      <th>title</th>\n",
       "      <th>procedure</th>\n",
       "      <th>reading</th>\n",
       "      <th>type_of_vote</th>\n",
       "      <th>type_of_vote_en</th>\n",
       "      <th>rule</th>\n",
       "      <th>raporteur</th>\n",
       "      <th>url</th>\n",
       "      <th>...</th>\n",
       "      <th>final_vote</th>\n",
       "      <th>author_name</th>\n",
       "      <th>am_no</th>\n",
       "      <th>result_code</th>\n",
       "      <th>yes</th>\n",
       "      <th>no</th>\n",
       "      <th>abstain</th>\n",
       "      <th>did_not_vote</th>\n",
       "      <th>absent</th>\n",
       "      <th>absent_motivated</th>\n",
       "    </tr>\n",
       "  </thead>\n",
       "  <tbody>\n",
       "    <tr>\n",
       "      <th>0</th>\n",
       "      <td>1</td>\n",
       "      <td>2004-09-15 00:00:00</td>\n",
       "      <td>EU-Mauritius fishing agreement</td>\n",
       "      <td>CNS *</td>\n",
       "      <td>Leg</td>\n",
       "      <td>Amended proposal for a Council regulation</td>\n",
       "      <td>Amended proposal for a Council regulation</td>\n",
       "      <td>s</td>\n",
       "      <td>Morillon Philippe</td>\n",
       "      <td>http://www.europarl.europa.eu/sides/getDoc.do?...</td>\n",
       "      <td>...</td>\n",
       "      <td>0</td>\n",
       "      <td>0</td>\n",
       "      <td>NaN</td>\n",
       "      <td>+</td>\n",
       "      <td>405</td>\n",
       "      <td>63.0</td>\n",
       "      <td>73.0</td>\n",
       "      <td>0</td>\n",
       "      <td>0</td>\n",
       "      <td>0</td>\n",
       "    </tr>\n",
       "    <tr>\n",
       "      <th>1</th>\n",
       "      <td>2</td>\n",
       "      <td>2004-09-15 00:00:00</td>\n",
       "      <td>EU-Mauritius fishing agreement</td>\n",
       "      <td>CNS *</td>\n",
       "      <td>Leg</td>\n",
       "      <td>Legislative resolution for a Council regulation</td>\n",
       "      <td>Legislative resolution for a Council regulation</td>\n",
       "      <td>s</td>\n",
       "      <td>Morillon Philippe</td>\n",
       "      <td>http://www.europarl.europa.eu/sides/getDoc.do?...</td>\n",
       "      <td>...</td>\n",
       "      <td>1</td>\n",
       "      <td>0</td>\n",
       "      <td>NaN</td>\n",
       "      <td>+</td>\n",
       "      <td>415</td>\n",
       "      <td>56.0</td>\n",
       "      <td>67.0</td>\n",
       "      <td>0</td>\n",
       "      <td>0</td>\n",
       "      <td>0</td>\n",
       "    </tr>\n",
       "    <tr>\n",
       "      <th>2</th>\n",
       "      <td>3</td>\n",
       "      <td>2004-09-15 00:00:00</td>\n",
       "      <td>EU-Madagascar Fishing agreement</td>\n",
       "      <td>CNS *</td>\n",
       "      <td>Leg</td>\n",
       "      <td>Amended proposal for a Council regulation</td>\n",
       "      <td>Amended proposal for a Council regulation</td>\n",
       "      <td>s</td>\n",
       "      <td>Morillon Philippe</td>\n",
       "      <td>http://www.europarl.europa.eu/sides/getDoc.do?...</td>\n",
       "      <td>...</td>\n",
       "      <td>0</td>\n",
       "      <td>0</td>\n",
       "      <td>NaN</td>\n",
       "      <td>+</td>\n",
       "      <td>504</td>\n",
       "      <td>79.0</td>\n",
       "      <td>84.0</td>\n",
       "      <td>0</td>\n",
       "      <td>0</td>\n",
       "      <td>0</td>\n",
       "    </tr>\n",
       "    <tr>\n",
       "      <th>3</th>\n",
       "      <td>4</td>\n",
       "      <td>2004-09-15 00:00:00</td>\n",
       "      <td>EU-Madagascar Fishing agreement</td>\n",
       "      <td>CNS *</td>\n",
       "      <td>Leg</td>\n",
       "      <td>Legislative resolution for a Council regulation</td>\n",
       "      <td>Legislative resolution for a Council regulation</td>\n",
       "      <td>s</td>\n",
       "      <td>Morillon Philippe</td>\n",
       "      <td>http://www.europarl.europa.eu/sides/getDoc.do?...</td>\n",
       "      <td>...</td>\n",
       "      <td>0</td>\n",
       "      <td>0</td>\n",
       "      <td>NaN</td>\n",
       "      <td>+</td>\n",
       "      <td>507</td>\n",
       "      <td>68.0</td>\n",
       "      <td>86.0</td>\n",
       "      <td>0</td>\n",
       "      <td>0</td>\n",
       "      <td>0</td>\n",
       "    </tr>\n",
       "    <tr>\n",
       "      <th>4</th>\n",
       "      <td>5</td>\n",
       "      <td>2004-09-15 00:00:00</td>\n",
       "      <td>EU-Cape Verde Fishing agreement</td>\n",
       "      <td>CNS *</td>\n",
       "      <td>Leg</td>\n",
       "      <td>Amended proposal for a Council regulation</td>\n",
       "      <td>Amended proposal for a Council regulation</td>\n",
       "      <td>s</td>\n",
       "      <td>Morillon Philippe</td>\n",
       "      <td>http://www.europarl.europa.eu/sides/getDoc.do?...</td>\n",
       "      <td>...</td>\n",
       "      <td>0</td>\n",
       "      <td>0</td>\n",
       "      <td>NaN</td>\n",
       "      <td>+</td>\n",
       "      <td>495</td>\n",
       "      <td>74.0</td>\n",
       "      <td>104.0</td>\n",
       "      <td>0</td>\n",
       "      <td>0</td>\n",
       "      <td>0</td>\n",
       "    </tr>\n",
       "  </tbody>\n",
       "</table>\n",
       "<p>5 rows × 23 columns</p>\n",
       "</div>"
      ]
     },
     "execution_count": 134,
     "metadata": {},
     "output_type": "execute_result"
    }
   ],
   "execution_count": 134
  },
  {
   "metadata": {},
   "cell_type": "markdown",
   "source": "Dropping irrelevant columns (also to be discussed)",
   "id": "bfbfac8b6fcc56f0"
  },
  {
   "metadata": {
    "ExecuteTime": {
     "end_time": "2024-04-17T12:54:39.219099Z",
     "start_time": "2024-04-17T12:54:39.213036Z"
    }
   },
   "cell_type": "code",
   "source": "EP_6_votations_columnsdropped = EP_6_votations.drop(columns=['type_of_vote_en', 'did_not_vote','absent','absent_motivated'])",
   "id": "423f3a73edfbbb5a",
   "outputs": [],
   "execution_count": 135
  },
  {
   "metadata": {},
   "cell_type": "markdown",
   "source": "Manually fixing some dates, in order for pd.to_datetime to work",
   "id": "77d1e7bee510186"
  },
  {
   "metadata": {
    "ExecuteTime": {
     "end_time": "2024-04-17T12:54:39.267431Z",
     "start_time": "2024-04-17T12:54:39.219099Z"
    }
   },
   "cell_type": "code",
   "source": [
    "replacements = {\n",
    "    \" 00:00:00\": \"\",\n",
    "    \" ian \":\"/01/\",\n",
    "    \"03/11/2008\":\"11/03/2008\",\n",
    "    \"03/12/2008\":\"12/03/2008\",\n",
    "    \"13/12/2009\":\"13/12/2007\",\n",
    "    \"13/12/2008\":\"13/12/2007\",\n",
    "    \"3/13/2008\":\"13/3/2008\",\n",
    "    '2009-12-13':'2007-12-13',\n",
    "}\n",
    "EP_6_votations_copy = EP_6_votations_columnsdropped.copy()\n",
    "\n",
    "EP_6_votations_copy['date'] = EP_6_votations_copy['date'].astype(str).replace(replacements, regex=True)"
   ],
   "id": "1f05ebf2fc3d74ce",
   "outputs": [],
   "execution_count": 136
  },
  {
   "metadata": {
    "ExecuteTime": {
     "end_time": "2024-04-17T12:54:39.274834Z",
     "start_time": "2024-04-17T12:54:39.267431Z"
    }
   },
   "cell_type": "code",
   "source": "EP_6_votations_copy.date",
   "id": "71e01be63ff167ad",
   "outputs": [
    {
     "data": {
      "text/plain": [
       "0       2004-09-15\n",
       "1       2004-09-15\n",
       "2       2004-09-15\n",
       "3       2004-09-15\n",
       "4       2004-09-15\n",
       "           ...    \n",
       "6194     7.05.2009\n",
       "6195     7.05.2009\n",
       "6196     7.05.2009\n",
       "6197     7.05.2009\n",
       "6198     7.05.2009\n",
       "Name: date, Length: 6199, dtype: object"
      ]
     },
     "execution_count": 137,
     "metadata": {},
     "output_type": "execute_result"
    }
   ],
   "execution_count": 137
  },
  {
   "metadata": {
    "ExecuteTime": {
     "end_time": "2024-04-17T12:54:39.282820Z",
     "start_time": "2024-04-17T12:54:39.274834Z"
    }
   },
   "cell_type": "code",
   "source": "EP_6_votations_date_fixed = EP_6_votations_copy.copy()",
   "id": "a383d39ee23ddf4",
   "outputs": [],
   "execution_count": 138
  },
  {
   "metadata": {
    "ExecuteTime": {
     "end_time": "2024-04-17T12:54:39.289215Z",
     "start_time": "2024-04-17T12:54:39.282820Z"
    }
   },
   "cell_type": "code",
   "source": "EP_6_votations_date_fixed['date'] = pd.to_datetime(EP_6_votations_copy['date'],format=\"mixed\",dayfirst=True,yearfirst=True) ",
   "id": "47e35428a27c1327",
   "outputs": [],
   "execution_count": 139
  },
  {
   "metadata": {
    "ExecuteTime": {
     "end_time": "2024-04-17T12:54:39.295239Z",
     "start_time": "2024-04-17T12:54:39.289215Z"
    }
   },
   "cell_type": "code",
   "source": "EP_6_votations_date_fixed.date.max()",
   "id": "17c9881e55644e48",
   "outputs": [
    {
     "data": {
      "text/plain": [
       "Timestamp('2009-05-07 00:00:00')"
      ]
     },
     "execution_count": 140,
     "metadata": {},
     "output_type": "execute_result"
    }
   ],
   "execution_count": 140
  },
  {
   "metadata": {},
   "cell_type": "markdown",
   "source": "Recoding columns in line with convention for the app\n",
   "id": "32f82e47baf87e38"
  },
  {
   "metadata": {
    "ExecuteTime": {
     "end_time": "2024-04-17T12:54:39.301612Z",
     "start_time": "2024-04-17T12:54:39.295239Z"
    }
   },
   "cell_type": "code",
   "source": [
    "original_columns = EP_6_votations_date_fixed.columns.tolist()\n",
    "\n",
    "new_columns = [\n",
    "    \"VoteId\",\n",
    "    \"Date\",\n",
    "    \"Title\",\n",
    "    \"Procedure\",\n",
    "    \"Leg/Non-Leg/Bud\",\n",
    "    \"TypeOfVote\",\n",
    "    \"VotingRule\",\n",
    "    \"Rapporteur\",\n",
    "    \"Link\",\n",
    "    \"CommitteeResponsabile\",\n",
    "    \"PolicyArea\",\n",
    "    \"Subject\",\n",
    "    \"FinalVote\",\n",
    "    \"Author\",\n",
    "    \"AmNo\",\n",
    "    \"Vote\",\n",
    "    \"Yes\",\n",
    "    \"No\",\n",
    "    \"Abs\"\n",
    "]\n",
    "\n",
    "# Create a dictionary mapping original column names to new names\n",
    "rename_dict = dict(zip(original_columns, new_columns))\n",
    "\n",
    "# Assuming 'df' is your DataFrame\n",
    "EP_6_votations_column_names_good = EP_6_votations_date_fixed.rename(columns=rename_dict)"
   ],
   "id": "da9cbbcd0a9576dc",
   "outputs": [],
   "execution_count": 141
  },
  {
   "metadata": {},
   "cell_type": "markdown",
   "source": "Recoding missing data",
   "id": "b03f77aa9810bc58"
  },
  {
   "metadata": {
    "ExecuteTime": {
     "end_time": "2024-04-17T12:54:39.306885Z",
     "start_time": "2024-04-17T12:54:39.301612Z"
    }
   },
   "cell_type": "code",
   "source": [
    "def recode_votations(df):\n",
    "    df['TypeOfVote'] = df['TypeOfVote'].replace(0,np.NAN)\n",
    "    df['VotingRule'] = df['VotingRule'].replace(0,np.NAN)\n",
    "    df['Rapporteur'] = df['Rapporteur'].replace(0,np.NAN)\n",
    "    df['CommitteeResponsabile'] = df['CommitteeResponsabile'].replace(0,np.NAN)\n",
    "    df['Author'] = df['Author'].replace(0,np.NAN)\n",
    "    df['Subject'] = df['Subject'].replace(0,np.NAN)\n",
    "    df['AmNo'] = df['AmNo'].replace(0,np.NAN)\n",
    "    df['Vote'] = df['Vote'].replace({'+': 1, '-': 0})\n",
    "    df['Vote'] = df['Vote'].replace({\"-*\":0,\" +\":1, \"?  replaced by 1043\":0})\n",
    "\n"
   ],
   "id": "d01d3a5edef045aa",
   "outputs": [],
   "execution_count": 142
  },
  {
   "metadata": {
    "ExecuteTime": {
     "end_time": "2024-04-17T12:54:39.322475Z",
     "start_time": "2024-04-17T12:54:39.306885Z"
    }
   },
   "cell_type": "code",
   "source": "recode_votations(EP_6_votations_column_names_good)",
   "id": "7cf4454cbd02ba2d",
   "outputs": [
    {
     "name": "stderr",
     "output_type": "stream",
     "text": [
      "C:\\Users\\zwiad\\AppData\\Local\\Temp\\ipykernel_7392\\3001296997.py:10: FutureWarning: Downcasting behavior in `replace` is deprecated and will be removed in a future version. To retain the old behavior, explicitly call `result.infer_objects(copy=False)`. To opt-in to the future behavior, set `pd.set_option('future.no_silent_downcasting', True)`\n",
      "  df['Vote'] = df['Vote'].replace({\"-*\":0,\" +\":1, \"?  replaced by 1043\":0})\n"
     ]
    }
   ],
   "execution_count": 143
  },
  {
   "metadata": {},
   "cell_type": "markdown",
   "source": "Checking and fixing the datatypes",
   "id": "4e6c16bbc8011af2"
  },
  {
   "metadata": {
    "ExecuteTime": {
     "end_time": "2024-04-17T13:04:02.089568Z",
     "start_time": "2024-04-17T13:04:02.084109Z"
    }
   },
   "cell_type": "code",
   "source": "EP_6_votations_column_names_good.dtypes",
   "id": "e07b12cbeaeb4a17",
   "outputs": [
    {
     "data": {
      "text/plain": [
       "VoteId                            int64\n",
       "Date                     datetime64[ns]\n",
       "Title                            object\n",
       "Procedure                        object\n",
       "Leg/Non-Leg/Bud                  object\n",
       "TypeOfVote                       object\n",
       "VotingRule                       object\n",
       "Rapporteur                       object\n",
       "Link                             object\n",
       "CommitteeResponsabile            object\n",
       "PolicyArea                       object\n",
       "Subject                          object\n",
       "FinalVote                         int64\n",
       "Author                           object\n",
       "AmNo                             object\n",
       "Vote                              Int64\n",
       "Yes                               Int64\n",
       "No                                Int64\n",
       "Abs                               Int64\n",
       "dtype: object"
      ]
     },
     "execution_count": 152,
     "metadata": {},
     "output_type": "execute_result"
    }
   ],
   "execution_count": 152
  },
  {
   "metadata": {
    "ExecuteTime": {
     "end_time": "2024-04-17T12:59:48.609649Z",
     "start_time": "2024-04-17T12:59:48.592548Z"
    }
   },
   "cell_type": "code",
   "source": [
    "EP_6_votations_column_names_good.No = EP_6_votations_column_names_good['No'].astype('Int64')\n",
    "EP_6_votations_column_names_good.Abs = EP_6_votations_column_names_good['Abs'].astype('Int64')\n",
    "EP_6_votations_column_names_good.Vote = EP_6_votations_column_names_good['Vote'].astype('Int64')\n",
    "EP_6_votations_column_names_good.Yes = EP_6_votations_column_names_good['Yes'].astype('Int64')"
   ],
   "id": "745936e0d1d5eaed",
   "outputs": [],
   "execution_count": 149
  },
  {
   "metadata": {},
   "cell_type": "markdown",
   "source": "Renaming EPG groups to fit the API convention",
   "id": "e563ded80449dcfb"
  },
  {
   "metadata": {
    "ExecuteTime": {
     "end_time": "2024-04-17T13:06:59.049783Z",
     "start_time": "2024-04-17T13:06:59.031214Z"
    }
   },
   "cell_type": "code",
   "source": [
    "\n",
    "EPG_rename_dict = {\n",
    "    \"Group of the European People's Party (Christian Democrats) and European Democrats\":\"EPP-ED\",\n",
    "    \"Socialist Group in the European Parliament\":\"PES\",\n",
    "    \"Group of the Alliance of Liberals and Democrats for Europe\":\"ALDE\",\n",
    "    \"Union for Europe of the Nations Group\":\"UEN\",\n",
    "    \"Confederal Group of the European United Left - Nordic Green Left\":\"GUE–NGL\",\n",
    "    \"Group of the Greens/European Free Alliance\":\"Greens–EFA\",\n",
    "    \"Non-attached Members\":\"NI\",  \n",
    "    \"Independence/Democracy Group\":\"IND/DEM\"\n",
    "}"
   ],
   "id": "b7fd88fd3400befd",
   "outputs": [],
   "execution_count": 154
  },
  {
   "metadata": {
    "ExecuteTime": {
     "end_time": "2024-04-17T13:07:01.493794Z",
     "start_time": "2024-04-17T13:07:01.486524Z"
    }
   },
   "cell_type": "code",
   "source": "EP_6_votes_fixed_names.EPG = EP_6_votes_fixed_names.EPG.replace(EPG_rename_dict, regex=False)\n",
   "id": "96fcc194a57d7361",
   "outputs": [],
   "execution_count": 155
  },
  {
   "metadata": {
    "ExecuteTime": {
     "end_time": "2024-04-17T13:07:02.620627Z",
     "start_time": "2024-04-17T13:07:02.612855Z"
    }
   },
   "cell_type": "code",
   "source": "EP_6_votes_fixed_names.EPG.value_counts()\n",
   "id": "55da3d9b3a771f68",
   "outputs": [
    {
     "data": {
      "text/plain": [
       "EPG\n",
       "EPP-ED        341\n",
       "PES           263\n",
       "ALDE          126\n",
       "UEN            51\n",
       "GUE–NGL        48\n",
       "Greens–EFA     44\n",
       "NI             40\n",
       "IND/DEM        27\n",
       "Name: count, dtype: int64"
      ]
     },
     "execution_count": 156,
     "metadata": {},
     "output_type": "execute_result"
    }
   ],
   "execution_count": 156
  },
  {
   "metadata": {},
   "cell_type": "markdown",
   "source": "Creating a list to filter the non,observation columns from Votes\n",
   "id": "eb07c2a1c891c890"
  },
  {
   "metadata": {
    "ExecuteTime": {
     "end_time": "2024-04-17T13:37:28.833491Z",
     "start_time": "2024-04-17T13:37:28.827026Z"
    }
   },
   "cell_type": "code",
   "source": [
    "filtered_list = ['MepId',\n",
    " 'Fname',\n",
    " 'Lname',\n",
    " 'FullName',\n",
    " 'Activ',\n",
    " 'Country',\n",
    " 'Party',\n",
    " 'EPG',\n",
    " 'Start',\n",
    " 'End']"
   ],
   "id": "d959174efc6c7d6e",
   "outputs": [],
   "execution_count": 159
  },
  {
   "metadata": {},
   "cell_type": "markdown",
   "source": "Melting votes into long format",
   "id": "902b84427a8a8520"
  },
  {
   "metadata": {
    "ExecuteTime": {
     "end_time": "2024-04-17T13:37:30.454576Z",
     "start_time": "2024-04-17T13:37:29.437589Z"
    }
   },
   "cell_type": "code",
   "source": [
    "\n",
    "mep_info = EP_6_votes_fixed_names[filtered_list]\n",
    "vote_columns = [col for col in EP_6_votes_fixed_names.columns if col not in filtered_list]\n",
    "melted_votes = pd.melt(EP_6_votes_fixed_names, id_vars='MepId', value_vars=vote_columns, var_name='VoteId', value_name='Vote')\n"
   ],
   "id": "9188747c2b1679b3",
   "outputs": [],
   "execution_count": 160
  },
  {
   "metadata": {
    "ExecuteTime": {
     "end_time": "2024-04-17T14:49:58.572369Z",
     "start_time": "2024-04-17T14:49:57.532630Z"
    }
   },
   "cell_type": "code",
   "source": "melted_votes.VoteId = melted_votes.VoteId.astype('Int64')",
   "id": "24c12c8104c0996b",
   "outputs": [],
   "execution_count": 192
  },
  {
   "metadata": {},
   "cell_type": "markdown",
   "source": "Adding EP_ID",
   "id": "bb15a83123acd71f"
  },
  {
   "metadata": {
    "ExecuteTime": {
     "end_time": "2024-04-17T14:50:01.456306Z",
     "start_time": "2024-04-17T14:50:01.440068Z"
    }
   },
   "cell_type": "code",
   "source": [
    "melted_votes['EP_ID'] = 6\n",
    "EP_6_votations_column_names_good['EP_ID'] = 6\n",
    "mep_info['EP_ID'] = 6"
   ],
   "id": "646b8e3808c86604",
   "outputs": [
    {
     "name": "stderr",
     "output_type": "stream",
     "text": [
      "C:\\Users\\zwiad\\AppData\\Local\\Temp\\ipykernel_7392\\2793180917.py:3: SettingWithCopyWarning: \n",
      "A value is trying to be set on a copy of a slice from a DataFrame.\n",
      "Try using .loc[row_indexer,col_indexer] = value instead\n",
      "\n",
      "See the caveats in the documentation: https://pandas.pydata.org/pandas-docs/stable/user_guide/indexing.html#returning-a-view-versus-a-copy\n",
      "  mep_info['EP_ID'] = 6\n"
     ]
    }
   ],
   "execution_count": 193
  },
  {
   "metadata": {},
   "cell_type": "markdown",
   "source": "Saving files to .csv",
   "id": "d2ffcc4598bd8a6"
  },
  {
   "metadata": {
    "ExecuteTime": {
     "end_time": "2024-04-17T14:50:04.903367Z",
     "start_time": "2024-04-17T14:50:04.891254Z"
    }
   },
   "cell_type": "code",
   "source": [
    "base_directory = os.path.join(\"Cleaned_data\",\"EP6_clean_data\")\n",
    "os.makedirs(base_directory, exist_ok=True)\n"
   ],
   "id": "6b19b09fc7561fc7",
   "outputs": [],
   "execution_count": 194
  },
  {
   "metadata": {
    "ExecuteTime": {
     "end_time": "2024-04-17T14:50:11.355197Z",
     "start_time": "2024-04-17T14:50:05.720851Z"
    }
   },
   "cell_type": "code",
   "source": [
    "mep_info.to_csv(os.path.join(base_directory,\"mep_info_EP_6.csv\"),index=False)\n",
    "melted_votes.to_csv(os.path.join(base_directory,\"votes_EP_6.csv\"),index=False)\n",
    "EP_6_votations_column_names_good.to_csv(os.path.join(base_directory,\"votations_EP_6.csv\"),index=False)\n"
   ],
   "id": "1cbfc676c40a2eaa",
   "outputs": [],
   "execution_count": 195
  }
 ],
 "metadata": {
  "kernelspec": {
   "display_name": "Python 3",
   "language": "python",
   "name": "python3"
  },
  "language_info": {
   "codemirror_mode": {
    "name": "ipython",
    "version": 2
   },
   "file_extension": ".py",
   "mimetype": "text/x-python",
   "name": "python",
   "nbconvert_exporter": "python",
   "pygments_lexer": "ipython2",
   "version": "2.7.6"
  }
 },
 "nbformat": 4,
 "nbformat_minor": 5
}
