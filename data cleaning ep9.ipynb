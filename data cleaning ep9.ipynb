{
 "cells": [
  {
   "cell_type": "code",
   "id": "initial_id",
   "metadata": {
    "collapsed": true,
    "ExecuteTime": {
     "end_time": "2024-06-18T13:35:40.584832Z",
     "start_time": "2024-06-18T13:35:39.314688Z"
    }
   },
   "source": [
    "import numpy as np\n",
    "import pandas as pd\n",
    "import requests\n",
    "import glob\n",
    "import openpyxl\n",
    "import os\n",
    "import helperfunctions as hf"
   ],
   "outputs": [],
   "execution_count": 1
  },
  {
   "metadata": {},
   "cell_type": "markdown",
   "source": "Creating relative paths\n",
   "id": "44c52e2679c50ccf"
  },
  {
   "metadata": {
    "ExecuteTime": {
     "end_time": "2024-06-18T13:35:41.002703Z",
     "start_time": "2024-06-18T13:35:40.585918Z"
    }
   },
   "cell_type": "code",
   "source": [
    "votes = os.path.join(\"VoteWatch-EP-voting-data_2004-2022\", \"EP9_RCVs_2022_06_22.xlsx\")\n",
    "votations = os.path.join(\"VoteWatch-EP-voting-data_2004-2022\",\"EP9_Voted docs.xlsx\")"
   ],
   "id": "7d140e7a7e43203e",
   "outputs": [],
   "execution_count": 2
  },
  {
   "metadata": {},
   "cell_type": "markdown",
   "source": "Importing data from EU API (for correct names)\n",
   "id": "de488ec3ddb8f8db"
  },
  {
   "metadata": {
    "ExecuteTime": {
     "end_time": "2024-06-18T13:35:44.687539Z",
     "start_time": "2024-06-18T13:35:41.002703Z"
    }
   },
   "cell_type": "code",
   "source": [
    "url = 'https://data.europarl.europa.eu/api/v2/meps?parliamentary-term=9&format=application%2Fld%2Bjson&offset=0'\n",
    "response = requests.get(url)\n",
    "meps_data = response.json()"
   ],
   "id": "8233e4dafd0e24c2",
   "outputs": [],
   "execution_count": 3
  },
  {
   "metadata": {},
   "cell_type": "markdown",
   "source": "Creating DataFrames (runtime is quite long, .xlsx files)\n",
   "id": "7f6155ae36c460c7"
  },
  {
   "metadata": {
    "ExecuteTime": {
     "end_time": "2024-06-18T13:37:37.680223Z",
     "start_time": "2024-06-18T13:35:44.689555Z"
    }
   },
   "cell_type": "code",
   "source": [
    "meps_df_9 = pd.json_normalize(meps_data['data'])\n",
    "EP_9_votes = pd.read_excel(votes)\n",
    "EP_9_votations = pd.read_excel(votations)"
   ],
   "id": "273caf9877bec327",
   "outputs": [
    {
     "name": "stderr",
     "output_type": "stream",
     "text": [
      "C:\\Users\\zwiad\\AppData\\Local\\Programs\\Python\\Python312\\Lib\\site-packages\\openpyxl\\worksheet\\_reader.py:329: UserWarning: Data Validation extension is not supported and will be removed\n",
      "  warn(msg)\n"
     ]
    }
   ],
   "execution_count": 4
  },
  {
   "metadata": {},
   "cell_type": "markdown",
   "source": [
    "Dropping irrelevant columns (to discuss)\n",
    "Renaming variables for pd.merge and correcting datatype\n",
    "Merging\n",
    "Updating names of MPs\n"
   ],
   "id": "a4066509d09cd7a"
  },
  {
   "metadata": {
    "ExecuteTime": {
     "end_time": "2024-06-18T13:37:37.731663Z",
     "start_time": "2024-06-18T13:37:37.680223Z"
    }
   },
   "cell_type": "code",
   "source": [
    "meps_df_9.drop(columns=['id','type','sortLabel','officialFamilyName','officialGivenName'],inplace=True)\n",
    "meps_df_9.rename(columns={'identifier': 'MepId'},inplace=True)\n",
    "EP_9_votes.rename(columns={'WebisteEpID': 'MepId'},inplace=True)\n",
    "meps_df_9.MepId = meps_df_9.MepId.astype(int)\n",
    "EP_9_votes_fixed_names = pd.merge(EP_9_votes,meps_df_9 , on='MepId', how='left')\n",
    "EP_9_votes_fixed_names[['Fname','Lname','FullName']] = EP_9_votes_fixed_names[['givenName','familyName','label']]\n",
    "EP_9_votes_fixed_names.drop(columns=['label','familyName','givenName'],inplace=True)\n"
   ],
   "id": "f0c88ba0bafb912d",
   "outputs": [],
   "execution_count": 5
  },
  {
   "metadata": {},
   "cell_type": "markdown",
   "source": "Encoding missing party names\n",
   "id": "9bc023de64ad1bcd"
  },
  {
   "metadata": {
    "ExecuteTime": {
     "end_time": "2024-06-18T13:37:37.744291Z",
     "start_time": "2024-06-18T13:37:37.731663Z"
    }
   },
   "cell_type": "code",
   "source": [
    "filtered_df = EP_9_votes_fixed_names[EP_9_votes_fixed_names.Party.astype(str).apply(lambda x: len(x) < 3)]\n",
    "filtered_df.Party.value_counts()"
   ],
   "id": "55f67edb3f472ccc",
   "outputs": [
    {
     "data": {
      "text/plain": [
       "Party\n",
       "-    1\n",
       "Name: count, dtype: int64"
      ]
     },
     "execution_count": 6,
     "metadata": {},
     "output_type": "execute_result"
    }
   ],
   "execution_count": 6
  },
  {
   "metadata": {
    "ExecuteTime": {
     "end_time": "2024-06-18T13:37:37.749210Z",
     "start_time": "2024-06-18T13:37:37.744291Z"
    }
   },
   "cell_type": "code",
   "source": "EP_9_votes_fixed_names.Party = EP_9_votes_fixed_names.Party.replace(\"-\",np.NAN)",
   "id": "b4753442ce097f48",
   "outputs": [],
   "execution_count": 7
  },
  {
   "metadata": {
    "ExecuteTime": {
     "end_time": "2024-06-18T13:37:37.755994Z",
     "start_time": "2024-06-18T13:37:37.749210Z"
    }
   },
   "cell_type": "code",
   "source": "EP_9_votes_fixed_names.columns",
   "id": "c12be470b330a283",
   "outputs": [
    {
     "data": {
      "text/plain": [
       "Index([   'MepId',    'Fname',    'Lname', 'FullName',    'Activ',  'Country',\n",
       "          'Party',      'EPG',    'Start',      'End',\n",
       "       ...\n",
       "            13450,      13451,      13452,      13453,      13454,      13455,\n",
       "            13456,      13457,      13458,      13459],\n",
       "      dtype='object', length=13469)"
      ]
     },
     "execution_count": 8,
     "metadata": {},
     "output_type": "execute_result"
    }
   ],
   "execution_count": 8
  },
  {
   "metadata": {},
   "cell_type": "markdown",
   "source": "Dropping irrelevant columns and renaming relevant (also to be discussed)\n",
   "id": "9c57c1f551f850f1"
  },
  {
   "metadata": {
    "ExecuteTime": {
     "end_time": "2024-06-18T13:37:37.761865Z",
     "start_time": "2024-06-18T13:37:37.757537Z"
    }
   },
   "cell_type": "code",
   "source": "EP_9_votations.columns.tolist()\n",
   "id": "d732b63cde2e40f8",
   "outputs": [
    {
     "data": {
      "text/plain": [
       "['Vote ID',\n",
       " 'File',\n",
       " 'Order of vote',\n",
       " 'Date',\n",
       " 'Title',\n",
       " 'Procedure',\n",
       " 'Leg/Non-Leg/Bud',\n",
       " 'Type of Vote',\n",
       " 'Voting Rule',\n",
       " 'Rapporteur',\n",
       " 'Code',\n",
       " 'Interinstitutional file number',\n",
       " 'Link',\n",
       " 'Committee responsabile',\n",
       " 'Policy area',\n",
       " 'Subject',\n",
       " 'Final vote?',\n",
       " 'Am No.',\n",
       " 'Author',\n",
       " 'RCV',\n",
       " 'Vote',\n",
       " 'Yes',\n",
       " 'No',\n",
       " 'Abs']"
      ]
     },
     "execution_count": 9,
     "metadata": {},
     "output_type": "execute_result"
    }
   ],
   "execution_count": 9
  },
  {
   "metadata": {
    "ExecuteTime": {
     "end_time": "2024-06-18T13:37:37.771605Z",
     "start_time": "2024-06-18T13:37:37.761865Z"
    }
   },
   "cell_type": "code",
   "source": [
    "\n",
    "column_mapping = {\n",
    "    'Vote ID': 'VoteId',\n",
    "    'Date': 'Date',\n",
    "    'Title': 'Title',\n",
    "    'Procedure': 'Procedure',\n",
    "    'Leg/Non-Leg/Bud': 'Leg/Non-Leg/Bud',\n",
    "    'Type of Vote': 'TypeOfVote',\n",
    "    'Voting Rule': 'VotingRule',\n",
    "    'Rapporteur': 'Rapporteur',\n",
    "    'Link': 'Link',\n",
    "    'Committee responsabile': 'CommitteeResponsabile',\n",
    "    'Policy area': 'PolicyArea',\n",
    "    'Subject': 'Subject',\n",
    "    'Final vote?': 'FinalVote',\n",
    "    'Am No.': 'AmNo',\n",
    "    'Author': 'Author',\n",
    "    'Vote': 'Vote',\n",
    "    'Yes': 'Yes',\n",
    "    'No': 'No',\n",
    "    'Abs': 'Abs'\n",
    "}\n",
    "\n",
    "filtered_df = EP_9_votations[list(column_mapping.keys())]\n",
    "final_df = filtered_df.rename(columns=column_mapping)"
   ],
   "id": "fb70aa4db87fed77",
   "outputs": [],
   "execution_count": 10
  },
  {
   "metadata": {
    "ExecuteTime": {
     "end_time": "2024-06-18T13:37:37.777465Z",
     "start_time": "2024-06-18T13:37:37.771605Z"
    }
   },
   "cell_type": "code",
   "source": "EP_9_votations = final_df",
   "id": "3ddc6415f8719d90",
   "outputs": [],
   "execution_count": 11
  },
  {
   "metadata": {},
   "cell_type": "markdown",
   "source": "Fixing dtype\n",
   "id": "ce5c19c9823a0884"
  },
  {
   "metadata": {
    "ExecuteTime": {
     "end_time": "2024-06-18T13:37:37.786253Z",
     "start_time": "2024-06-18T13:37:37.777465Z"
    }
   },
   "cell_type": "code",
   "source": "EP_9_votations['Date'] = pd.to_datetime(EP_9_votations['Date'],format='%d.%m.%Y') \n",
   "id": "f850b5d94cdbbcc1",
   "outputs": [],
   "execution_count": 12
  },
  {
   "metadata": {
    "ExecuteTime": {
     "end_time": "2024-06-18T13:37:37.800918Z",
     "start_time": "2024-06-18T13:37:37.786253Z"
    }
   },
   "cell_type": "code",
   "source": "EP_9_votations.tail()\n",
   "id": "bd8a2f7ab8df03ae",
   "outputs": [
    {
     "data": {
      "text/plain": [
       "       VoteId       Date                                              Title  \\\n",
       "13454   13455 2022-06-09  The call for a Convention for the revision of ...   \n",
       "13455   13456 2022-06-09  The call for a Convention for the revision of ...   \n",
       "13456   13457 2022-06-09  The call for a Convention for the revision of ...   \n",
       "13457   13458 2022-06-09  The call for a Convention for the revision of ...   \n",
       "13458   13459 2022-06-09  A new trade instrument to ban products made by...   \n",
       "\n",
       "      Procedure Leg/Non-Leg/Bud             TypeOfVote VotingRule Rapporteur  \\\n",
       "13454       NaN             Non  Motion for resolution          s          0   \n",
       "13455       NaN             Non  Motion for resolution          s          0   \n",
       "13456       NaN             Non  Motion for resolution          s          0   \n",
       "13457       NaN             Non  Motion for resolution          s          0   \n",
       "13458       NaN             Non  Motion for resolution          s          0   \n",
       "\n",
       "                                                    Link  \\\n",
       "13454  https://www.europarl.europa.eu/doceo/document/...   \n",
       "13455  https://www.europarl.europa.eu/doceo/document/...   \n",
       "13456  https://www.europarl.europa.eu/doceo/document/...   \n",
       "13457  https://www.europarl.europa.eu/doceo/document/...   \n",
       "13458  https://www.europarl.europa.eu/doceo/document/...   \n",
       "\n",
       "      CommitteeResponsabile                                      PolicyArea  \\\n",
       "13454                     0  Constitutional and inter-institutional affairs   \n",
       "13455                     0  Constitutional and inter-institutional affairs   \n",
       "13456                     0  Constitutional and inter-institutional affairs   \n",
       "13457                     0  Constitutional and inter-institutional affairs   \n",
       "13458                     0                     Employment & Social Affairs   \n",
       "\n",
       "                             Subject  FinalVote AmNo           Author Vote  \\\n",
       "13454                    Paragraph 6        0.0   36         The Left    -   \n",
       "13455                    Paragraph 6        0.0   39  EPP, S&D, Renew    +   \n",
       "13456                After recital D        0.0    8         The Left    -   \n",
       "13457  vote: resolution (as a whole)        0.0  NaN                0    +   \n",
       "13458  vote: resolution (as a whole)        0.0  NaN                0    +   \n",
       "\n",
       "       Yes   No  Abs  \n",
       "13454  170  358   32  \n",
       "13455  391  110   56  \n",
       "13456   69  444   43  \n",
       "13457  355  154   48  \n",
       "13458  503    6    4  "
      ],
      "text/html": [
       "<div>\n",
       "<style scoped>\n",
       "    .dataframe tbody tr th:only-of-type {\n",
       "        vertical-align: middle;\n",
       "    }\n",
       "\n",
       "    .dataframe tbody tr th {\n",
       "        vertical-align: top;\n",
       "    }\n",
       "\n",
       "    .dataframe thead th {\n",
       "        text-align: right;\n",
       "    }\n",
       "</style>\n",
       "<table border=\"1\" class=\"dataframe\">\n",
       "  <thead>\n",
       "    <tr style=\"text-align: right;\">\n",
       "      <th></th>\n",
       "      <th>VoteId</th>\n",
       "      <th>Date</th>\n",
       "      <th>Title</th>\n",
       "      <th>Procedure</th>\n",
       "      <th>Leg/Non-Leg/Bud</th>\n",
       "      <th>TypeOfVote</th>\n",
       "      <th>VotingRule</th>\n",
       "      <th>Rapporteur</th>\n",
       "      <th>Link</th>\n",
       "      <th>CommitteeResponsabile</th>\n",
       "      <th>PolicyArea</th>\n",
       "      <th>Subject</th>\n",
       "      <th>FinalVote</th>\n",
       "      <th>AmNo</th>\n",
       "      <th>Author</th>\n",
       "      <th>Vote</th>\n",
       "      <th>Yes</th>\n",
       "      <th>No</th>\n",
       "      <th>Abs</th>\n",
       "    </tr>\n",
       "  </thead>\n",
       "  <tbody>\n",
       "    <tr>\n",
       "      <th>13454</th>\n",
       "      <td>13455</td>\n",
       "      <td>2022-06-09</td>\n",
       "      <td>The call for a Convention for the revision of ...</td>\n",
       "      <td>NaN</td>\n",
       "      <td>Non</td>\n",
       "      <td>Motion for resolution</td>\n",
       "      <td>s</td>\n",
       "      <td>0</td>\n",
       "      <td>https://www.europarl.europa.eu/doceo/document/...</td>\n",
       "      <td>0</td>\n",
       "      <td>Constitutional and inter-institutional affairs</td>\n",
       "      <td>Paragraph 6</td>\n",
       "      <td>0.0</td>\n",
       "      <td>36</td>\n",
       "      <td>The Left</td>\n",
       "      <td>-</td>\n",
       "      <td>170</td>\n",
       "      <td>358</td>\n",
       "      <td>32</td>\n",
       "    </tr>\n",
       "    <tr>\n",
       "      <th>13455</th>\n",
       "      <td>13456</td>\n",
       "      <td>2022-06-09</td>\n",
       "      <td>The call for a Convention for the revision of ...</td>\n",
       "      <td>NaN</td>\n",
       "      <td>Non</td>\n",
       "      <td>Motion for resolution</td>\n",
       "      <td>s</td>\n",
       "      <td>0</td>\n",
       "      <td>https://www.europarl.europa.eu/doceo/document/...</td>\n",
       "      <td>0</td>\n",
       "      <td>Constitutional and inter-institutional affairs</td>\n",
       "      <td>Paragraph 6</td>\n",
       "      <td>0.0</td>\n",
       "      <td>39</td>\n",
       "      <td>EPP, S&amp;D, Renew</td>\n",
       "      <td>+</td>\n",
       "      <td>391</td>\n",
       "      <td>110</td>\n",
       "      <td>56</td>\n",
       "    </tr>\n",
       "    <tr>\n",
       "      <th>13456</th>\n",
       "      <td>13457</td>\n",
       "      <td>2022-06-09</td>\n",
       "      <td>The call for a Convention for the revision of ...</td>\n",
       "      <td>NaN</td>\n",
       "      <td>Non</td>\n",
       "      <td>Motion for resolution</td>\n",
       "      <td>s</td>\n",
       "      <td>0</td>\n",
       "      <td>https://www.europarl.europa.eu/doceo/document/...</td>\n",
       "      <td>0</td>\n",
       "      <td>Constitutional and inter-institutional affairs</td>\n",
       "      <td>After recital D</td>\n",
       "      <td>0.0</td>\n",
       "      <td>8</td>\n",
       "      <td>The Left</td>\n",
       "      <td>-</td>\n",
       "      <td>69</td>\n",
       "      <td>444</td>\n",
       "      <td>43</td>\n",
       "    </tr>\n",
       "    <tr>\n",
       "      <th>13457</th>\n",
       "      <td>13458</td>\n",
       "      <td>2022-06-09</td>\n",
       "      <td>The call for a Convention for the revision of ...</td>\n",
       "      <td>NaN</td>\n",
       "      <td>Non</td>\n",
       "      <td>Motion for resolution</td>\n",
       "      <td>s</td>\n",
       "      <td>0</td>\n",
       "      <td>https://www.europarl.europa.eu/doceo/document/...</td>\n",
       "      <td>0</td>\n",
       "      <td>Constitutional and inter-institutional affairs</td>\n",
       "      <td>vote: resolution (as a whole)</td>\n",
       "      <td>0.0</td>\n",
       "      <td>NaN</td>\n",
       "      <td>0</td>\n",
       "      <td>+</td>\n",
       "      <td>355</td>\n",
       "      <td>154</td>\n",
       "      <td>48</td>\n",
       "    </tr>\n",
       "    <tr>\n",
       "      <th>13458</th>\n",
       "      <td>13459</td>\n",
       "      <td>2022-06-09</td>\n",
       "      <td>A new trade instrument to ban products made by...</td>\n",
       "      <td>NaN</td>\n",
       "      <td>Non</td>\n",
       "      <td>Motion for resolution</td>\n",
       "      <td>s</td>\n",
       "      <td>0</td>\n",
       "      <td>https://www.europarl.europa.eu/doceo/document/...</td>\n",
       "      <td>0</td>\n",
       "      <td>Employment &amp; Social Affairs</td>\n",
       "      <td>vote: resolution (as a whole)</td>\n",
       "      <td>0.0</td>\n",
       "      <td>NaN</td>\n",
       "      <td>0</td>\n",
       "      <td>+</td>\n",
       "      <td>503</td>\n",
       "      <td>6</td>\n",
       "      <td>4</td>\n",
       "    </tr>\n",
       "  </tbody>\n",
       "</table>\n",
       "</div>"
      ]
     },
     "execution_count": 13,
     "metadata": {},
     "output_type": "execute_result"
    }
   ],
   "execution_count": 13
  },
  {
   "metadata": {},
   "cell_type": "markdown",
   "source": "Recoding missing data\n",
   "id": "4cc7d84aff30638a"
  },
  {
   "metadata": {
    "ExecuteTime": {
     "end_time": "2024-06-18T13:37:37.806240Z",
     "start_time": "2024-06-18T13:37:37.800918Z"
    }
   },
   "cell_type": "code",
   "source": [
    "def recode_votations(df):\n",
    "    df['TypeOfVote'] = df['TypeOfVote'].replace(0,np.NAN)\n",
    "    df['VotingRule'] = df['VotingRule'].replace(0,np.NAN)\n",
    "    df['Rapporteur'] = df['Rapporteur'].replace(0,np.NAN)\n",
    "    df['CommitteeResponsabile'] = df['CommitteeResponsabile'].replace(0,np.NAN)\n",
    "    df['Author'] = df['Author'].replace(0,np.NAN)\n",
    "    df['Subject'] = df['Subject'].replace(0,np.NAN)\n",
    "    df['AmNo'] = df['AmNo'].replace(0,np.NAN)\n",
    "    df['Vote'] = df['Vote'].replace({'+': 1, '-': 0,\"_\":0})"
   ],
   "id": "56e79e9a398f0d08",
   "outputs": [],
   "execution_count": 14
  },
  {
   "metadata": {
    "ExecuteTime": {
     "end_time": "2024-06-18T13:37:37.823728Z",
     "start_time": "2024-06-18T13:37:37.807258Z"
    }
   },
   "cell_type": "code",
   "source": "recode_votations(EP_9_votations)",
   "id": "854b8dac40c804dd",
   "outputs": [
    {
     "name": "stderr",
     "output_type": "stream",
     "text": [
      "C:\\Users\\zwiad\\AppData\\Local\\Temp\\ipykernel_22836\\3036951935.py:9: FutureWarning: Downcasting behavior in `replace` is deprecated and will be removed in a future version. To retain the old behavior, explicitly call `result.infer_objects(copy=False)`. To opt-in to the future behavior, set `pd.set_option('future.no_silent_downcasting', True)`\n",
      "  df['Vote'] = df['Vote'].replace({'+': 1, '-': 0,\"_\":0})\n"
     ]
    }
   ],
   "execution_count": 15
  },
  {
   "metadata": {},
   "cell_type": "markdown",
   "source": "Checking and fixing the datatypes\n",
   "id": "3ba6a476f8673bc0"
  },
  {
   "metadata": {
    "ExecuteTime": {
     "end_time": "2024-06-18T13:37:37.830014Z",
     "start_time": "2024-06-18T13:37:37.823728Z"
    }
   },
   "cell_type": "code",
   "source": "EP_9_votations.dtypes",
   "id": "a6eb257c3def4dce",
   "outputs": [
    {
     "data": {
      "text/plain": [
       "VoteId                            int64\n",
       "Date                     datetime64[ns]\n",
       "Title                            object\n",
       "Procedure                        object\n",
       "Leg/Non-Leg/Bud                  object\n",
       "TypeOfVote                       object\n",
       "VotingRule                       object\n",
       "Rapporteur                       object\n",
       "Link                             object\n",
       "CommitteeResponsabile            object\n",
       "PolicyArea                       object\n",
       "Subject                          object\n",
       "FinalVote                       float64\n",
       "AmNo                             object\n",
       "Author                           object\n",
       "Vote                              int64\n",
       "Yes                               int64\n",
       "No                                int64\n",
       "Abs                               int64\n",
       "dtype: object"
      ]
     },
     "execution_count": 16,
     "metadata": {},
     "output_type": "execute_result"
    }
   ],
   "execution_count": 16
  },
  {
   "metadata": {
    "ExecuteTime": {
     "end_time": "2024-06-18T13:37:37.837027Z",
     "start_time": "2024-06-18T13:37:37.830014Z"
    }
   },
   "cell_type": "code",
   "source": [
    "EP_9_votations.FinalVote = EP_9_votations['FinalVote'].astype('Int64')\n",
    "EP_9_votations.Vote = EP_9_votations['Vote'].astype('Int64')\n"
   ],
   "id": "5debc72e8aa574a3",
   "outputs": [],
   "execution_count": 17
  },
  {
   "metadata": {},
   "cell_type": "markdown",
   "source": "Renaming EPG groups to fit the API convention\n",
   "id": "6362d323c43aabde"
  },
  {
   "metadata": {
    "ExecuteTime": {
     "end_time": "2024-06-18T13:37:37.844170Z",
     "start_time": "2024-06-18T13:37:37.837027Z"
    }
   },
   "cell_type": "code",
   "source": "EP_9_votes_fixed_names.EPG.value_counts()",
   "id": "81f1298bfde26b96",
   "outputs": [
    {
     "data": {
      "text/plain": [
       "EPG\n",
       "EPP           183\n",
       "S&D           165\n",
       "REG           124\n",
       "Greens/EFA     86\n",
       "ECR            75\n",
       "NI             69\n",
       "IDG            65\n",
       "The Left       40\n",
       "Name: count, dtype: int64"
      ]
     },
     "execution_count": 18,
     "metadata": {},
     "output_type": "execute_result"
    }
   ],
   "execution_count": 18
  },
  {
   "metadata": {
    "ExecuteTime": {
     "end_time": "2024-06-18T13:37:37.848980Z",
     "start_time": "2024-06-18T13:37:37.845196Z"
    }
   },
   "cell_type": "code",
   "source": [
    "EPG_rename_dict = {\n",
    "    \"REG\":\"RE\",\n",
    "    \"The Left\":\"GUE–NGL\",\n",
    "}"
   ],
   "id": "5f8dd771d797a4b4",
   "outputs": [],
   "execution_count": 19
  },
  {
   "metadata": {
    "ExecuteTime": {
     "end_time": "2024-06-18T13:37:37.854389Z",
     "start_time": "2024-06-18T13:37:37.848980Z"
    }
   },
   "cell_type": "code",
   "source": "EP_9_votes_fixed_names.EPG = EP_9_votes_fixed_names.EPG.replace(EPG_rename_dict,regex=False)",
   "id": "1815c34cfd350270",
   "outputs": [],
   "execution_count": 20
  },
  {
   "metadata": {
    "ExecuteTime": {
     "end_time": "2024-06-18T13:37:37.860366Z",
     "start_time": "2024-06-18T13:37:37.854389Z"
    }
   },
   "cell_type": "code",
   "source": "EP_9_votes_fixed_names.EPG.value_counts()",
   "id": "e043131fb5f09171",
   "outputs": [
    {
     "data": {
      "text/plain": [
       "EPG\n",
       "EPP           183\n",
       "S&D           165\n",
       "RE            124\n",
       "Greens/EFA     86\n",
       "ECR            75\n",
       "NI             69\n",
       "IDG            65\n",
       "GUE–NGL        40\n",
       "Name: count, dtype: int64"
      ]
     },
     "execution_count": 21,
     "metadata": {},
     "output_type": "execute_result"
    }
   ],
   "execution_count": 21
  },
  {
   "metadata": {},
   "cell_type": "markdown",
   "source": "Creating a list to filter the non observation columns from Votes\n",
   "id": "6fc1a8fc18d64ac8"
  },
  {
   "metadata": {
    "ExecuteTime": {
     "end_time": "2024-06-18T13:37:37.865525Z",
     "start_time": "2024-06-18T13:37:37.860366Z"
    }
   },
   "cell_type": "code",
   "source": [
    "filtered_list = ['MepId',\n",
    " 'Fname',\n",
    " 'Lname',\n",
    " 'FullName',\n",
    " 'Activ',\n",
    " 'Country',\n",
    " 'Party',\n",
    " 'EPG',\n",
    " 'Start',\n",
    " 'End']\n",
    "filtered_list2 = [\n",
    " 'Fname',\n",
    " 'Lname',\n",
    " 'FullName',\n",
    " 'Activ',\n",
    " 'Country',\n",
    " 'Party',\n",
    " 'EPG',\n",
    " 'Start',\n",
    " 'End']"
   ],
   "id": "d7e7e63c3b4e48d0",
   "outputs": [],
   "execution_count": 22
  },
  {
   "metadata": {},
   "cell_type": "markdown",
   "source": "Melting votes into long format\n",
   "id": "649ba8d3949dc293"
  },
  {
   "metadata": {
    "ExecuteTime": {
     "end_time": "2024-06-18T13:38:19.906833Z",
     "start_time": "2024-06-18T13:37:37.866536Z"
    }
   },
   "cell_type": "code",
   "source": [
    "voted_docs_csv = pd.read_csv(os.path.join(\"VoteWatch-EP-voting-data_2004-2022\",\"Voted_doc_15-03-2024.csv\"),encoding='latin_1')\n",
    "votes_b = pd.read_excel(os.path.join(\"VoteWatch-EP-voting-data_2004-2022\",\"RCV9B_140324.xlsx\"))\n",
    "\n"
   ],
   "id": "3d3aba927aebeef",
   "outputs": [],
   "execution_count": 23
  },
  {
   "metadata": {
    "ExecuteTime": {
     "end_time": "2024-06-18T13:38:19.931323Z",
     "start_time": "2024-06-18T13:38:19.907864Z"
    }
   },
   "cell_type": "code",
   "source": [
    "votings_csv = pd.DataFrame()\n",
    "\n",
    "def add_final_vote_column(df):\n",
    "    # Sort the dataframe by the file URL and `V_order0` to ensure the order is correct\n",
    "    df = df.sort_values(by=['File', 'V_order0'])\n",
    "\n",
    "    # Create a column to identify the last V_order0 within each file URL\n",
    "    df['FinalVote'] = df.groupby('File')['V_order0'].transform(lambda x: x == x.max()).astype(int)\n",
    "    df['Vote'] = (df['Yes'] > df['No']).astype(int)\n",
    "\n",
    "    return df\n",
    "voted_csv_transformed = add_final_vote_column(voted_docs_csv)"
   ],
   "id": "9e855b798077b22e",
   "outputs": [],
   "execution_count": 24
  },
  {
   "metadata": {
    "ExecuteTime": {
     "end_time": "2024-06-18T13:38:19.939418Z",
     "start_time": "2024-06-18T13:38:19.932333Z"
    }
   },
   "cell_type": "code",
   "source": [
    "def extract_voteid(vote_committee):\n",
    "    # Substrings to remove\n",
    "    substring_to_remove = \"V\"\n",
    "    # Safely handle None values\n",
    "    safe_vote_committee = vote_committee or \"\"\n",
    "\n",
    "    if substring_to_remove in safe_vote_committee:\n",
    "        result_string = safe_vote_committee.replace(substring_to_remove, \"\")\n",
    "        try:\n",
    "            # Convert the result to an integer, add 3, and convert back to string\n",
    "            result_number = int(result_string) + 13412\n",
    "            return str(result_number)\n",
    "        except ValueError:\n",
    "            # If conversion fails, return the original safe_vote_committee\n",
    "            return safe_vote_committee\n",
    "    else:\n",
    "        return safe_vote_committee  # Return the input or an empty string if None was input\n",
    "\n",
    "\n",
    "def extract_leg_csv(row):\n",
    "    substring = \"budget\"\n",
    "    # Check if 'Procedure' is not None\n",
    "    if row['Legislative'] is not None:\n",
    "        return \"Leg\"\n",
    "\n",
    "    # Safely check for 'substring' in 'vote_title' and 'vote_committee'\n",
    "    title_contains_substring = substring in (row['Title'] or \"\").lower()\n",
    "    committee_contains_substring = substring in (row['Committee'] or \"\").lower()\n",
    "\n",
    "    # Determine the return value based on the conditions\n",
    "    if title_contains_substring or committee_contains_substring:\n",
    "        return \"Bud\"\n",
    "    else:\n",
    "        return \"Non-Leg\"\n",
    "\n",
    "\n",
    "replacements = {\n",
    "    \"â€™\": \"'\",\n",
    "    \"â\": \"'\",\n",
    "    \"Ã¼\": \"ü\",\n",
    "    \"Ã©\": \"é\",\n",
    "    \"Ã¨\": \"è\",\n",
    "    \"Ã¶\": \"ö\",\n",
    "    \"Ã\": \"à\",\n",
    "    \"Ð\": \"-\",\n",
    "    \"Õ\": \"'\",\n",
    "    \"â\": \"'\",\n",
    "    \"\": \"é\",\n",
    "    \"\": \"é\",\n",
    "    \"\": \"-\",\n",
    "    \"\": \"ß\",\n",
    "    \"\": \"-\"\n",
    "}\n",
    "mapping_dict2 = {\n",
    "    \"Environment, Public Health and Food Safety\": \"Environment & public health\",\n",
    "    \"Constitutional Affairs\": \"Constitutional & Inter-Institutional Affairs\",\n",
    "    \"Foreign Affairs\": \"Foreign & security policy\",\n",
    "    \"Budgets\": \"Budget\",\n",
    "    \"Employment and Social Affairs\": \"Employment & Social Affairs\",\n",
    "    \"Industry, Research and Energy\": \"Industry, Research & Energy\",\n",
    "    \"Budgetary Control\": \"Budgetary Control\",\n",
    "    \"Transport and Tourism\": \"Transport and Tourism\",\n",
    "    \"Civil Liberties, Justice and Home Affairs\": \"Civil liberties, justice & home affairs\",\n",
    "    \"Internal Market and Consumer Protection\": \"Internal market & consumer protection\",\n",
    "    \"Economic and Monetary Affairs\": \"Economic & Monetary Affairs\",\n",
    "    \"Legal Affairs\": \"Legal affairs\",\n",
    "    \"Special the COVID-19 pandemic: lessons learned and recommendations for the futureÊ\": \"Special the COVID-19 pandemic: lessons learned and recommendations for the future\",\n",
    "    \"Culture and Education\": \"Culture & education\",\n",
    "    \"Agriculture and Rural Development\": \"Agriculture\",\n",
    "    \"Fisheries\": \"Fisheries\",\n",
    "    \"Special foreign interference in all democratic processes in the European Union, including disinformation, and the strengthening of integrity, transparency and accountability in the European ParliamentÊ\": \"Special foreign interference in all democratic processes in the European Union, including disinformation, and the strengthening of integrity, transparency and accountability in the European Parliament\",\n",
    "    \"International Trade\": \"International trade\",\n",
    "    \"Women's Rights and Gender Equality\": \"Women’s Rights and Gender Equality\",\n",
    "    \"Regional Development\": \"Regional Development\",\n",
    "    \"Petitions\": \"Petitions\",\n",
    "    \"Development\": \"Development\"\n",
    "}\n",
    "\n",
    "\n",
    "def replace_bad_chars(text, replacements):\n",
    "    for old_char, new_char in replacements.items():\n",
    "        text = text.replace(old_char, new_char)\n",
    "    return text"
   ],
   "id": "f4f8ac48b08dfa65",
   "outputs": [],
   "execution_count": 25
  },
  {
   "metadata": {
    "ExecuteTime": {
     "end_time": "2024-06-18T13:38:19.999909Z",
     "start_time": "2024-06-18T13:38:19.941435Z"
    }
   },
   "cell_type": "code",
   "source": [
    "votings_csv['VoteId'] = voted_csv_transformed['Vote.ID'].apply(extract_voteid)\n",
    "votings_csv['Date'] = pd.to_datetime(voted_csv_transformed['Date'], format='%d/%m/%Y')\n",
    "votings_csv['Title'] = voted_csv_transformed['Title']\n",
    "oj_mask = votings_csv['Title'] == 'OJ'\n",
    "voted_csv_transformed['desc'] = voted_csv_transformed['desc'].apply(lambda x: replace_bad_chars(x, replacements))\n",
    "votings_csv.loc[oj_mask, 'Title'] = voted_docs_csv.loc[voted_csv_transformed['Title'] == 'OJ', 'desc'].values\n",
    "votings_csv['Procedure'] = voted_csv_transformed['Legislative']\n",
    "voted_csv_transformed[\"Leg/Non-Leg/Bud\"] = voted_csv_transformed.apply(extract_leg_csv, axis=1)\n",
    "votings_csv[\"Leg/Non-Leg/Bud\"] = voted_csv_transformed[\"Leg/Non-Leg/Bud\"]\n",
    "votings_csv[\"TypeOfVote\"] = voted_csv_transformed['Reolutions']\n",
    "votings_csv[\"VotingRule\"] = \"s\"\n",
    "votings_csv[\"Rapporteur\"] = voted_csv_transformed[\"Rapporteur\"].replace(\"No Rapporteur\", \"\")\n",
    "votings_csv[\"Link\"] = voted_csv_transformed[\"urls\"]\n",
    "votings_csv[\"CommitteeResponsabile\"] = voted_csv_transformed[\"Committee\"].replace(\"0\", \"\")\n",
    "votings_csv[\"PolicyArea\"] = voted_csv_transformed[\"Committee\"].replace(\"0\", \"\")\n",
    "votings_csv[\"Subject\"] = voted_csv_transformed[\"Reolutions\"]\n",
    "votings_csv[\"FinalVote\"] = voted_csv_transformed[\"FinalVote\"]\n",
    "votings_csv[\"AmNo\"] = voted_csv_transformed[\"Amendment\"].replace(\"-\", \"\")\n",
    "votings_csv['Author'] = \"\"\n",
    "votings_csv[\"Vote\"] = voted_csv_transformed[\"Vote\"]\n",
    "votings_csv[\"Yes\"] = voted_csv_transformed[\"Yes\"]\n",
    "votings_csv[\"No\"] = voted_csv_transformed[\"No\"]\n",
    "votings_csv[\"Abs\"] = voted_csv_transformed[\"Abstain\"]\n",
    "\n",
    "votings_csv['PolicyArea'].replace(mapping_dict2, inplace=True)"
   ],
   "id": "7ac7c708a49fed3f",
   "outputs": [
    {
     "name": "stderr",
     "output_type": "stream",
     "text": [
      "C:\\Users\\zwiad\\AppData\\Local\\Temp\\ipykernel_22836\\1491469507.py:25: FutureWarning: A value is trying to be set on a copy of a DataFrame or Series through chained assignment using an inplace method.\n",
      "The behavior will change in pandas 3.0. This inplace method will never work because the intermediate object on which we are setting values always behaves as a copy.\n",
      "\n",
      "For example, when doing 'df[col].method(value, inplace=True)', try using 'df.method({col: value}, inplace=True)' or df[col] = df[col].method(value) instead, to perform the operation inplace on the original object.\n",
      "\n",
      "\n",
      "  votings_csv['PolicyArea'].replace(mapping_dict2, inplace=True)\n"
     ]
    }
   ],
   "execution_count": 26
  },
  {
   "metadata": {
    "ExecuteTime": {
     "end_time": "2024-06-18T13:38:20.004567Z",
     "start_time": "2024-06-18T13:38:20.000917Z"
    }
   },
   "cell_type": "code",
   "source": "EP_9_votations = EP_9_votations[:13412]",
   "id": "10421258a9ee1f65",
   "outputs": [],
   "execution_count": 27
  },
  {
   "metadata": {
    "ExecuteTime": {
     "end_time": "2024-06-18T13:38:20.022968Z",
     "start_time": "2024-06-18T13:38:20.008578Z"
    }
   },
   "cell_type": "code",
   "source": "EP_9_votations",
   "id": "ffab657d0dfb8deb",
   "outputs": [
    {
     "data": {
      "text/plain": [
       "       VoteId       Date                                              Title  \\\n",
       "0           1 2019-07-15             Tuesday - request by the GUE/NGL group   \n",
       "1           2 2019-07-18                Situation at the USA-Mexican border   \n",
       "2           3 2019-07-18                Situation at the USA-Mexican border   \n",
       "3           4 2019-07-18                Situation at the USA-Mexican border   \n",
       "4           5 2019-07-18                Situation at the USA-Mexican border   \n",
       "...       ...        ...                                                ...   \n",
       "13407   13408 2022-06-08  The EU’s Foreign, Security and Defence Policy ...   \n",
       "13408   13409 2022-06-08  The EU’s Foreign, Security and Defence Policy ...   \n",
       "13409   13410 2022-06-08  The EU’s Foreign, Security and Defence Policy ...   \n",
       "13410   13411 2022-06-08  The EU’s Foreign, Security and Defence Policy ...   \n",
       "13411   13412 2022-06-08  Security in the Eastern Partnership area and t...   \n",
       "\n",
       "      Procedure Leg/Non-Leg/Bud                     TypeOfVote VotingRule  \\\n",
       "0           NaN             Non        Proposal for a decision          s   \n",
       "1           NaN             Non  Joint motion for a resolution          s   \n",
       "2           NaN             Non  Joint motion for a resolution          s   \n",
       "3           NaN             Non  Joint motion for a resolution          s   \n",
       "4           NaN             Non  Joint motion for a resolution          s   \n",
       "...         ...             ...                            ...        ...   \n",
       "13407       NaN             Non           Draft recommendation          s   \n",
       "13408       NaN             Non           Draft recommendation          s   \n",
       "13409       NaN             Non           Draft recommendation          s   \n",
       "13410       NaN             Non           Draft recommendation          s   \n",
       "13411       NaN             Non          Motion for resolution          s   \n",
       "\n",
       "               Rapporteur                                               Link  \\\n",
       "0                     NaN  http://www.europarl.europa.eu/doceo/document/P...   \n",
       "1                     NaN  http://www.europarl.europa.eu/doceo/document/R...   \n",
       "2                     NaN  http://www.europarl.europa.eu/doceo/document/R...   \n",
       "3                     NaN  http://www.europarl.europa.eu/doceo/document/R...   \n",
       "4                     NaN  http://www.europarl.europa.eu/doceo/document/R...   \n",
       "...                   ...                                                ...   \n",
       "13407  McAllister/Loiseau  https://www.europarl.europa.eu/doceo/document/...   \n",
       "13408  McAllister/Loiseau  https://www.europarl.europa.eu/doceo/document/...   \n",
       "13409  McAllister/Loiseau  https://www.europarl.europa.eu/doceo/document/...   \n",
       "13410  McAllister/Loiseau  https://www.europarl.europa.eu/doceo/document/...   \n",
       "13411       Waszczykowski  https://www.europarl.europa.eu/doceo/document/...   \n",
       "\n",
       "              CommitteeResponsabile                 PolicyArea  \\\n",
       "0                               NaN  Foreign & security policy   \n",
       "1                               NaN  Foreign & security policy   \n",
       "2                               NaN  Foreign & security policy   \n",
       "3                               NaN  Foreign & security policy   \n",
       "4                               NaN  Foreign & security policy   \n",
       "...                             ...                        ...   \n",
       "13407  Committee on Foreign Affairs  Foreign & security policy   \n",
       "13408  Committee on Foreign Affairs  Foreign & security policy   \n",
       "13409  Committee on Foreign Affairs  Foreign & security policy   \n",
       "13410  Committee on Foreign Affairs  Foreign & security policy   \n",
       "13411  Committee on Foreign Affairs  Foreign & security policy   \n",
       "\n",
       "                             Subject  FinalVote AmNo          Author  Vote  \\\n",
       "0                    Procedural vote          1  NaN             NaN     0   \n",
       "1                       Paragraph 13          0  NaN  original text      1   \n",
       "2                       Paragraph 14          0  NaN  original text      1   \n",
       "3                       Paragraph 17          0  NaN  original text      1   \n",
       "4                       Paragraph 19          0  NaN  original text      1   \n",
       "...                              ...        ...  ...             ...   ...   \n",
       "13407           Paragraph 1, point o          0  NaN   original text     1   \n",
       "13408          Paragraph 1, point av          0   39      EPP, Renew     1   \n",
       "13409          Paragraph 1, point ay          0  NaN   original text     1   \n",
       "13410  vote: resolution (as a whole)          1  NaN             NaN     1   \n",
       "13411  vote: resolution (as a whole)          1  NaN             NaN     1   \n",
       "\n",
       "       Yes   No  Abs  \n",
       "0       83  142   72  \n",
       "1      311  269   33  \n",
       "2      437  155   33  \n",
       "3      441  158   27  \n",
       "4      466  146   41  \n",
       "...    ...  ...  ...  \n",
       "13407  511   64   15  \n",
       "13408  452  121   22  \n",
       "13409  508   56   19  \n",
       "13410  438   65   94  \n",
       "13411  490   59   38  \n",
       "\n",
       "[13412 rows x 19 columns]"
      ],
      "text/html": [
       "<div>\n",
       "<style scoped>\n",
       "    .dataframe tbody tr th:only-of-type {\n",
       "        vertical-align: middle;\n",
       "    }\n",
       "\n",
       "    .dataframe tbody tr th {\n",
       "        vertical-align: top;\n",
       "    }\n",
       "\n",
       "    .dataframe thead th {\n",
       "        text-align: right;\n",
       "    }\n",
       "</style>\n",
       "<table border=\"1\" class=\"dataframe\">\n",
       "  <thead>\n",
       "    <tr style=\"text-align: right;\">\n",
       "      <th></th>\n",
       "      <th>VoteId</th>\n",
       "      <th>Date</th>\n",
       "      <th>Title</th>\n",
       "      <th>Procedure</th>\n",
       "      <th>Leg/Non-Leg/Bud</th>\n",
       "      <th>TypeOfVote</th>\n",
       "      <th>VotingRule</th>\n",
       "      <th>Rapporteur</th>\n",
       "      <th>Link</th>\n",
       "      <th>CommitteeResponsabile</th>\n",
       "      <th>PolicyArea</th>\n",
       "      <th>Subject</th>\n",
       "      <th>FinalVote</th>\n",
       "      <th>AmNo</th>\n",
       "      <th>Author</th>\n",
       "      <th>Vote</th>\n",
       "      <th>Yes</th>\n",
       "      <th>No</th>\n",
       "      <th>Abs</th>\n",
       "    </tr>\n",
       "  </thead>\n",
       "  <tbody>\n",
       "    <tr>\n",
       "      <th>0</th>\n",
       "      <td>1</td>\n",
       "      <td>2019-07-15</td>\n",
       "      <td>Tuesday - request by the GUE/NGL group</td>\n",
       "      <td>NaN</td>\n",
       "      <td>Non</td>\n",
       "      <td>Proposal for a decision</td>\n",
       "      <td>s</td>\n",
       "      <td>NaN</td>\n",
       "      <td>http://www.europarl.europa.eu/doceo/document/P...</td>\n",
       "      <td>NaN</td>\n",
       "      <td>Foreign &amp; security policy</td>\n",
       "      <td>Procedural vote</td>\n",
       "      <td>1</td>\n",
       "      <td>NaN</td>\n",
       "      <td>NaN</td>\n",
       "      <td>0</td>\n",
       "      <td>83</td>\n",
       "      <td>142</td>\n",
       "      <td>72</td>\n",
       "    </tr>\n",
       "    <tr>\n",
       "      <th>1</th>\n",
       "      <td>2</td>\n",
       "      <td>2019-07-18</td>\n",
       "      <td>Situation at the USA-Mexican border</td>\n",
       "      <td>NaN</td>\n",
       "      <td>Non</td>\n",
       "      <td>Joint motion for a resolution</td>\n",
       "      <td>s</td>\n",
       "      <td>NaN</td>\n",
       "      <td>http://www.europarl.europa.eu/doceo/document/R...</td>\n",
       "      <td>NaN</td>\n",
       "      <td>Foreign &amp; security policy</td>\n",
       "      <td>Paragraph 13</td>\n",
       "      <td>0</td>\n",
       "      <td>NaN</td>\n",
       "      <td>original text</td>\n",
       "      <td>1</td>\n",
       "      <td>311</td>\n",
       "      <td>269</td>\n",
       "      <td>33</td>\n",
       "    </tr>\n",
       "    <tr>\n",
       "      <th>2</th>\n",
       "      <td>3</td>\n",
       "      <td>2019-07-18</td>\n",
       "      <td>Situation at the USA-Mexican border</td>\n",
       "      <td>NaN</td>\n",
       "      <td>Non</td>\n",
       "      <td>Joint motion for a resolution</td>\n",
       "      <td>s</td>\n",
       "      <td>NaN</td>\n",
       "      <td>http://www.europarl.europa.eu/doceo/document/R...</td>\n",
       "      <td>NaN</td>\n",
       "      <td>Foreign &amp; security policy</td>\n",
       "      <td>Paragraph 14</td>\n",
       "      <td>0</td>\n",
       "      <td>NaN</td>\n",
       "      <td>original text</td>\n",
       "      <td>1</td>\n",
       "      <td>437</td>\n",
       "      <td>155</td>\n",
       "      <td>33</td>\n",
       "    </tr>\n",
       "    <tr>\n",
       "      <th>3</th>\n",
       "      <td>4</td>\n",
       "      <td>2019-07-18</td>\n",
       "      <td>Situation at the USA-Mexican border</td>\n",
       "      <td>NaN</td>\n",
       "      <td>Non</td>\n",
       "      <td>Joint motion for a resolution</td>\n",
       "      <td>s</td>\n",
       "      <td>NaN</td>\n",
       "      <td>http://www.europarl.europa.eu/doceo/document/R...</td>\n",
       "      <td>NaN</td>\n",
       "      <td>Foreign &amp; security policy</td>\n",
       "      <td>Paragraph 17</td>\n",
       "      <td>0</td>\n",
       "      <td>NaN</td>\n",
       "      <td>original text</td>\n",
       "      <td>1</td>\n",
       "      <td>441</td>\n",
       "      <td>158</td>\n",
       "      <td>27</td>\n",
       "    </tr>\n",
       "    <tr>\n",
       "      <th>4</th>\n",
       "      <td>5</td>\n",
       "      <td>2019-07-18</td>\n",
       "      <td>Situation at the USA-Mexican border</td>\n",
       "      <td>NaN</td>\n",
       "      <td>Non</td>\n",
       "      <td>Joint motion for a resolution</td>\n",
       "      <td>s</td>\n",
       "      <td>NaN</td>\n",
       "      <td>http://www.europarl.europa.eu/doceo/document/R...</td>\n",
       "      <td>NaN</td>\n",
       "      <td>Foreign &amp; security policy</td>\n",
       "      <td>Paragraph 19</td>\n",
       "      <td>0</td>\n",
       "      <td>NaN</td>\n",
       "      <td>original text</td>\n",
       "      <td>1</td>\n",
       "      <td>466</td>\n",
       "      <td>146</td>\n",
       "      <td>41</td>\n",
       "    </tr>\n",
       "    <tr>\n",
       "      <th>...</th>\n",
       "      <td>...</td>\n",
       "      <td>...</td>\n",
       "      <td>...</td>\n",
       "      <td>...</td>\n",
       "      <td>...</td>\n",
       "      <td>...</td>\n",
       "      <td>...</td>\n",
       "      <td>...</td>\n",
       "      <td>...</td>\n",
       "      <td>...</td>\n",
       "      <td>...</td>\n",
       "      <td>...</td>\n",
       "      <td>...</td>\n",
       "      <td>...</td>\n",
       "      <td>...</td>\n",
       "      <td>...</td>\n",
       "      <td>...</td>\n",
       "      <td>...</td>\n",
       "      <td>...</td>\n",
       "    </tr>\n",
       "    <tr>\n",
       "      <th>13407</th>\n",
       "      <td>13408</td>\n",
       "      <td>2022-06-08</td>\n",
       "      <td>The EU’s Foreign, Security and Defence Policy ...</td>\n",
       "      <td>NaN</td>\n",
       "      <td>Non</td>\n",
       "      <td>Draft recommendation</td>\n",
       "      <td>s</td>\n",
       "      <td>McAllister/Loiseau</td>\n",
       "      <td>https://www.europarl.europa.eu/doceo/document/...</td>\n",
       "      <td>Committee on Foreign Affairs</td>\n",
       "      <td>Foreign &amp; security policy</td>\n",
       "      <td>Paragraph 1, point o</td>\n",
       "      <td>0</td>\n",
       "      <td>NaN</td>\n",
       "      <td>original text</td>\n",
       "      <td>1</td>\n",
       "      <td>511</td>\n",
       "      <td>64</td>\n",
       "      <td>15</td>\n",
       "    </tr>\n",
       "    <tr>\n",
       "      <th>13408</th>\n",
       "      <td>13409</td>\n",
       "      <td>2022-06-08</td>\n",
       "      <td>The EU’s Foreign, Security and Defence Policy ...</td>\n",
       "      <td>NaN</td>\n",
       "      <td>Non</td>\n",
       "      <td>Draft recommendation</td>\n",
       "      <td>s</td>\n",
       "      <td>McAllister/Loiseau</td>\n",
       "      <td>https://www.europarl.europa.eu/doceo/document/...</td>\n",
       "      <td>Committee on Foreign Affairs</td>\n",
       "      <td>Foreign &amp; security policy</td>\n",
       "      <td>Paragraph 1, point av</td>\n",
       "      <td>0</td>\n",
       "      <td>39</td>\n",
       "      <td>EPP, Renew</td>\n",
       "      <td>1</td>\n",
       "      <td>452</td>\n",
       "      <td>121</td>\n",
       "      <td>22</td>\n",
       "    </tr>\n",
       "    <tr>\n",
       "      <th>13409</th>\n",
       "      <td>13410</td>\n",
       "      <td>2022-06-08</td>\n",
       "      <td>The EU’s Foreign, Security and Defence Policy ...</td>\n",
       "      <td>NaN</td>\n",
       "      <td>Non</td>\n",
       "      <td>Draft recommendation</td>\n",
       "      <td>s</td>\n",
       "      <td>McAllister/Loiseau</td>\n",
       "      <td>https://www.europarl.europa.eu/doceo/document/...</td>\n",
       "      <td>Committee on Foreign Affairs</td>\n",
       "      <td>Foreign &amp; security policy</td>\n",
       "      <td>Paragraph 1, point ay</td>\n",
       "      <td>0</td>\n",
       "      <td>NaN</td>\n",
       "      <td>original text</td>\n",
       "      <td>1</td>\n",
       "      <td>508</td>\n",
       "      <td>56</td>\n",
       "      <td>19</td>\n",
       "    </tr>\n",
       "    <tr>\n",
       "      <th>13410</th>\n",
       "      <td>13411</td>\n",
       "      <td>2022-06-08</td>\n",
       "      <td>The EU’s Foreign, Security and Defence Policy ...</td>\n",
       "      <td>NaN</td>\n",
       "      <td>Non</td>\n",
       "      <td>Draft recommendation</td>\n",
       "      <td>s</td>\n",
       "      <td>McAllister/Loiseau</td>\n",
       "      <td>https://www.europarl.europa.eu/doceo/document/...</td>\n",
       "      <td>Committee on Foreign Affairs</td>\n",
       "      <td>Foreign &amp; security policy</td>\n",
       "      <td>vote: resolution (as a whole)</td>\n",
       "      <td>1</td>\n",
       "      <td>NaN</td>\n",
       "      <td>NaN</td>\n",
       "      <td>1</td>\n",
       "      <td>438</td>\n",
       "      <td>65</td>\n",
       "      <td>94</td>\n",
       "    </tr>\n",
       "    <tr>\n",
       "      <th>13411</th>\n",
       "      <td>13412</td>\n",
       "      <td>2022-06-08</td>\n",
       "      <td>Security in the Eastern Partnership area and t...</td>\n",
       "      <td>NaN</td>\n",
       "      <td>Non</td>\n",
       "      <td>Motion for resolution</td>\n",
       "      <td>s</td>\n",
       "      <td>Waszczykowski</td>\n",
       "      <td>https://www.europarl.europa.eu/doceo/document/...</td>\n",
       "      <td>Committee on Foreign Affairs</td>\n",
       "      <td>Foreign &amp; security policy</td>\n",
       "      <td>vote: resolution (as a whole)</td>\n",
       "      <td>1</td>\n",
       "      <td>NaN</td>\n",
       "      <td>NaN</td>\n",
       "      <td>1</td>\n",
       "      <td>490</td>\n",
       "      <td>59</td>\n",
       "      <td>38</td>\n",
       "    </tr>\n",
       "  </tbody>\n",
       "</table>\n",
       "<p>13412 rows × 19 columns</p>\n",
       "</div>"
      ]
     },
     "execution_count": 28,
     "metadata": {},
     "output_type": "execute_result"
    }
   ],
   "execution_count": 28
  },
  {
   "metadata": {
    "ExecuteTime": {
     "end_time": "2024-06-18T13:38:20.036705Z",
     "start_time": "2024-06-18T13:38:20.023980Z"
    }
   },
   "cell_type": "code",
   "source": "votings_csv.tail(5)",
   "id": "60ec8a27d7858121",
   "outputs": [
    {
     "data": {
      "text/plain": [
       "     VoteId       Date                                              Title  \\\n",
       "5257  18670 2024-03-14  Creation of a European initiative for an annua...   \n",
       "5258  18671 2024-03-14  Creation of a European initiative for an annua...   \n",
       "5259  18672 2024-03-14  Creation of a European initiative for an annua...   \n",
       "5260  18673 2024-03-14  Creation of a European initiative for an annua...   \n",
       "5261  18674 2024-03-14  Creation of a European initiative for an annua...   \n",
       "\n",
       "     Procedure Leg/Non-Leg/Bud  \\\n",
       "5257    166704             Leg   \n",
       "5258    166705             Leg   \n",
       "5259    166087             Leg   \n",
       "5260    166692             Leg   \n",
       "5261    166693             Leg   \n",
       "\n",
       "                                             TypeOfVote VotingRule  \\\n",
       "5257                                                NaN          s   \n",
       "5258                                                NaN          s   \n",
       "5259  mise en Åuvre et rÃ©sultats dans les Ãtats m...          s   \n",
       "5260                                                NaN          s   \n",
       "5261                                                NaN          s   \n",
       "\n",
       "          Rapporteur                                               Link  \\\n",
       "5257             NaN  https://www.europarl.europa.eu/doceo/document/...   \n",
       "5258             NaN  https://www.europarl.europa.eu/doceo/document/...   \n",
       "5259  Andrey Novakov  https://www.europarl.europa.eu/doceo/document/...   \n",
       "5260             NaN  https://www.europarl.europa.eu/doceo/document/...   \n",
       "5261             NaN  https://www.europarl.europa.eu/doceo/document/...   \n",
       "\n",
       "     CommitteeResponsabile            PolicyArea  \\\n",
       "5257                                               \n",
       "5258                                               \n",
       "5259  Regional Development  Regional Development   \n",
       "5260                                               \n",
       "5261                                               \n",
       "\n",
       "                                                Subject  FinalVote  \\\n",
       "5257                                                NaN          0   \n",
       "5258                                                NaN          0   \n",
       "5259  mise en Åuvre et rÃ©sultats dans les Ãtats m...          0   \n",
       "5260                                                NaN          0   \n",
       "5261                                                NaN          1   \n",
       "\n",
       "                                                   AmNo Author  Vote  Yes  \\\n",
       "5257                              B9-0174/2024 - Â§ 7/2            1  309   \n",
       "5258                               B9-0174/2024 - Â§ 11            1  393   \n",
       "5259  Politique de cohÃ©sion 2014-2020 â mise en Å...            1  433   \n",
       "5260  Adoption de la mesure spÃ©ciale en faveur de l...            0  237   \n",
       "5261     B9-0173/2024 - AprÃ¨s le considÃ©rant N - Am 1            0  230   \n",
       "\n",
       "       No  Abs  \n",
       "5257  191   24  \n",
       "5258  117   13  \n",
       "5259   36   51  \n",
       "5260  259   13  \n",
       "5261  249   13  "
      ],
      "text/html": [
       "<div>\n",
       "<style scoped>\n",
       "    .dataframe tbody tr th:only-of-type {\n",
       "        vertical-align: middle;\n",
       "    }\n",
       "\n",
       "    .dataframe tbody tr th {\n",
       "        vertical-align: top;\n",
       "    }\n",
       "\n",
       "    .dataframe thead th {\n",
       "        text-align: right;\n",
       "    }\n",
       "</style>\n",
       "<table border=\"1\" class=\"dataframe\">\n",
       "  <thead>\n",
       "    <tr style=\"text-align: right;\">\n",
       "      <th></th>\n",
       "      <th>VoteId</th>\n",
       "      <th>Date</th>\n",
       "      <th>Title</th>\n",
       "      <th>Procedure</th>\n",
       "      <th>Leg/Non-Leg/Bud</th>\n",
       "      <th>TypeOfVote</th>\n",
       "      <th>VotingRule</th>\n",
       "      <th>Rapporteur</th>\n",
       "      <th>Link</th>\n",
       "      <th>CommitteeResponsabile</th>\n",
       "      <th>PolicyArea</th>\n",
       "      <th>Subject</th>\n",
       "      <th>FinalVote</th>\n",
       "      <th>AmNo</th>\n",
       "      <th>Author</th>\n",
       "      <th>Vote</th>\n",
       "      <th>Yes</th>\n",
       "      <th>No</th>\n",
       "      <th>Abs</th>\n",
       "    </tr>\n",
       "  </thead>\n",
       "  <tbody>\n",
       "    <tr>\n",
       "      <th>5257</th>\n",
       "      <td>18670</td>\n",
       "      <td>2024-03-14</td>\n",
       "      <td>Creation of a European initiative for an annua...</td>\n",
       "      <td>166704</td>\n",
       "      <td>Leg</td>\n",
       "      <td>NaN</td>\n",
       "      <td>s</td>\n",
       "      <td>NaN</td>\n",
       "      <td>https://www.europarl.europa.eu/doceo/document/...</td>\n",
       "      <td></td>\n",
       "      <td></td>\n",
       "      <td>NaN</td>\n",
       "      <td>0</td>\n",
       "      <td>B9-0174/2024 - Â§ 7/2</td>\n",
       "      <td></td>\n",
       "      <td>1</td>\n",
       "      <td>309</td>\n",
       "      <td>191</td>\n",
       "      <td>24</td>\n",
       "    </tr>\n",
       "    <tr>\n",
       "      <th>5258</th>\n",
       "      <td>18671</td>\n",
       "      <td>2024-03-14</td>\n",
       "      <td>Creation of a European initiative for an annua...</td>\n",
       "      <td>166705</td>\n",
       "      <td>Leg</td>\n",
       "      <td>NaN</td>\n",
       "      <td>s</td>\n",
       "      <td>NaN</td>\n",
       "      <td>https://www.europarl.europa.eu/doceo/document/...</td>\n",
       "      <td></td>\n",
       "      <td></td>\n",
       "      <td>NaN</td>\n",
       "      <td>0</td>\n",
       "      <td>B9-0174/2024 - Â§ 11</td>\n",
       "      <td></td>\n",
       "      <td>1</td>\n",
       "      <td>393</td>\n",
       "      <td>117</td>\n",
       "      <td>13</td>\n",
       "    </tr>\n",
       "    <tr>\n",
       "      <th>5259</th>\n",
       "      <td>18672</td>\n",
       "      <td>2024-03-14</td>\n",
       "      <td>Creation of a European initiative for an annua...</td>\n",
       "      <td>166087</td>\n",
       "      <td>Leg</td>\n",
       "      <td>mise en Åuvre et rÃ©sultats dans les Ãtats m...</td>\n",
       "      <td>s</td>\n",
       "      <td>Andrey Novakov</td>\n",
       "      <td>https://www.europarl.europa.eu/doceo/document/...</td>\n",
       "      <td>Regional Development</td>\n",
       "      <td>Regional Development</td>\n",
       "      <td>mise en Åuvre et rÃ©sultats dans les Ãtats m...</td>\n",
       "      <td>0</td>\n",
       "      <td>Politique de cohÃ©sion 2014-2020 â mise en Å...</td>\n",
       "      <td></td>\n",
       "      <td>1</td>\n",
       "      <td>433</td>\n",
       "      <td>36</td>\n",
       "      <td>51</td>\n",
       "    </tr>\n",
       "    <tr>\n",
       "      <th>5260</th>\n",
       "      <td>18673</td>\n",
       "      <td>2024-03-14</td>\n",
       "      <td>Creation of a European initiative for an annua...</td>\n",
       "      <td>166692</td>\n",
       "      <td>Leg</td>\n",
       "      <td>NaN</td>\n",
       "      <td>s</td>\n",
       "      <td>NaN</td>\n",
       "      <td>https://www.europarl.europa.eu/doceo/document/...</td>\n",
       "      <td></td>\n",
       "      <td></td>\n",
       "      <td>NaN</td>\n",
       "      <td>0</td>\n",
       "      <td>Adoption de la mesure spÃ©ciale en faveur de l...</td>\n",
       "      <td></td>\n",
       "      <td>0</td>\n",
       "      <td>237</td>\n",
       "      <td>259</td>\n",
       "      <td>13</td>\n",
       "    </tr>\n",
       "    <tr>\n",
       "      <th>5261</th>\n",
       "      <td>18674</td>\n",
       "      <td>2024-03-14</td>\n",
       "      <td>Creation of a European initiative for an annua...</td>\n",
       "      <td>166693</td>\n",
       "      <td>Leg</td>\n",
       "      <td>NaN</td>\n",
       "      <td>s</td>\n",
       "      <td>NaN</td>\n",
       "      <td>https://www.europarl.europa.eu/doceo/document/...</td>\n",
       "      <td></td>\n",
       "      <td></td>\n",
       "      <td>NaN</td>\n",
       "      <td>1</td>\n",
       "      <td>B9-0173/2024 - AprÃ¨s le considÃ©rant N - Am 1</td>\n",
       "      <td></td>\n",
       "      <td>0</td>\n",
       "      <td>230</td>\n",
       "      <td>249</td>\n",
       "      <td>13</td>\n",
       "    </tr>\n",
       "  </tbody>\n",
       "</table>\n",
       "</div>"
      ]
     },
     "execution_count": 29,
     "metadata": {},
     "output_type": "execute_result"
    }
   ],
   "execution_count": 29
  },
  {
   "metadata": {
    "ExecuteTime": {
     "end_time": "2024-06-18T13:38:20.044756Z",
     "start_time": "2024-06-18T13:38:20.038720Z"
    }
   },
   "cell_type": "code",
   "source": "EP_9_votes_fixed_names.shape",
   "id": "ddfcf03983f47e9",
   "outputs": [
    {
     "data": {
      "text/plain": [
       "(811, 13469)"
      ]
     },
     "execution_count": 30,
     "metadata": {},
     "output_type": "execute_result"
    }
   ],
   "execution_count": 30
  },
  {
   "metadata": {
    "ExecuteTime": {
     "end_time": "2024-06-18T13:38:20.075141Z",
     "start_time": "2024-06-18T13:38:20.045767Z"
    }
   },
   "cell_type": "code",
   "source": "EP_9_votes_fixed_names.iloc[:, :-47].shape",
   "id": "ff4ac3a199bbbe51",
   "outputs": [
    {
     "data": {
      "text/plain": [
       "(811, 13422)"
      ]
     },
     "execution_count": 31,
     "metadata": {},
     "output_type": "execute_result"
    }
   ],
   "execution_count": 31
  },
  {
   "metadata": {
    "ExecuteTime": {
     "end_time": "2024-06-18T13:38:20.081332Z",
     "start_time": "2024-06-18T13:38:20.076149Z"
    }
   },
   "cell_type": "code",
   "source": "votes_b.shape",
   "id": "8a094a5e0f4ee524",
   "outputs": [
    {
     "data": {
      "text/plain": [
       "(866, 5267)"
      ]
     },
     "execution_count": 32,
     "metadata": {},
     "output_type": "execute_result"
    }
   ],
   "execution_count": 32
  },
  {
   "metadata": {
    "ExecuteTime": {
     "end_time": "2024-06-18T13:38:20.118460Z",
     "start_time": "2024-06-18T13:38:20.083354Z"
    }
   },
   "cell_type": "code",
   "source": [
    "vote_columns = [col for col in votes_b.columns if 'Vote_' in col]\n",
    "\n",
    "# Create a dictionary to map old column names to new column names (add 3 to the number part)\n",
    "start_number = 13413\n",
    "rename_dict = {col: str(start_number + i) for i, col in enumerate(vote_columns)}\n",
    "\n",
    "# Filter the DataFrame to include only the 'Vote_' columns and rename them\n",
    "\n",
    "b = votes_b[vote_columns].rename(columns=rename_dict)"
   ],
   "id": "1a1050d2524e4a1b",
   "outputs": [],
   "execution_count": 33
  },
  {
   "metadata": {
    "ExecuteTime": {
     "end_time": "2024-06-18T13:38:20.122124Z",
     "start_time": "2024-06-18T13:38:20.119473Z"
    }
   },
   "cell_type": "code",
   "source": "",
   "id": "831a72c36a77b4e6",
   "outputs": [],
   "execution_count": 33
  },
  {
   "metadata": {
    "ExecuteTime": {
     "end_time": "2024-06-18T13:38:22.361169Z",
     "start_time": "2024-06-18T13:38:20.123136Z"
    }
   },
   "cell_type": "code",
   "source": "b=b.astype(\"Int64\")",
   "id": "2c00d62ef1da84f1",
   "outputs": [],
   "execution_count": 34
  },
  {
   "metadata": {
    "ExecuteTime": {
     "end_time": "2024-06-18T13:38:22.366082Z",
     "start_time": "2024-06-18T13:38:22.362212Z"
    }
   },
   "cell_type": "code",
   "source": "mep_info_wnominate = votes_b[['PersID','EPG','Country','F.Name','L.Name']]",
   "id": "c19b068c60314b99",
   "outputs": [],
   "execution_count": 35
  },
  {
   "metadata": {
    "ExecuteTime": {
     "end_time": "2024-06-18T13:38:22.371900Z",
     "start_time": "2024-06-18T13:38:22.367089Z"
    }
   },
   "cell_type": "code",
   "source": "mep_info_wnominate.shape",
   "id": "5aeb84ed4e9da517",
   "outputs": [
    {
     "data": {
      "text/plain": [
       "(866, 5)"
      ]
     },
     "execution_count": 36,
     "metadata": {},
     "output_type": "execute_result"
    }
   ],
   "execution_count": 36
  },
  {
   "metadata": {
    "ExecuteTime": {
     "end_time": "2024-06-18T13:38:22.454033Z",
     "start_time": "2024-06-18T13:38:22.372914Z"
    }
   },
   "cell_type": "code",
   "source": "b.insert(0, 'MepId',mep_info_wnominate.PersID)",
   "id": "f373fe72a61dca5d",
   "outputs": [],
   "execution_count": 37
  },
  {
   "metadata": {
    "ExecuteTime": {
     "end_time": "2024-06-18T13:38:22.459996Z",
     "start_time": "2024-06-18T13:38:22.455056Z"
    }
   },
   "cell_type": "code",
   "source": "b.columns",
   "id": "6ffc4027b4ee43a5",
   "outputs": [
    {
     "data": {
      "text/plain": [
       "Index(['MepId', '13413', '13414', '13415', '13416', '13417', '13418', '13419',\n",
       "       '13420', '13421',\n",
       "       ...\n",
       "       '18665', '18666', '18667', '18668', '18669', '18670', '18671', '18672',\n",
       "       '18673', '18674'],\n",
       "      dtype='object', length=5263)"
      ]
     },
     "execution_count": 38,
     "metadata": {},
     "output_type": "execute_result"
    }
   ],
   "execution_count": 38
  },
  {
   "metadata": {
    "ExecuteTime": {
     "end_time": "2024-06-18T13:38:22.487310Z",
     "start_time": "2024-06-18T13:38:22.461008Z"
    }
   },
   "cell_type": "code",
   "source": "votes_andID = EP_9_votes_fixed_names.drop(columns=[col for col in EP_9_votes_fixed_names.columns if col in filtered_list2])",
   "id": "9e5e23dc61346e29",
   "outputs": [],
   "execution_count": 39
  },
  {
   "metadata": {
    "ExecuteTime": {
     "end_time": "2024-06-18T13:38:22.491716Z",
     "start_time": "2024-06-18T13:38:22.488316Z"
    }
   },
   "cell_type": "code",
   "source": "votes_andID = votes_andID.iloc[:, :-47]",
   "id": "d525300b1293f2af",
   "outputs": [],
   "execution_count": 40
  },
  {
   "metadata": {
    "ExecuteTime": {
     "end_time": "2024-06-18T13:38:22.826032Z",
     "start_time": "2024-06-18T13:38:22.492729Z"
    }
   },
   "cell_type": "code",
   "source": "test = pd.merge(votes_andID, b, on='MepId', how= 'outer')",
   "id": "be9263e580675a6a",
   "outputs": [],
   "execution_count": 41
  },
  {
   "metadata": {
    "ExecuteTime": {
     "end_time": "2024-06-18T13:38:26.955368Z",
     "start_time": "2024-06-18T13:38:22.828045Z"
    }
   },
   "cell_type": "code",
   "source": "votes_for_wnominate = test.astype(\"Int64\")",
   "id": "e1a04126d6761979",
   "outputs": [],
   "execution_count": 42
  },
  {
   "metadata": {
    "ExecuteTime": {
     "end_time": "2024-06-18T13:38:26.960632Z",
     "start_time": "2024-06-18T13:38:26.955368Z"
    }
   },
   "cell_type": "code",
   "source": "mep_info_wnominate.rename(columns= {\"PersID\":\"MepId\"},inplace=True)",
   "id": "2b821cc458c4e9da",
   "outputs": [
    {
     "name": "stderr",
     "output_type": "stream",
     "text": [
      "C:\\Users\\zwiad\\AppData\\Local\\Temp\\ipykernel_22836\\3030038598.py:1: SettingWithCopyWarning: \n",
      "A value is trying to be set on a copy of a slice from a DataFrame\n",
      "\n",
      "See the caveats in the documentation: https://pandas.pydata.org/pandas-docs/stable/user_guide/indexing.html#returning-a-view-versus-a-copy\n",
      "  mep_info_wnominate.rename(columns= {\"PersID\":\"MepId\"},inplace=True)\n"
     ]
    }
   ],
   "execution_count": 43
  },
  {
   "metadata": {
    "ExecuteTime": {
     "end_time": "2024-06-18T13:38:26.971510Z",
     "start_time": "2024-06-18T13:38:26.961653Z"
    }
   },
   "cell_type": "code",
   "source": "mep_info_wnominate[\"FullName\"] = mep_info_wnominate[\"F.Name\"] + \" \" + mep_info_wnominate[\"L.Name\"]",
   "id": "ae2819f325a1e3c8",
   "outputs": [
    {
     "name": "stderr",
     "output_type": "stream",
     "text": [
      "C:\\Users\\zwiad\\AppData\\Local\\Temp\\ipykernel_22836\\2862725985.py:1: SettingWithCopyWarning: \n",
      "A value is trying to be set on a copy of a slice from a DataFrame.\n",
      "Try using .loc[row_indexer,col_indexer] = value instead\n",
      "\n",
      "See the caveats in the documentation: https://pandas.pydata.org/pandas-docs/stable/user_guide/indexing.html#returning-a-view-versus-a-copy\n",
      "  mep_info_wnominate[\"FullName\"] = mep_info_wnominate[\"F.Name\"] + \" \" + mep_info_wnominate[\"L.Name\"]\n"
     ]
    }
   ],
   "execution_count": 44
  },
  {
   "metadata": {
    "ExecuteTime": {
     "end_time": "2024-06-18T13:38:26.982005Z",
     "start_time": "2024-06-18T13:38:26.971510Z"
    }
   },
   "cell_type": "code",
   "source": "mep_info_wnominate",
   "id": "3b2988559c482405",
   "outputs": [
    {
     "data": {
      "text/plain": [
       "      MepId  EPG         Country         F.Name       L.Name  \\\n",
       "0       840   RE      Luxembourg        Charles      GOERENS   \n",
       "1      1394   RE  United Kingdom           Bill  NEWTON DUNN   \n",
       "2      1854  S&D         Germany      Constanze        KREHL   \n",
       "3      1892  EPP        Portugal      Coelho         COELHO    \n",
       "4      1909  S&D         Germany          Bernd        LANGE   \n",
       "..      ...  ...             ...            ...          ...   \n",
       "861  251324  EPP          Poland      Krzysztof       Brejza   \n",
       "862  251859   RE          France            Guy      Lavocat   \n",
       "863  251874  EPP         Germany          Niels      Geuking   \n",
       "864  253008  S&D          Sweden          Linus   Glanzelius   \n",
       "865  253043  EPP     Netherlands           Henk        Ormel   \n",
       "\n",
       "                  FullName  \n",
       "0          Charles GOERENS  \n",
       "1         Bill NEWTON DUNN  \n",
       "2          Constanze KREHL  \n",
       "3        Coelho    COELHO   \n",
       "4              Bernd LANGE  \n",
       "..                     ...  \n",
       "861       Krzysztof Brejza  \n",
       "862            Guy Lavocat  \n",
       "863          Niels Geuking  \n",
       "864       Linus Glanzelius  \n",
       "865             Henk Ormel  \n",
       "\n",
       "[866 rows x 6 columns]"
      ],
      "text/html": [
       "<div>\n",
       "<style scoped>\n",
       "    .dataframe tbody tr th:only-of-type {\n",
       "        vertical-align: middle;\n",
       "    }\n",
       "\n",
       "    .dataframe tbody tr th {\n",
       "        vertical-align: top;\n",
       "    }\n",
       "\n",
       "    .dataframe thead th {\n",
       "        text-align: right;\n",
       "    }\n",
       "</style>\n",
       "<table border=\"1\" class=\"dataframe\">\n",
       "  <thead>\n",
       "    <tr style=\"text-align: right;\">\n",
       "      <th></th>\n",
       "      <th>MepId</th>\n",
       "      <th>EPG</th>\n",
       "      <th>Country</th>\n",
       "      <th>F.Name</th>\n",
       "      <th>L.Name</th>\n",
       "      <th>FullName</th>\n",
       "    </tr>\n",
       "  </thead>\n",
       "  <tbody>\n",
       "    <tr>\n",
       "      <th>0</th>\n",
       "      <td>840</td>\n",
       "      <td>RE</td>\n",
       "      <td>Luxembourg</td>\n",
       "      <td>Charles</td>\n",
       "      <td>GOERENS</td>\n",
       "      <td>Charles GOERENS</td>\n",
       "    </tr>\n",
       "    <tr>\n",
       "      <th>1</th>\n",
       "      <td>1394</td>\n",
       "      <td>RE</td>\n",
       "      <td>United Kingdom</td>\n",
       "      <td>Bill</td>\n",
       "      <td>NEWTON DUNN</td>\n",
       "      <td>Bill NEWTON DUNN</td>\n",
       "    </tr>\n",
       "    <tr>\n",
       "      <th>2</th>\n",
       "      <td>1854</td>\n",
       "      <td>S&amp;D</td>\n",
       "      <td>Germany</td>\n",
       "      <td>Constanze</td>\n",
       "      <td>KREHL</td>\n",
       "      <td>Constanze KREHL</td>\n",
       "    </tr>\n",
       "    <tr>\n",
       "      <th>3</th>\n",
       "      <td>1892</td>\n",
       "      <td>EPP</td>\n",
       "      <td>Portugal</td>\n",
       "      <td>Coelho</td>\n",
       "      <td>COELHO</td>\n",
       "      <td>Coelho    COELHO</td>\n",
       "    </tr>\n",
       "    <tr>\n",
       "      <th>4</th>\n",
       "      <td>1909</td>\n",
       "      <td>S&amp;D</td>\n",
       "      <td>Germany</td>\n",
       "      <td>Bernd</td>\n",
       "      <td>LANGE</td>\n",
       "      <td>Bernd LANGE</td>\n",
       "    </tr>\n",
       "    <tr>\n",
       "      <th>...</th>\n",
       "      <td>...</td>\n",
       "      <td>...</td>\n",
       "      <td>...</td>\n",
       "      <td>...</td>\n",
       "      <td>...</td>\n",
       "      <td>...</td>\n",
       "    </tr>\n",
       "    <tr>\n",
       "      <th>861</th>\n",
       "      <td>251324</td>\n",
       "      <td>EPP</td>\n",
       "      <td>Poland</td>\n",
       "      <td>Krzysztof</td>\n",
       "      <td>Brejza</td>\n",
       "      <td>Krzysztof Brejza</td>\n",
       "    </tr>\n",
       "    <tr>\n",
       "      <th>862</th>\n",
       "      <td>251859</td>\n",
       "      <td>RE</td>\n",
       "      <td>France</td>\n",
       "      <td>Guy</td>\n",
       "      <td>Lavocat</td>\n",
       "      <td>Guy Lavocat</td>\n",
       "    </tr>\n",
       "    <tr>\n",
       "      <th>863</th>\n",
       "      <td>251874</td>\n",
       "      <td>EPP</td>\n",
       "      <td>Germany</td>\n",
       "      <td>Niels</td>\n",
       "      <td>Geuking</td>\n",
       "      <td>Niels Geuking</td>\n",
       "    </tr>\n",
       "    <tr>\n",
       "      <th>864</th>\n",
       "      <td>253008</td>\n",
       "      <td>S&amp;D</td>\n",
       "      <td>Sweden</td>\n",
       "      <td>Linus</td>\n",
       "      <td>Glanzelius</td>\n",
       "      <td>Linus Glanzelius</td>\n",
       "    </tr>\n",
       "    <tr>\n",
       "      <th>865</th>\n",
       "      <td>253043</td>\n",
       "      <td>EPP</td>\n",
       "      <td>Netherlands</td>\n",
       "      <td>Henk</td>\n",
       "      <td>Ormel</td>\n",
       "      <td>Henk Ormel</td>\n",
       "    </tr>\n",
       "  </tbody>\n",
       "</table>\n",
       "<p>866 rows × 6 columns</p>\n",
       "</div>"
      ]
     },
     "execution_count": 45,
     "metadata": {},
     "output_type": "execute_result"
    }
   ],
   "execution_count": 45
  },
  {
   "metadata": {
    "ExecuteTime": {
     "end_time": "2024-06-18T13:38:33.001845Z",
     "start_time": "2024-06-18T13:38:26.982005Z"
    }
   },
   "cell_type": "code",
   "source": [
    "mep_info = EP_9_votes_fixed_names[filtered_list]\n",
    "vote_columns = [col for col in EP_9_votes_fixed_names.columns if col not in filtered_list]\n",
    "melted_votes = pd.melt(EP_9_votes_fixed_names, id_vars='MepId', value_vars=vote_columns, var_name='VoteId', value_name='Vote')"
   ],
   "id": "efd59b5bc2189778",
   "outputs": [],
   "execution_count": 46
  },
  {
   "metadata": {},
   "cell_type": "markdown",
   "source": "Saving files to .csv\n",
   "id": "b830a3e984e38f58"
  },
  {
   "metadata": {
    "ExecuteTime": {
     "end_time": "2024-06-18T13:38:33.007962Z",
     "start_time": "2024-06-18T13:38:33.001845Z"
    }
   },
   "cell_type": "code",
   "source": [
    "base_directory = os.path.join(\"Cleaned_data\",\"EP9_clean_data\")\n",
    "os.makedirs(base_directory, exist_ok=True)"
   ],
   "id": "1ce7dcab35d0ceaa",
   "outputs": [],
   "execution_count": 47
  },
  {
   "metadata": {
    "ExecuteTime": {
     "end_time": "2024-06-18T13:40:35.727945Z",
     "start_time": "2024-06-18T13:38:33.009001Z"
    }
   },
   "cell_type": "code",
   "source": [
    "votes_for_wnominate.to_csv(os.path.join(base_directory,\"matrix_ep9_votes.csv\"),index=False)\n",
    "mep_info_wnominate.to_csv(os.path.join(base_directory,\"mep_info_for_wnominate.csv\"),index=False)"
   ],
   "id": "e96981057b9d8e4",
   "outputs": [],
   "execution_count": 48
  },
  {
   "metadata": {
    "ExecuteTime": {
     "end_time": "2024-06-18T13:40:35.732999Z",
     "start_time": "2024-06-18T13:40:35.727945Z"
    }
   },
   "cell_type": "code",
   "source": [
    "# mep_info.to_csv(os.path.join(base_directory, \"mep_info_EP_9.csv\"), index=False)\n",
    "# melted_votes.to_csv(os.path.join(base_directory, \"votes_EP_9.csv\"), index=False)\n",
    "# EP_9_votations.to_csv(os.path.join(base_directory, \"votations_EP_9.csv\"), index=False)"
   ],
   "id": "c3d187c0d4952a78",
   "outputs": [],
   "execution_count": 49
  },
  {
   "metadata": {
    "ExecuteTime": {
     "end_time": "2024-06-18T13:40:35.736088Z",
     "start_time": "2024-06-18T13:40:35.734029Z"
    }
   },
   "cell_type": "code",
   "source": "",
   "id": "4f5ca9b4f54ed074",
   "outputs": [],
   "execution_count": 49
  }
 ],
 "metadata": {
  "kernelspec": {
   "display_name": "Python 3",
   "language": "python",
   "name": "python3"
  },
  "language_info": {
   "codemirror_mode": {
    "name": "ipython",
    "version": 2
   },
   "file_extension": ".py",
   "mimetype": "text/x-python",
   "name": "python",
   "nbconvert_exporter": "python",
   "pygments_lexer": "ipython2",
   "version": "2.7.6"
  }
 },
 "nbformat": 4,
 "nbformat_minor": 5
}
