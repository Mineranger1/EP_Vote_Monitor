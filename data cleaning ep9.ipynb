{
 "cells": [
  {
   "cell_type": "code",
   "id": "initial_id",
   "metadata": {
    "collapsed": true,
    "ExecuteTime": {
     "end_time": "2024-04-17T18:20:34.039502Z",
     "start_time": "2024-04-17T18:20:33.281526Z"
    }
   },
   "source": [
    "import numpy as np\n",
    "import pandas as pd\n",
    "import requests\n",
    "import glob\n",
    "import openpyxl\n",
    "import os"
   ],
   "outputs": [],
   "execution_count": 1
  },
  {
   "metadata": {},
   "cell_type": "markdown",
   "source": "Creating relative paths\n",
   "id": "44c52e2679c50ccf"
  },
  {
   "metadata": {
    "ExecuteTime": {
     "end_time": "2024-04-17T18:20:34.044357Z",
     "start_time": "2024-04-17T18:20:34.039502Z"
    }
   },
   "cell_type": "code",
   "source": [
    "votes = os.path.join(\"VoteWatch-EP-voting-data_2004-2022\", \"EP9_RCVs_2022_06_22.xlsx\")\n",
    "votations = os.path.join(\"VoteWatch-EP-voting-data_2004-2022\",\"EP9_Voted docs.xlsx\")"
   ],
   "id": "7d140e7a7e43203e",
   "outputs": [],
   "execution_count": 2
  },
  {
   "metadata": {},
   "cell_type": "markdown",
   "source": "Importing data from EU API (for correct names)\n",
   "id": "de488ec3ddb8f8db"
  },
  {
   "metadata": {
    "ExecuteTime": {
     "end_time": "2024-04-17T18:20:36.948895Z",
     "start_time": "2024-04-17T18:20:34.045362Z"
    }
   },
   "cell_type": "code",
   "source": [
    "url = 'https://data.europarl.europa.eu/api/v2/meps?parliamentary-term=9&format=application%2Fld%2Bjson&offset=0'\n",
    "response = requests.get(url)\n",
    "meps_data = response.json()"
   ],
   "id": "8233e4dafd0e24c2",
   "outputs": [],
   "execution_count": 3
  },
  {
   "metadata": {},
   "cell_type": "markdown",
   "source": "Creating DataFrames (runtime is quite long, .xlsx files)\n",
   "id": "7f6155ae36c460c7"
  },
  {
   "metadata": {
    "ExecuteTime": {
     "end_time": "2024-04-17T18:22:36.107681Z",
     "start_time": "2024-04-17T18:20:36.948895Z"
    }
   },
   "cell_type": "code",
   "source": [
    "meps_df_9 = pd.json_normalize(meps_data['data'])\n",
    "EP_9_votes = pd.read_excel(votes)\n",
    "EP_9_votations = pd.read_excel(votations)"
   ],
   "id": "273caf9877bec327",
   "outputs": [
    {
     "name": "stderr",
     "output_type": "stream",
     "text": [
      "C:\\Users\\zwiad\\AppData\\Local\\Programs\\Python\\Python312\\Lib\\site-packages\\openpyxl\\worksheet\\_reader.py:329: UserWarning: Data Validation extension is not supported and will be removed\n",
      "  warn(msg)\n"
     ]
    }
   ],
   "execution_count": 4
  },
  {
   "metadata": {},
   "cell_type": "markdown",
   "source": [
    "Dropping irrelevant columns (to discuss)\n",
    "Renaming variables for pd.merge and correcting datatype\n",
    "Merging\n",
    "Updating names of MPs\n"
   ],
   "id": "a4066509d09cd7a"
  },
  {
   "metadata": {
    "ExecuteTime": {
     "end_time": "2024-04-17T18:22:36.156508Z",
     "start_time": "2024-04-17T18:22:36.107681Z"
    }
   },
   "cell_type": "code",
   "source": [
    "meps_df_9.drop(columns=['id','type','sortLabel','officialFamilyName','officialGivenName'],inplace=True)\n",
    "meps_df_9.rename(columns={'identifier': 'MepId'},inplace=True)\n",
    "EP_9_votes.rename(columns={'WebisteEpID': 'MepId'},inplace=True)\n",
    "meps_df_9.MepId = meps_df_9.MepId.astype(int)\n",
    "EP_9_votes_fixed_names = pd.merge(EP_9_votes,meps_df_9 , on='MepId', how='left')\n",
    "EP_9_votes_fixed_names[['Fname','Lname','FullName']] = EP_9_votes_fixed_names[['givenName','familyName','label']]\n",
    "EP_9_votes_fixed_names.drop(columns=['label','familyName','givenName'],inplace=True)\n"
   ],
   "id": "f0c88ba0bafb912d",
   "outputs": [],
   "execution_count": 5
  },
  {
   "metadata": {},
   "cell_type": "markdown",
   "source": "Encoding missing party names\n",
   "id": "9bc023de64ad1bcd"
  },
  {
   "metadata": {
    "ExecuteTime": {
     "end_time": "2024-04-17T18:22:36.167786Z",
     "start_time": "2024-04-17T18:22:36.156508Z"
    }
   },
   "cell_type": "code",
   "source": [
    "filtered_df = EP_9_votes_fixed_names[EP_9_votes_fixed_names.Party.astype(str).apply(lambda x: len(x) < 3)]\n",
    "filtered_df.Party.value_counts()"
   ],
   "id": "55f67edb3f472ccc",
   "outputs": [
    {
     "data": {
      "text/plain": [
       "Party\n",
       "-    1\n",
       "Name: count, dtype: int64"
      ]
     },
     "execution_count": 6,
     "metadata": {},
     "output_type": "execute_result"
    }
   ],
   "execution_count": 6
  },
  {
   "metadata": {
    "ExecuteTime": {
     "end_time": "2024-04-17T18:22:36.175045Z",
     "start_time": "2024-04-17T18:22:36.167786Z"
    }
   },
   "cell_type": "code",
   "source": "EP_9_votes_fixed_names.Party = EP_9_votes_fixed_names.Party.replace(\"-\",np.NAN)",
   "id": "b4753442ce097f48",
   "outputs": [],
   "execution_count": 7
  },
  {
   "metadata": {
    "ExecuteTime": {
     "end_time": "2024-04-17T18:22:36.180681Z",
     "start_time": "2024-04-17T18:22:36.175045Z"
    }
   },
   "cell_type": "code",
   "source": "EP_9_votes_fixed_names.columns",
   "id": "c12be470b330a283",
   "outputs": [
    {
     "data": {
      "text/plain": [
       "Index([   'MepId',    'Fname',    'Lname', 'FullName',    'Activ',  'Country',\n",
       "          'Party',      'EPG',    'Start',      'End',\n",
       "       ...\n",
       "            13450,      13451,      13452,      13453,      13454,      13455,\n",
       "            13456,      13457,      13458,      13459],\n",
       "      dtype='object', length=13469)"
      ]
     },
     "execution_count": 8,
     "metadata": {},
     "output_type": "execute_result"
    }
   ],
   "execution_count": 8
  },
  {
   "metadata": {},
   "cell_type": "markdown",
   "source": "Dropping irrelevant columns and renaming relevant (also to be discussed)\n",
   "id": "9c57c1f551f850f1"
  },
  {
   "metadata": {
    "ExecuteTime": {
     "end_time": "2024-04-17T18:22:36.185653Z",
     "start_time": "2024-04-17T18:22:36.180681Z"
    }
   },
   "cell_type": "code",
   "source": "EP_9_votations.columns.tolist()\n",
   "id": "d732b63cde2e40f8",
   "outputs": [
    {
     "data": {
      "text/plain": [
       "['Vote ID',\n",
       " 'File',\n",
       " 'Order of vote',\n",
       " 'Date',\n",
       " 'Title',\n",
       " 'Procedure',\n",
       " 'Leg/Non-Leg/Bud',\n",
       " 'Type of Vote',\n",
       " 'Voting Rule',\n",
       " 'Rapporteur',\n",
       " 'Code',\n",
       " 'Interinstitutional file number',\n",
       " 'Link',\n",
       " 'Committee responsabile',\n",
       " 'Policy area',\n",
       " 'Subject',\n",
       " 'Final vote?',\n",
       " 'Am No.',\n",
       " 'Author',\n",
       " 'RCV',\n",
       " 'Vote',\n",
       " 'Yes',\n",
       " 'No',\n",
       " 'Abs']"
      ]
     },
     "execution_count": 9,
     "metadata": {},
     "output_type": "execute_result"
    }
   ],
   "execution_count": 9
  },
  {
   "metadata": {
    "ExecuteTime": {
     "end_time": "2024-04-17T18:22:36.194131Z",
     "start_time": "2024-04-17T18:22:36.185653Z"
    }
   },
   "cell_type": "code",
   "source": [
    "\n",
    "column_mapping = {\n",
    "    'Vote ID': 'VoteId',\n",
    "    'Date': 'Date',\n",
    "    'Title': 'Title',\n",
    "    'Procedure': 'Procedure',\n",
    "    'Leg/Non-Leg/Bud': 'Leg/Non-Leg/Bud',\n",
    "    'Type of Vote': 'TypeOfVote',\n",
    "    'Voting Rule': 'VotingRule',\n",
    "    'Rapporteur': 'Rapporteur',\n",
    "    'Link': 'Link',\n",
    "    'Committee responsabile': 'CommitteeResponsabile',\n",
    "    'Policy area': 'PolicyArea',\n",
    "    'Subject': 'Subject',\n",
    "    'Final vote?': 'FinalVote',\n",
    "    'Am No.': 'AmNo',\n",
    "    'Author': 'Author',\n",
    "    'Vote': 'Vote',\n",
    "    'Yes': 'Yes',\n",
    "    'No': 'No',\n",
    "    'Abs': 'Abs'\n",
    "}\n",
    "\n",
    "filtered_df = EP_9_votations[list(column_mapping.keys())]\n",
    "final_df = filtered_df.rename(columns=column_mapping)"
   ],
   "id": "fb70aa4db87fed77",
   "outputs": [],
   "execution_count": 10
  },
  {
   "metadata": {
    "ExecuteTime": {
     "end_time": "2024-04-17T18:22:36.198609Z",
     "start_time": "2024-04-17T18:22:36.194131Z"
    }
   },
   "cell_type": "code",
   "source": "EP_9_votations = final_df",
   "id": "3ddc6415f8719d90",
   "outputs": [],
   "execution_count": 11
  },
  {
   "metadata": {},
   "cell_type": "markdown",
   "source": "Fixing dtype\n",
   "id": "ce5c19c9823a0884"
  },
  {
   "metadata": {
    "ExecuteTime": {
     "end_time": "2024-04-17T18:22:36.205602Z",
     "start_time": "2024-04-17T18:22:36.198609Z"
    }
   },
   "cell_type": "code",
   "source": "EP_9_votations['Date'] = pd.to_datetime(EP_9_votations['Date'], format='mixed') \n",
   "id": "f850b5d94cdbbcc1",
   "outputs": [],
   "execution_count": 12
  },
  {
   "metadata": {
    "ExecuteTime": {
     "end_time": "2024-04-17T18:22:36.219274Z",
     "start_time": "2024-04-17T18:22:36.206931Z"
    }
   },
   "cell_type": "code",
   "source": "EP_9_votations.tail()\n",
   "id": "bd8a2f7ab8df03ae",
   "outputs": [
    {
     "data": {
      "text/plain": [
       "       VoteId       Date                                              Title  \\\n",
       "13454   13455 2022-09-06  The call for a Convention for the revision of ...   \n",
       "13455   13456 2022-09-06  The call for a Convention for the revision of ...   \n",
       "13456   13457 2022-09-06  The call for a Convention for the revision of ...   \n",
       "13457   13458 2022-09-06  The call for a Convention for the revision of ...   \n",
       "13458   13459 2022-09-06  A new trade instrument to ban products made by...   \n",
       "\n",
       "      Procedure Leg/Non-Leg/Bud             TypeOfVote VotingRule Rapporteur  \\\n",
       "13454       NaN             Non  Motion for resolution          s          0   \n",
       "13455       NaN             Non  Motion for resolution          s          0   \n",
       "13456       NaN             Non  Motion for resolution          s          0   \n",
       "13457       NaN             Non  Motion for resolution          s          0   \n",
       "13458       NaN             Non  Motion for resolution          s          0   \n",
       "\n",
       "                                                    Link  \\\n",
       "13454  https://www.europarl.europa.eu/doceo/document/...   \n",
       "13455  https://www.europarl.europa.eu/doceo/document/...   \n",
       "13456  https://www.europarl.europa.eu/doceo/document/...   \n",
       "13457  https://www.europarl.europa.eu/doceo/document/...   \n",
       "13458  https://www.europarl.europa.eu/doceo/document/...   \n",
       "\n",
       "      CommitteeResponsabile                                      PolicyArea  \\\n",
       "13454                     0  Constitutional and inter-institutional affairs   \n",
       "13455                     0  Constitutional and inter-institutional affairs   \n",
       "13456                     0  Constitutional and inter-institutional affairs   \n",
       "13457                     0  Constitutional and inter-institutional affairs   \n",
       "13458                     0                     Employment & Social Affairs   \n",
       "\n",
       "                             Subject  FinalVote AmNo           Author Vote  \\\n",
       "13454                    Paragraph 6        0.0   36         The Left    -   \n",
       "13455                    Paragraph 6        0.0   39  EPP, S&D, Renew    +   \n",
       "13456                After recital D        0.0    8         The Left    -   \n",
       "13457  vote: resolution (as a whole)        0.0  NaN                0    +   \n",
       "13458  vote: resolution (as a whole)        0.0  NaN                0    +   \n",
       "\n",
       "       Yes   No  Abs  \n",
       "13454  170  358   32  \n",
       "13455  391  110   56  \n",
       "13456   69  444   43  \n",
       "13457  355  154   48  \n",
       "13458  503    6    4  "
      ],
      "text/html": [
       "<div>\n",
       "<style scoped>\n",
       "    .dataframe tbody tr th:only-of-type {\n",
       "        vertical-align: middle;\n",
       "    }\n",
       "\n",
       "    .dataframe tbody tr th {\n",
       "        vertical-align: top;\n",
       "    }\n",
       "\n",
       "    .dataframe thead th {\n",
       "        text-align: right;\n",
       "    }\n",
       "</style>\n",
       "<table border=\"1\" class=\"dataframe\">\n",
       "  <thead>\n",
       "    <tr style=\"text-align: right;\">\n",
       "      <th></th>\n",
       "      <th>VoteId</th>\n",
       "      <th>Date</th>\n",
       "      <th>Title</th>\n",
       "      <th>Procedure</th>\n",
       "      <th>Leg/Non-Leg/Bud</th>\n",
       "      <th>TypeOfVote</th>\n",
       "      <th>VotingRule</th>\n",
       "      <th>Rapporteur</th>\n",
       "      <th>Link</th>\n",
       "      <th>CommitteeResponsabile</th>\n",
       "      <th>PolicyArea</th>\n",
       "      <th>Subject</th>\n",
       "      <th>FinalVote</th>\n",
       "      <th>AmNo</th>\n",
       "      <th>Author</th>\n",
       "      <th>Vote</th>\n",
       "      <th>Yes</th>\n",
       "      <th>No</th>\n",
       "      <th>Abs</th>\n",
       "    </tr>\n",
       "  </thead>\n",
       "  <tbody>\n",
       "    <tr>\n",
       "      <th>13454</th>\n",
       "      <td>13455</td>\n",
       "      <td>2022-09-06</td>\n",
       "      <td>The call for a Convention for the revision of ...</td>\n",
       "      <td>NaN</td>\n",
       "      <td>Non</td>\n",
       "      <td>Motion for resolution</td>\n",
       "      <td>s</td>\n",
       "      <td>0</td>\n",
       "      <td>https://www.europarl.europa.eu/doceo/document/...</td>\n",
       "      <td>0</td>\n",
       "      <td>Constitutional and inter-institutional affairs</td>\n",
       "      <td>Paragraph 6</td>\n",
       "      <td>0.0</td>\n",
       "      <td>36</td>\n",
       "      <td>The Left</td>\n",
       "      <td>-</td>\n",
       "      <td>170</td>\n",
       "      <td>358</td>\n",
       "      <td>32</td>\n",
       "    </tr>\n",
       "    <tr>\n",
       "      <th>13455</th>\n",
       "      <td>13456</td>\n",
       "      <td>2022-09-06</td>\n",
       "      <td>The call for a Convention for the revision of ...</td>\n",
       "      <td>NaN</td>\n",
       "      <td>Non</td>\n",
       "      <td>Motion for resolution</td>\n",
       "      <td>s</td>\n",
       "      <td>0</td>\n",
       "      <td>https://www.europarl.europa.eu/doceo/document/...</td>\n",
       "      <td>0</td>\n",
       "      <td>Constitutional and inter-institutional affairs</td>\n",
       "      <td>Paragraph 6</td>\n",
       "      <td>0.0</td>\n",
       "      <td>39</td>\n",
       "      <td>EPP, S&amp;D, Renew</td>\n",
       "      <td>+</td>\n",
       "      <td>391</td>\n",
       "      <td>110</td>\n",
       "      <td>56</td>\n",
       "    </tr>\n",
       "    <tr>\n",
       "      <th>13456</th>\n",
       "      <td>13457</td>\n",
       "      <td>2022-09-06</td>\n",
       "      <td>The call for a Convention for the revision of ...</td>\n",
       "      <td>NaN</td>\n",
       "      <td>Non</td>\n",
       "      <td>Motion for resolution</td>\n",
       "      <td>s</td>\n",
       "      <td>0</td>\n",
       "      <td>https://www.europarl.europa.eu/doceo/document/...</td>\n",
       "      <td>0</td>\n",
       "      <td>Constitutional and inter-institutional affairs</td>\n",
       "      <td>After recital D</td>\n",
       "      <td>0.0</td>\n",
       "      <td>8</td>\n",
       "      <td>The Left</td>\n",
       "      <td>-</td>\n",
       "      <td>69</td>\n",
       "      <td>444</td>\n",
       "      <td>43</td>\n",
       "    </tr>\n",
       "    <tr>\n",
       "      <th>13457</th>\n",
       "      <td>13458</td>\n",
       "      <td>2022-09-06</td>\n",
       "      <td>The call for a Convention for the revision of ...</td>\n",
       "      <td>NaN</td>\n",
       "      <td>Non</td>\n",
       "      <td>Motion for resolution</td>\n",
       "      <td>s</td>\n",
       "      <td>0</td>\n",
       "      <td>https://www.europarl.europa.eu/doceo/document/...</td>\n",
       "      <td>0</td>\n",
       "      <td>Constitutional and inter-institutional affairs</td>\n",
       "      <td>vote: resolution (as a whole)</td>\n",
       "      <td>0.0</td>\n",
       "      <td>NaN</td>\n",
       "      <td>0</td>\n",
       "      <td>+</td>\n",
       "      <td>355</td>\n",
       "      <td>154</td>\n",
       "      <td>48</td>\n",
       "    </tr>\n",
       "    <tr>\n",
       "      <th>13458</th>\n",
       "      <td>13459</td>\n",
       "      <td>2022-09-06</td>\n",
       "      <td>A new trade instrument to ban products made by...</td>\n",
       "      <td>NaN</td>\n",
       "      <td>Non</td>\n",
       "      <td>Motion for resolution</td>\n",
       "      <td>s</td>\n",
       "      <td>0</td>\n",
       "      <td>https://www.europarl.europa.eu/doceo/document/...</td>\n",
       "      <td>0</td>\n",
       "      <td>Employment &amp; Social Affairs</td>\n",
       "      <td>vote: resolution (as a whole)</td>\n",
       "      <td>0.0</td>\n",
       "      <td>NaN</td>\n",
       "      <td>0</td>\n",
       "      <td>+</td>\n",
       "      <td>503</td>\n",
       "      <td>6</td>\n",
       "      <td>4</td>\n",
       "    </tr>\n",
       "  </tbody>\n",
       "</table>\n",
       "</div>"
      ]
     },
     "execution_count": 13,
     "metadata": {},
     "output_type": "execute_result"
    }
   ],
   "execution_count": 13
  },
  {
   "metadata": {},
   "cell_type": "markdown",
   "source": "Recoding missing data\n",
   "id": "4cc7d84aff30638a"
  },
  {
   "metadata": {
    "ExecuteTime": {
     "end_time": "2024-04-17T18:22:36.226099Z",
     "start_time": "2024-04-17T18:22:36.219274Z"
    }
   },
   "cell_type": "code",
   "source": [
    "def recode_votations(df):\n",
    "    df['TypeOfVote'] = df['TypeOfVote'].replace(0,np.NAN)\n",
    "    df['VotingRule'] = df['VotingRule'].replace(0,np.NAN)\n",
    "    df['Rapporteur'] = df['Rapporteur'].replace(0,np.NAN)\n",
    "    df['CommitteeResponsabile'] = df['CommitteeResponsabile'].replace(0,np.NAN)\n",
    "    df['Author'] = df['Author'].replace(0,np.NAN)\n",
    "    df['Subject'] = df['Subject'].replace(0,np.NAN)\n",
    "    df['AmNo'] = df['AmNo'].replace(0,np.NAN)\n",
    "    df['Vote'] = df['Vote'].replace({'+': 1, '-': 0,\"_\":0})"
   ],
   "id": "56e79e9a398f0d08",
   "outputs": [],
   "execution_count": 14
  },
  {
   "metadata": {
    "ExecuteTime": {
     "end_time": "2024-04-17T18:22:36.242404Z",
     "start_time": "2024-04-17T18:22:36.226099Z"
    }
   },
   "cell_type": "code",
   "source": "recode_votations(EP_9_votations)",
   "id": "854b8dac40c804dd",
   "outputs": [
    {
     "name": "stderr",
     "output_type": "stream",
     "text": [
      "C:\\Users\\zwiad\\AppData\\Local\\Temp\\ipykernel_33336\\3036951935.py:9: FutureWarning: Downcasting behavior in `replace` is deprecated and will be removed in a future version. To retain the old behavior, explicitly call `result.infer_objects(copy=False)`. To opt-in to the future behavior, set `pd.set_option('future.no_silent_downcasting', True)`\n",
      "  df['Vote'] = df['Vote'].replace({'+': 1, '-': 0,\"_\":0})\n"
     ]
    }
   ],
   "execution_count": 15
  },
  {
   "metadata": {},
   "cell_type": "markdown",
   "source": "Checking and fixing the datatypes\n",
   "id": "3ba6a476f8673bc0"
  },
  {
   "metadata": {
    "ExecuteTime": {
     "end_time": "2024-04-17T18:22:36.248411Z",
     "start_time": "2024-04-17T18:22:36.242404Z"
    }
   },
   "cell_type": "code",
   "source": "EP_9_votations.dtypes",
   "id": "a6eb257c3def4dce",
   "outputs": [
    {
     "data": {
      "text/plain": [
       "VoteId                            int64\n",
       "Date                     datetime64[ns]\n",
       "Title                            object\n",
       "Procedure                        object\n",
       "Leg/Non-Leg/Bud                  object\n",
       "TypeOfVote                       object\n",
       "VotingRule                       object\n",
       "Rapporteur                       object\n",
       "Link                             object\n",
       "CommitteeResponsabile            object\n",
       "PolicyArea                       object\n",
       "Subject                          object\n",
       "FinalVote                       float64\n",
       "AmNo                             object\n",
       "Author                           object\n",
       "Vote                              int64\n",
       "Yes                               int64\n",
       "No                                int64\n",
       "Abs                               int64\n",
       "dtype: object"
      ]
     },
     "execution_count": 16,
     "metadata": {},
     "output_type": "execute_result"
    }
   ],
   "execution_count": 16
  },
  {
   "metadata": {
    "ExecuteTime": {
     "end_time": "2024-04-17T18:22:36.255563Z",
     "start_time": "2024-04-17T18:22:36.248411Z"
    }
   },
   "cell_type": "code",
   "source": [
    "EP_9_votations.FinalVote = EP_9_votations['FinalVote'].astype('Int64')\n",
    "EP_9_votations.Vote = EP_9_votations['Vote'].astype('Int64')\n"
   ],
   "id": "5debc72e8aa574a3",
   "outputs": [],
   "execution_count": 17
  },
  {
   "metadata": {},
   "cell_type": "markdown",
   "source": "Renaming EPG groups to fit the API convention\n",
   "id": "6362d323c43aabde"
  },
  {
   "metadata": {
    "ExecuteTime": {
     "end_time": "2024-04-17T18:22:36.261898Z",
     "start_time": "2024-04-17T18:22:36.255563Z"
    }
   },
   "cell_type": "code",
   "source": "EP_9_votes_fixed_names.EPG.value_counts()",
   "id": "81f1298bfde26b96",
   "outputs": [
    {
     "data": {
      "text/plain": [
       "EPG\n",
       "EPP           183\n",
       "S&D           165\n",
       "REG           124\n",
       "Greens/EFA     86\n",
       "ECR            75\n",
       "NI             69\n",
       "IDG            65\n",
       "The Left       40\n",
       "Name: count, dtype: int64"
      ]
     },
     "execution_count": 18,
     "metadata": {},
     "output_type": "execute_result"
    }
   ],
   "execution_count": 18
  },
  {
   "metadata": {
    "ExecuteTime": {
     "end_time": "2024-04-17T18:22:36.265836Z",
     "start_time": "2024-04-17T18:22:36.261898Z"
    }
   },
   "cell_type": "code",
   "source": [
    "EPG_rename_dict = {\n",
    "    \"REG\":\"RE\",\n",
    "    \"The Left\":\"GUE–NGL\",\n",
    "}"
   ],
   "id": "5f8dd771d797a4b4",
   "outputs": [],
   "execution_count": 19
  },
  {
   "metadata": {
    "ExecuteTime": {
     "end_time": "2024-04-17T18:22:36.270945Z",
     "start_time": "2024-04-17T18:22:36.265836Z"
    }
   },
   "cell_type": "code",
   "source": "EP_9_votes_fixed_names.EPG = EP_9_votes_fixed_names.EPG.replace(EPG_rename_dict,regex=False)",
   "id": "1815c34cfd350270",
   "outputs": [],
   "execution_count": 20
  },
  {
   "metadata": {
    "ExecuteTime": {
     "end_time": "2024-04-17T18:22:36.276556Z",
     "start_time": "2024-04-17T18:22:36.270945Z"
    }
   },
   "cell_type": "code",
   "source": "EP_9_votes_fixed_names.EPG.value_counts()",
   "id": "e043131fb5f09171",
   "outputs": [
    {
     "data": {
      "text/plain": [
       "EPG\n",
       "EPP           183\n",
       "S&D           165\n",
       "RE            124\n",
       "Greens/EFA     86\n",
       "ECR            75\n",
       "NI             69\n",
       "IDG            65\n",
       "GUE–NGL        40\n",
       "Name: count, dtype: int64"
      ]
     },
     "execution_count": 21,
     "metadata": {},
     "output_type": "execute_result"
    }
   ],
   "execution_count": 21
  },
  {
   "metadata": {},
   "cell_type": "markdown",
   "source": "Creating a list to filter the non observation columns from Votes\n",
   "id": "6fc1a8fc18d64ac8"
  },
  {
   "metadata": {
    "ExecuteTime": {
     "end_time": "2024-04-17T18:22:36.281083Z",
     "start_time": "2024-04-17T18:22:36.276556Z"
    }
   },
   "cell_type": "code",
   "source": [
    "filtered_list = ['MepId',\n",
    " 'Fname',\n",
    " 'Lname',\n",
    " 'FullName',\n",
    " 'Activ',\n",
    " 'Country',\n",
    " 'Party',\n",
    " 'EPG',\n",
    " 'Start',\n",
    " 'End']"
   ],
   "id": "d7e7e63c3b4e48d0",
   "outputs": [],
   "execution_count": 22
  },
  {
   "metadata": {},
   "cell_type": "markdown",
   "source": "Melting votes into long format\n",
   "id": "649ba8d3949dc293"
  },
  {
   "metadata": {
    "ExecuteTime": {
     "end_time": "2024-04-17T18:22:39.459110Z",
     "start_time": "2024-04-17T18:22:36.281083Z"
    }
   },
   "cell_type": "code",
   "source": [
    "mep_info = EP_9_votes_fixed_names[filtered_list]\n",
    "vote_columns = [col for col in EP_9_votes_fixed_names.columns if col not in filtered_list]\n",
    "melted_votes = pd.melt(EP_9_votes_fixed_names, id_vars='MepId', value_vars=vote_columns, var_name='VoteId', value_name='Vote')"
   ],
   "id": "efd59b5bc2189778",
   "outputs": [],
   "execution_count": 23
  },
  {
   "metadata": {},
   "cell_type": "markdown",
   "source": "Adding EP_ID\n",
   "id": "4d7c4209e6d9162c"
  },
  {
   "metadata": {
    "ExecuteTime": {
     "end_time": "2024-04-17T18:22:39.477357Z",
     "start_time": "2024-04-17T18:22:39.459110Z"
    }
   },
   "cell_type": "code",
   "source": [
    "melted_votes['EP_ID'] = 9\n",
    "EP_9_votations['EP_ID'] = 9\n",
    "mep_info['EP_ID'] = 9\n"
   ],
   "id": "b633a6c3c1189807",
   "outputs": [
    {
     "name": "stderr",
     "output_type": "stream",
     "text": [
      "C:\\Users\\zwiad\\AppData\\Local\\Temp\\ipykernel_33336\\1769282780.py:3: SettingWithCopyWarning: \n",
      "A value is trying to be set on a copy of a slice from a DataFrame.\n",
      "Try using .loc[row_indexer,col_indexer] = value instead\n",
      "\n",
      "See the caveats in the documentation: https://pandas.pydata.org/pandas-docs/stable/user_guide/indexing.html#returning-a-view-versus-a-copy\n",
      "  mep_info['EP_ID'] = 9\n"
     ]
    }
   ],
   "execution_count": 24
  },
  {
   "metadata": {},
   "cell_type": "markdown",
   "source": "Saving files to .csv\n",
   "id": "b830a3e984e38f58"
  },
  {
   "metadata": {
    "ExecuteTime": {
     "end_time": "2024-04-17T18:22:39.481858Z",
     "start_time": "2024-04-17T18:22:39.477357Z"
    }
   },
   "cell_type": "code",
   "source": [
    "base_directory = os.path.join(\"Cleaned_data\",\"EP9_clean_data\")\n",
    "os.makedirs(base_directory, exist_ok=True)"
   ],
   "id": "1ce7dcab35d0ceaa",
   "outputs": [],
   "execution_count": 25
  },
  {
   "metadata": {
    "ExecuteTime": {
     "end_time": "2024-04-17T18:22:50.004898Z",
     "start_time": "2024-04-17T18:22:39.481858Z"
    }
   },
   "cell_type": "code",
   "source": [
    "mep_info.to_csv(os.path.join(base_directory, \"mep_info_EP_9.csv\"), index=False)\n",
    "melted_votes.to_csv(os.path.join(base_directory, \"votes_EP_9.csv\"), index=False)\n",
    "EP_9_votations.to_csv(os.path.join(base_directory, \"votations_EP_9.csv\"), index=False)"
   ],
   "id": "c3d187c0d4952a78",
   "outputs": [],
   "execution_count": 26
  },
  {
   "metadata": {
    "ExecuteTime": {
     "end_time": "2024-04-17T18:22:50.008221Z",
     "start_time": "2024-04-17T18:22:50.004898Z"
    }
   },
   "cell_type": "code",
   "source": "",
   "id": "4f5ca9b4f54ed074",
   "outputs": [],
   "execution_count": 26
  }
 ],
 "metadata": {
  "kernelspec": {
   "display_name": "Python 3",
   "language": "python",
   "name": "python3"
  },
  "language_info": {
   "codemirror_mode": {
    "name": "ipython",
    "version": 2
   },
   "file_extension": ".py",
   "mimetype": "text/x-python",
   "name": "python",
   "nbconvert_exporter": "python",
   "pygments_lexer": "ipython2",
   "version": "2.7.6"
  }
 },
 "nbformat": 4,
 "nbformat_minor": 5
}
