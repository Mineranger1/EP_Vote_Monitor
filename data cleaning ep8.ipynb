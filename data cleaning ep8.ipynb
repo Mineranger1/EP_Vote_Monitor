{
 "cells": [
  {
   "cell_type": "code",
   "id": "initial_id",
   "metadata": {
    "collapsed": true,
    "ExecuteTime": {
     "end_time": "2024-06-17T14:52:30.923849Z",
     "start_time": "2024-06-17T14:52:30.077370Z"
    }
   },
   "source": [
    "import pandas as pd\n",
    "import numpy as np\n",
    "import requests\n",
    "import glob\n",
    "import openpyxl\n",
    "import os\n",
    "import helperfunctions as hf"
   ],
   "outputs": [],
   "execution_count": 1
  },
  {
   "metadata": {},
   "cell_type": "markdown",
   "source": "Creating relative paths\n",
   "id": "659aa6659db15bff"
  },
  {
   "metadata": {
    "ExecuteTime": {
     "end_time": "2024-06-17T14:52:30.928706Z",
     "start_time": "2024-06-17T14:52:30.923849Z"
    }
   },
   "cell_type": "code",
   "source": [
    "votes = os.path.join(\"VoteWatch-EP-voting-data_2004-2022\", \"EP8_RCVs_2019_06_25.xlsx\")\n",
    "votations = os.path.join(\"VoteWatch-EP-voting-data_2004-2022\",\"EP8_Voted docs.xlsx\")"
   ],
   "id": "c794c4fafdf1aff",
   "outputs": [],
   "execution_count": 2
  },
  {
   "metadata": {},
   "cell_type": "markdown",
   "source": "Importing data from EU API (for correct names)\n",
   "id": "c9f5ffe84e9072c6"
  },
  {
   "metadata": {
    "ExecuteTime": {
     "end_time": "2024-06-17T14:52:33.648790Z",
     "start_time": "2024-06-17T14:52:30.929783Z"
    }
   },
   "cell_type": "code",
   "source": [
    "url = 'https://data.europarl.europa.eu/api/v2/meps?parliamentary-term=8&format=application%2Fld%2Bjson&offset=0'\n",
    "response = requests.get(url)\n",
    "meps_data = response.json()"
   ],
   "id": "20a23dbcf699b7ab",
   "outputs": [],
   "execution_count": 3
  },
  {
   "metadata": {},
   "cell_type": "markdown",
   "source": "Creating DataFrames (runtime is quite long, .xlsx files)",
   "id": "36c52cd5fb976fe7"
  },
  {
   "metadata": {
    "ExecuteTime": {
     "end_time": "2024-06-17T14:53:56.135296Z",
     "start_time": "2024-06-17T14:52:33.648790Z"
    }
   },
   "cell_type": "code",
   "source": [
    "meps_df_8 = pd.json_normalize(meps_data['data'])\n",
    "EP_8_votes = pd.read_excel(votes)\n",
    "EP_8_votations = pd.read_excel(votations)"
   ],
   "id": "4398b1b6656026d6",
   "outputs": [],
   "execution_count": 4
  },
  {
   "metadata": {},
   "cell_type": "markdown",
   "source": "Dropping irrelevant columns (to discuss)\n",
   "id": "c51d5f3c1f100763"
  },
  {
   "metadata": {
    "ExecuteTime": {
     "end_time": "2024-06-17T14:53:56.141601Z",
     "start_time": "2024-06-17T14:53:56.136315Z"
    }
   },
   "cell_type": "code",
   "source": [
    "\n",
    "meps_df_8.drop(columns=['id','type','sortLabel','officialFamilyName','officialGivenName'],inplace=True)"
   ],
   "id": "a24a084482b99c2c",
   "outputs": [],
   "execution_count": 5
  },
  {
   "metadata": {},
   "cell_type": "markdown",
   "source": "Renaming variables for pd.merge and correcting datatype\n",
   "id": "158dc6d07b046750"
  },
  {
   "metadata": {
    "ExecuteTime": {
     "end_time": "2024-06-17T14:53:56.148874Z",
     "start_time": "2024-06-17T14:53:56.141601Z"
    }
   },
   "cell_type": "code",
   "source": [
    "meps_df_8.rename(columns={'identifier': 'MepId'},inplace=True)\n",
    "EP_8_votes.rename(columns={'WebisteEpID': 'MepId'},inplace=True)"
   ],
   "id": "ed5a240474eca193",
   "outputs": [],
   "execution_count": 6
  },
  {
   "metadata": {
    "ExecuteTime": {
     "end_time": "2024-06-17T14:53:56.154301Z",
     "start_time": "2024-06-17T14:53:56.148874Z"
    }
   },
   "cell_type": "code",
   "source": "meps_df_8.MepId = meps_df_8.MepId.astype(int)\n",
   "id": "1e3c7056bfed71bc",
   "outputs": [],
   "execution_count": 7
  },
  {
   "metadata": {},
   "cell_type": "markdown",
   "source": "Merging",
   "id": "4cf891f5e1660a33"
  },
  {
   "metadata": {
    "ExecuteTime": {
     "end_time": "2024-06-17T14:53:56.172302Z",
     "start_time": "2024-06-17T14:53:56.154301Z"
    }
   },
   "cell_type": "code",
   "source": "EP_8_votes_fixed_names = pd.merge(EP_8_votes,meps_df_8 , on='MepId', how='left')",
   "id": "e632a803189b37f2",
   "outputs": [],
   "execution_count": 8
  },
  {
   "metadata": {},
   "cell_type": "markdown",
   "source": "Updating names of MPs\n",
   "id": "323edbc0cfb83f2d"
  },
  {
   "metadata": {
    "ExecuteTime": {
     "end_time": "2024-06-17T14:53:56.179850Z",
     "start_time": "2024-06-17T14:53:56.172302Z"
    }
   },
   "cell_type": "code",
   "source": "EP_8_votes_fixed_names[['Fname','Lname','FullName']] = EP_8_votes_fixed_names[['givenName','familyName','label']]\n",
   "id": "5b17cbe27c2acc73",
   "outputs": [],
   "execution_count": 9
  },
  {
   "metadata": {
    "ExecuteTime": {
     "end_time": "2024-06-17T14:53:56.204698Z",
     "start_time": "2024-06-17T14:53:56.179850Z"
    }
   },
   "cell_type": "code",
   "source": "EP_8_votes_fixed_names.drop(columns=['label','familyName','givenName'],inplace=True)\n",
   "id": "c3e9d8ece979ee3b",
   "outputs": [],
   "execution_count": 10
  },
  {
   "metadata": {},
   "cell_type": "markdown",
   "source": "Encoding missing party names\n",
   "id": "7ade8140becd27ed"
  },
  {
   "metadata": {
    "ExecuteTime": {
     "end_time": "2024-06-17T14:53:56.219799Z",
     "start_time": "2024-06-17T14:53:56.204698Z"
    }
   },
   "cell_type": "code",
   "source": [
    "filtered_df = EP_8_votes_fixed_names[EP_8_votes_fixed_names.Party.astype(str).apply(lambda x: len(x) < 3)]\n",
    "filtered_df.Party.value_counts()    "
   ],
   "id": "295c1818d0494c7e",
   "outputs": [
    {
     "data": {
      "text/plain": [
       "Party\n",
       "-    13\n",
       "Name: count, dtype: int64"
      ]
     },
     "execution_count": 11,
     "metadata": {},
     "output_type": "execute_result"
    }
   ],
   "execution_count": 11
  },
  {
   "metadata": {
    "ExecuteTime": {
     "end_time": "2024-06-17T14:53:56.225120Z",
     "start_time": "2024-06-17T14:53:56.219799Z"
    }
   },
   "cell_type": "code",
   "source": [
    "\n",
    "EP_8_votes_fixed_names.Party = EP_8_votes_fixed_names.Party.replace(\"-\",np.NAN)"
   ],
   "id": "853e90238f16f06",
   "outputs": [],
   "execution_count": 12
  },
  {
   "metadata": {},
   "cell_type": "markdown",
   "source": "Votations dataset inspection\n",
   "id": "d19db870859e911d"
  },
  {
   "metadata": {
    "ExecuteTime": {
     "end_time": "2024-06-17T14:53:56.231337Z",
     "start_time": "2024-06-17T14:53:56.225120Z"
    }
   },
   "cell_type": "code",
   "source": [
    "\n",
    "EP_8_votes_fixed_names.columns"
   ],
   "id": "d0259c0f4dd1e648",
   "outputs": [
    {
     "data": {
      "text/plain": [
       "Index([   'MepId',    'Fname',    'Lname',    'Activ',  'Country',    'Party',\n",
       "            'EPG',    'Start',      'End',          1,\n",
       "       ...\n",
       "            10268,      10269,      10270,      10271,      10272,      10273,\n",
       "            10274,      10275,      10276, 'FullName'],\n",
       "      dtype='object', length=10262)"
      ]
     },
     "execution_count": 13,
     "metadata": {},
     "output_type": "execute_result"
    }
   ],
   "execution_count": 13
  },
  {
   "metadata": {},
   "cell_type": "markdown",
   "source": "Rearranging ",
   "id": "99c4f0fc1a0316df"
  },
  {
   "metadata": {
    "ExecuteTime": {
     "end_time": "2024-06-17T14:53:56.239563Z",
     "start_time": "2024-06-17T14:53:56.231337Z"
    }
   },
   "cell_type": "code",
   "source": [
    "mepid_index = EP_8_votes_fixed_names.columns.get_loc('Lname')\n",
    "Full_name_col = EP_8_votes_fixed_names.pop('FullName')\n",
    "EP_8_votes_fixed_names.insert(loc=mepid_index + 1, column='FullName', value= Full_name_col)"
   ],
   "id": "375392bc59e138d4",
   "outputs": [],
   "execution_count": 14
  },
  {
   "metadata": {
    "ExecuteTime": {
     "end_time": "2024-06-17T14:53:56.245382Z",
     "start_time": "2024-06-17T14:53:56.239563Z"
    }
   },
   "cell_type": "code",
   "source": "EP_8_votes_fixed_names.columns",
   "id": "c0935e2a13c9ba03",
   "outputs": [
    {
     "data": {
      "text/plain": [
       "Index([   'MepId',    'Fname',    'Lname', 'FullName',    'Activ',  'Country',\n",
       "          'Party',      'EPG',    'Start',      'End',\n",
       "       ...\n",
       "            10267,      10268,      10269,      10270,      10271,      10272,\n",
       "            10273,      10274,      10275,      10276],\n",
       "      dtype='object', length=10262)"
      ]
     },
     "execution_count": 15,
     "metadata": {},
     "output_type": "execute_result"
    }
   ],
   "execution_count": 15
  },
  {
   "metadata": {},
   "cell_type": "markdown",
   "source": "Dropping irrelevant columns and renaming relevant (also to be discussed)\n",
   "id": "fb8f0a03b4fe478f"
  },
  {
   "metadata": {
    "ExecuteTime": {
     "end_time": "2024-06-17T14:53:56.251792Z",
     "start_time": "2024-06-17T14:53:56.246902Z"
    }
   },
   "cell_type": "code",
   "source": [
    "\n",
    "\n",
    "EP_8_votations.columns.tolist()"
   ],
   "id": "2ff1e622d87df21d",
   "outputs": [
    {
     "data": {
      "text/plain": [
       "['Vote ID',\n",
       " 'File',\n",
       " 'Order of vote',\n",
       " 'Date',\n",
       " \"O'clock\",\n",
       " 'Title',\n",
       " 'Title_Ro',\n",
       " 'Title_Fr',\n",
       " 'Title_German',\n",
       " 'Title_Polski',\n",
       " 'Procedure',\n",
       " 'Leg/Non-Leg/Bud',\n",
       " 'Type of Vote',\n",
       " 'Voting Rule',\n",
       " 'Rapporteur',\n",
       " 'Code',\n",
       " 'interinstitutional file number',\n",
       " 'Link',\n",
       " 'Committee responsabile',\n",
       " 'De/Policy area',\n",
       " 'Subject',\n",
       " 'Subject_ro',\n",
       " 'Subject_fr',\n",
       " 'Subject_ger',\n",
       " 'Subject_pl',\n",
       " 'Final \\nvote?',\n",
       " 'Am No.',\n",
       " 'Author',\n",
       " 'RCV',\n",
       " 'Vote',\n",
       " 'Yeas',\n",
       " 'No',\n",
       " 'Abs']"
      ]
     },
     "execution_count": 16,
     "metadata": {},
     "output_type": "execute_result"
    }
   ],
   "execution_count": 16
  },
  {
   "metadata": {
    "ExecuteTime": {
     "end_time": "2024-06-17T14:53:56.260225Z",
     "start_time": "2024-06-17T14:53:56.251792Z"
    }
   },
   "cell_type": "code",
   "source": [
    "renaming_dict = {\n",
    "    'Vote ID': 'VoteId',\n",
    "    'Date': 'Date',\n",
    "    'Title': 'Title',\n",
    "    'Procedure': 'Procedure',\n",
    "    'Leg/Non-Leg/Bud': 'Leg/Non-Leg/Bud',\n",
    "    'Type of Vote': 'TypeOfVote',\n",
    "    'Voting Rule': 'VotingRule',\n",
    "    'Rapporteur': 'Rapporteur',\n",
    "    'Link': 'Link',\n",
    "    'Committee responsabile': 'CommitteeResponsabile',\n",
    "    'De/Policy area': 'PolicyArea',\n",
    "    'Subject': 'Subject',\n",
    "    'Final \\nvote?': 'FinalVote',\n",
    "    'Am No.': 'AmNo',\n",
    "    'Author': 'Author',\n",
    "    'Vote': 'Vote',\n",
    "    'Yeas': 'Yes',\n",
    "    'No': 'No',\n",
    "    'Abs': 'Abs'\n",
    "}\n",
    "\n",
    "# Select and rename necessary columns\n",
    "EP_8_votations = EP_8_votations[list(renaming_dict.keys())]  # Select only the columns we need\n",
    "EP_8_votations.rename(columns=renaming_dict, inplace=True)  # Rename the columns"
   ],
   "id": "7e6432f4c548f6a4",
   "outputs": [],
   "execution_count": 17
  },
  {
   "metadata": {
    "ExecuteTime": {
     "end_time": "2024-06-17T14:53:56.266220Z",
     "start_time": "2024-06-17T14:53:56.260225Z"
    }
   },
   "cell_type": "code",
   "source": "EP_8_votations.columns",
   "id": "787ac6fa98b8533e",
   "outputs": [
    {
     "data": {
      "text/plain": [
       "Index(['VoteId', 'Date', 'Title', 'Procedure', 'Leg/Non-Leg/Bud', 'TypeOfVote',\n",
       "       'VotingRule', 'Rapporteur', 'Link', 'CommitteeResponsabile',\n",
       "       'PolicyArea', 'Subject', 'FinalVote', 'AmNo', 'Author', 'Vote', 'Yes',\n",
       "       'No', 'Abs'],\n",
       "      dtype='object')"
      ]
     },
     "execution_count": 18,
     "metadata": {},
     "output_type": "execute_result"
    }
   ],
   "execution_count": 18
  },
  {
   "metadata": {},
   "cell_type": "markdown",
   "source": "",
   "id": "6d08644d0c8702c6"
  },
  {
   "metadata": {},
   "cell_type": "markdown",
   "source": "Fixing dtype",
   "id": "6af99dffe22bd1e1"
  },
  {
   "metadata": {
    "ExecuteTime": {
     "end_time": "2024-06-17T14:53:56.273148Z",
     "start_time": "2024-06-17T14:53:56.266220Z"
    }
   },
   "cell_type": "code",
   "source": "EP_8_votations['Date'] = pd.to_datetime(EP_8_votations['Date'],format='mixed') ",
   "id": "6abad48cd0dbef9a",
   "outputs": [],
   "execution_count": 19
  },
  {
   "metadata": {
    "ExecuteTime": {
     "end_time": "2024-06-17T14:53:56.279585Z",
     "start_time": "2024-06-17T14:53:56.273148Z"
    }
   },
   "cell_type": "code",
   "source": "EP_8_votations.Date.tail()",
   "id": "742b3c1c1105b767",
   "outputs": [
    {
     "data": {
      "text/plain": [
       "10247   2019-04-18\n",
       "10248   2019-04-18\n",
       "10249   2019-04-18\n",
       "10250   2019-04-18\n",
       "10251   2019-04-18\n",
       "Name: Date, dtype: datetime64[ns]"
      ]
     },
     "execution_count": 20,
     "metadata": {},
     "output_type": "execute_result"
    }
   ],
   "execution_count": 20
  },
  {
   "metadata": {},
   "cell_type": "markdown",
   "source": "Recoding missing data\n",
   "id": "973b067c84cf48c6"
  },
  {
   "metadata": {
    "ExecuteTime": {
     "end_time": "2024-06-17T14:53:56.284674Z",
     "start_time": "2024-06-17T14:53:56.279585Z"
    }
   },
   "cell_type": "code",
   "source": [
    "def recode_votations(df):\n",
    "    df['TypeOfVote'] = df['TypeOfVote'].replace(0,np.NAN)\n",
    "    df['VotingRule'] = df['VotingRule'].replace(0,np.NAN)\n",
    "    df['Rapporteur'] = df['Rapporteur'].replace(0,np.NAN)\n",
    "    df['CommitteeResponsabile'] = df['CommitteeResponsabile'].replace(0,np.NAN)\n",
    "    df['Author'] = df['Author'].replace(0,np.NAN)\n",
    "    df['Subject'] = df['Subject'].replace(0,np.NAN)\n",
    "    df['AmNo'] = df['AmNo'].replace(0,np.NAN)\n",
    "    df['Vote'] = df['Vote'].replace({'+': 1, '-': 0,\"_\":0})"
   ],
   "id": "25974cdd9c371369",
   "outputs": [],
   "execution_count": 21
  },
  {
   "metadata": {
    "ExecuteTime": {
     "end_time": "2024-06-17T14:53:56.304506Z",
     "start_time": "2024-06-17T14:53:56.284674Z"
    }
   },
   "cell_type": "code",
   "source": "recode_votations(EP_8_votations)",
   "id": "d48d91b9d14a112b",
   "outputs": [
    {
     "name": "stderr",
     "output_type": "stream",
     "text": [
      "C:\\Users\\zwiad\\AppData\\Local\\Temp\\ipykernel_26528\\3036951935.py:9: FutureWarning: Downcasting behavior in `replace` is deprecated and will be removed in a future version. To retain the old behavior, explicitly call `result.infer_objects(copy=False)`. To opt-in to the future behavior, set `pd.set_option('future.no_silent_downcasting', True)`\n",
      "  df['Vote'] = df['Vote'].replace({'+': 1, '-': 0,\"_\":0})\n"
     ]
    }
   ],
   "execution_count": 22
  },
  {
   "metadata": {
    "ExecuteTime": {
     "end_time": "2024-06-17T14:53:56.318261Z",
     "start_time": "2024-06-17T14:53:56.305663Z"
    }
   },
   "cell_type": "code",
   "source": "EP_8_votations.head()\n",
   "id": "d230fda0004f7df",
   "outputs": [
    {
     "data": {
      "text/plain": [
       "   VoteId       Date                                              Title  \\\n",
       "0       1 2014-07-16  Appointment of 4 members of the European Commi...   \n",
       "1       2 2014-07-16  Adoption by Lithuania of the euro on 1 January...   \n",
       "2       3 2014-07-16  Adoption by Lithuania of the euro on 1 January...   \n",
       "3       4 2014-07-16  Adoption by Lithuania of the euro on 1 January...   \n",
       "4       5 2014-07-16  Adoption by Lithuania of the euro on 1 January...   \n",
       "\n",
       "  Procedure Leg/Non-Leg/Bud                    TypeOfVote VotingRule  \\\n",
       "0       NaN             Non  Appointment of commissioners          s   \n",
       "1         *             Leg  Draft legislative resolution          s   \n",
       "2         *             Leg  Draft legislative resolution          s   \n",
       "3         *             Leg  Draft legislative resolution          s   \n",
       "4         *             Leg  Draft legislative resolution          s   \n",
       "\n",
       "  Rapporteur                                               Link  \\\n",
       "0        NaN  http://www.europarl.europa.eu/sides/getDoc.do?...   \n",
       "1     Langen  http://www.europarl.europa.eu/sides/getDoc.do?...   \n",
       "2     Langen  http://www.europarl.europa.eu/sides/getDoc.do?...   \n",
       "3     Langen  http://www.europarl.europa.eu/sides/getDoc.do?...   \n",
       "4     Langen  http://www.europarl.europa.eu/sides/getDoc.do?...   \n",
       "\n",
       "                        CommitteeResponsabile  \\\n",
       "0                                         NaN   \n",
       "1  Committee on Economic and Monetary Affairs   \n",
       "2  Committee on Economic and Monetary Affairs   \n",
       "3  Committee on Economic and Monetary Affairs   \n",
       "4  Committee on Economic and Monetary Affairs   \n",
       "\n",
       "                                          PolicyArea  \\\n",
       "0  \\n\\nConstitutional and inter-institutional aff...   \n",
       "1                        Economic & monetary affairs   \n",
       "2                        Economic & monetary affairs   \n",
       "3                        Economic & monetary affairs   \n",
       "4                        Economic & monetary affairs   \n",
       "\n",
       "                        Subject  FinalVote AmNo       Author  Vote  Yes   No  \\\n",
       "0                           NaN        1.0  NaN          NaN     1  421  170   \n",
       "1                   Paragraph 2        0.0    4      GUE/NGL     0  148  514   \n",
       "2             After paragraph 7        0.0    1  Greens/ EFA     0  137  525   \n",
       "3             After paragraph 7        0.0    3  Greens/ EFA     0   93  550   \n",
       "4  vote: legislative resolution        1.0  NaN          NaN     1  545  116   \n",
       "\n",
       "   Abs  \n",
       "0   32  \n",
       "1   10  \n",
       "2   19  \n",
       "3   40  \n",
       "4   34  "
      ],
      "text/html": [
       "<div>\n",
       "<style scoped>\n",
       "    .dataframe tbody tr th:only-of-type {\n",
       "        vertical-align: middle;\n",
       "    }\n",
       "\n",
       "    .dataframe tbody tr th {\n",
       "        vertical-align: top;\n",
       "    }\n",
       "\n",
       "    .dataframe thead th {\n",
       "        text-align: right;\n",
       "    }\n",
       "</style>\n",
       "<table border=\"1\" class=\"dataframe\">\n",
       "  <thead>\n",
       "    <tr style=\"text-align: right;\">\n",
       "      <th></th>\n",
       "      <th>VoteId</th>\n",
       "      <th>Date</th>\n",
       "      <th>Title</th>\n",
       "      <th>Procedure</th>\n",
       "      <th>Leg/Non-Leg/Bud</th>\n",
       "      <th>TypeOfVote</th>\n",
       "      <th>VotingRule</th>\n",
       "      <th>Rapporteur</th>\n",
       "      <th>Link</th>\n",
       "      <th>CommitteeResponsabile</th>\n",
       "      <th>PolicyArea</th>\n",
       "      <th>Subject</th>\n",
       "      <th>FinalVote</th>\n",
       "      <th>AmNo</th>\n",
       "      <th>Author</th>\n",
       "      <th>Vote</th>\n",
       "      <th>Yes</th>\n",
       "      <th>No</th>\n",
       "      <th>Abs</th>\n",
       "    </tr>\n",
       "  </thead>\n",
       "  <tbody>\n",
       "    <tr>\n",
       "      <th>0</th>\n",
       "      <td>1</td>\n",
       "      <td>2014-07-16</td>\n",
       "      <td>Appointment of 4 members of the European Commi...</td>\n",
       "      <td>NaN</td>\n",
       "      <td>Non</td>\n",
       "      <td>Appointment of commissioners</td>\n",
       "      <td>s</td>\n",
       "      <td>NaN</td>\n",
       "      <td>http://www.europarl.europa.eu/sides/getDoc.do?...</td>\n",
       "      <td>NaN</td>\n",
       "      <td>\\n\\nConstitutional and inter-institutional aff...</td>\n",
       "      <td>NaN</td>\n",
       "      <td>1.0</td>\n",
       "      <td>NaN</td>\n",
       "      <td>NaN</td>\n",
       "      <td>1</td>\n",
       "      <td>421</td>\n",
       "      <td>170</td>\n",
       "      <td>32</td>\n",
       "    </tr>\n",
       "    <tr>\n",
       "      <th>1</th>\n",
       "      <td>2</td>\n",
       "      <td>2014-07-16</td>\n",
       "      <td>Adoption by Lithuania of the euro on 1 January...</td>\n",
       "      <td>*</td>\n",
       "      <td>Leg</td>\n",
       "      <td>Draft legislative resolution</td>\n",
       "      <td>s</td>\n",
       "      <td>Langen</td>\n",
       "      <td>http://www.europarl.europa.eu/sides/getDoc.do?...</td>\n",
       "      <td>Committee on Economic and Monetary Affairs</td>\n",
       "      <td>Economic &amp; monetary affairs</td>\n",
       "      <td>Paragraph 2</td>\n",
       "      <td>0.0</td>\n",
       "      <td>4</td>\n",
       "      <td>GUE/NGL</td>\n",
       "      <td>0</td>\n",
       "      <td>148</td>\n",
       "      <td>514</td>\n",
       "      <td>10</td>\n",
       "    </tr>\n",
       "    <tr>\n",
       "      <th>2</th>\n",
       "      <td>3</td>\n",
       "      <td>2014-07-16</td>\n",
       "      <td>Adoption by Lithuania of the euro on 1 January...</td>\n",
       "      <td>*</td>\n",
       "      <td>Leg</td>\n",
       "      <td>Draft legislative resolution</td>\n",
       "      <td>s</td>\n",
       "      <td>Langen</td>\n",
       "      <td>http://www.europarl.europa.eu/sides/getDoc.do?...</td>\n",
       "      <td>Committee on Economic and Monetary Affairs</td>\n",
       "      <td>Economic &amp; monetary affairs</td>\n",
       "      <td>After paragraph 7</td>\n",
       "      <td>0.0</td>\n",
       "      <td>1</td>\n",
       "      <td>Greens/ EFA</td>\n",
       "      <td>0</td>\n",
       "      <td>137</td>\n",
       "      <td>525</td>\n",
       "      <td>19</td>\n",
       "    </tr>\n",
       "    <tr>\n",
       "      <th>3</th>\n",
       "      <td>4</td>\n",
       "      <td>2014-07-16</td>\n",
       "      <td>Adoption by Lithuania of the euro on 1 January...</td>\n",
       "      <td>*</td>\n",
       "      <td>Leg</td>\n",
       "      <td>Draft legislative resolution</td>\n",
       "      <td>s</td>\n",
       "      <td>Langen</td>\n",
       "      <td>http://www.europarl.europa.eu/sides/getDoc.do?...</td>\n",
       "      <td>Committee on Economic and Monetary Affairs</td>\n",
       "      <td>Economic &amp; monetary affairs</td>\n",
       "      <td>After paragraph 7</td>\n",
       "      <td>0.0</td>\n",
       "      <td>3</td>\n",
       "      <td>Greens/ EFA</td>\n",
       "      <td>0</td>\n",
       "      <td>93</td>\n",
       "      <td>550</td>\n",
       "      <td>40</td>\n",
       "    </tr>\n",
       "    <tr>\n",
       "      <th>4</th>\n",
       "      <td>5</td>\n",
       "      <td>2014-07-16</td>\n",
       "      <td>Adoption by Lithuania of the euro on 1 January...</td>\n",
       "      <td>*</td>\n",
       "      <td>Leg</td>\n",
       "      <td>Draft legislative resolution</td>\n",
       "      <td>s</td>\n",
       "      <td>Langen</td>\n",
       "      <td>http://www.europarl.europa.eu/sides/getDoc.do?...</td>\n",
       "      <td>Committee on Economic and Monetary Affairs</td>\n",
       "      <td>Economic &amp; monetary affairs</td>\n",
       "      <td>vote: legislative resolution</td>\n",
       "      <td>1.0</td>\n",
       "      <td>NaN</td>\n",
       "      <td>NaN</td>\n",
       "      <td>1</td>\n",
       "      <td>545</td>\n",
       "      <td>116</td>\n",
       "      <td>34</td>\n",
       "    </tr>\n",
       "  </tbody>\n",
       "</table>\n",
       "</div>"
      ]
     },
     "execution_count": 23,
     "metadata": {},
     "output_type": "execute_result"
    }
   ],
   "execution_count": 23
  },
  {
   "metadata": {},
   "cell_type": "markdown",
   "source": "Checking and fixing the datatypes\n",
   "id": "b1dac66b0d9549cf"
  },
  {
   "metadata": {
    "ExecuteTime": {
     "end_time": "2024-06-17T14:53:56.324280Z",
     "start_time": "2024-06-17T14:53:56.318261Z"
    }
   },
   "cell_type": "code",
   "source": "EP_8_votations.dtypes\n",
   "id": "391bba4cf2e43903",
   "outputs": [
    {
     "data": {
      "text/plain": [
       "VoteId                            int64\n",
       "Date                     datetime64[ns]\n",
       "Title                            object\n",
       "Procedure                        object\n",
       "Leg/Non-Leg/Bud                  object\n",
       "TypeOfVote                       object\n",
       "VotingRule                       object\n",
       "Rapporteur                       object\n",
       "Link                             object\n",
       "CommitteeResponsabile            object\n",
       "PolicyArea                       object\n",
       "Subject                          object\n",
       "FinalVote                       float64\n",
       "AmNo                             object\n",
       "Author                           object\n",
       "Vote                              int64\n",
       "Yes                               int64\n",
       "No                                int64\n",
       "Abs                               int64\n",
       "dtype: object"
      ]
     },
     "execution_count": 24,
     "metadata": {},
     "output_type": "execute_result"
    }
   ],
   "execution_count": 24
  },
  {
   "metadata": {
    "ExecuteTime": {
     "end_time": "2024-06-17T14:53:56.330716Z",
     "start_time": "2024-06-17T14:53:56.324280Z"
    }
   },
   "cell_type": "code",
   "source": "EP_8_votations.FinalVote = EP_8_votations['FinalVote'].astype('Int64')",
   "id": "395d703a22933f1f",
   "outputs": [],
   "execution_count": 25
  },
  {
   "metadata": {
    "ExecuteTime": {
     "end_time": "2024-06-17T14:53:56.335300Z",
     "start_time": "2024-06-17T14:53:56.330716Z"
    }
   },
   "cell_type": "code",
   "source": "EP_8_votations.Vote = EP_8_votations['Vote'].astype('Int64')",
   "id": "1d658cc1f4a57e46",
   "outputs": [],
   "execution_count": 26
  },
  {
   "metadata": {},
   "cell_type": "markdown",
   "source": "Renaming EPG groups to fit the API convention\n",
   "id": "40d7647941aa1add"
  },
  {
   "metadata": {
    "ExecuteTime": {
     "end_time": "2024-06-17T14:53:56.342975Z",
     "start_time": "2024-06-17T14:53:56.335300Z"
    }
   },
   "cell_type": "code",
   "source": "EP_8_votes_fixed_names.EPG.value_counts()",
   "id": "665be290d0bdcf4e",
   "outputs": [
    {
     "data": {
      "text/plain": [
       "EPG\n",
       "Group of the European People's Party (Christian Democrats)                                  219\n",
       "Group of the Progressive Alliance of Socialists and Democrats in the European Parliament    188\n",
       "European Conservatives and Reformists Group                                                  73\n",
       "Group of the Alliance of Liberals and Democrats for Europe                                   68\n",
       "Group of the Greens/European Free Alliance                                                   52\n",
       "Confederal Group of the European United Left - Nordic Green Left                             51\n",
       "Europe of Freedom and Direct Democracy Group                                                 42\n",
       "Europe of Nations and Freedom Group                                                          35\n",
       "Non-attached Members                                                                         23\n",
       "Name: count, dtype: int64"
      ]
     },
     "execution_count": 27,
     "metadata": {},
     "output_type": "execute_result"
    }
   ],
   "execution_count": 27
  },
  {
   "metadata": {
    "ExecuteTime": {
     "end_time": "2024-06-17T14:53:56.347777Z",
     "start_time": "2024-06-17T14:53:56.342975Z"
    }
   },
   "cell_type": "code",
   "source": [
    "EPG_rename_dict = {\n",
    "    \"Group of the European People's Party (Christian Democrats)\":\"EPP\",\n",
    "    \"Group of the Progressive Alliance of Socialists and Democrats in the European Parliament\":\"S&D\",\n",
    "    \"Group of the Alliance of Liberals and Democrats for Europe\":\"ALDE\",\n",
    "    \"European Conservatives and Reformists Group\":\"ECR\",\n",
    "    \"Confederal Group of the European United Left - Nordic Green Left\":\"GUE–NGL\",\n",
    "    \"Group of the Greens/European Free Alliance\":\"Greens–EFA\",\n",
    "    \"Non-attached Members\":\"NI\",  \n",
    "    \"Europe of Freedom and Direct Democracy Group\":\"EFDD\",\n",
    "    \"Europe of Nations and Freedom Group\":\"ENFF\"\n",
    "}"
   ],
   "id": "8dddf70b12890858",
   "outputs": [],
   "execution_count": 28
  },
  {
   "metadata": {},
   "cell_type": "markdown",
   "source": "",
   "id": "3e92d9bd4897d756"
  },
  {
   "metadata": {
    "ExecuteTime": {
     "end_time": "2024-06-17T14:53:56.354234Z",
     "start_time": "2024-06-17T14:53:56.348790Z"
    }
   },
   "cell_type": "code",
   "source": "EP_8_votes_fixed_names.EPG = EP_8_votes_fixed_names.EPG.replace(EPG_rename_dict,regex=False)",
   "id": "fba5d5758e1e94b5",
   "outputs": [],
   "execution_count": 29
  },
  {
   "metadata": {
    "ExecuteTime": {
     "end_time": "2024-06-17T14:53:56.361636Z",
     "start_time": "2024-06-17T14:53:56.354234Z"
    }
   },
   "cell_type": "code",
   "source": "EP_8_votes_fixed_names.EPG.value_counts()",
   "id": "e1bdaae100c3e058",
   "outputs": [
    {
     "data": {
      "text/plain": [
       "EPG\n",
       "EPP           219\n",
       "S&D           188\n",
       "ECR            73\n",
       "ALDE           68\n",
       "Greens–EFA     52\n",
       "GUE–NGL        51\n",
       "EFDD           42\n",
       "ENFF           35\n",
       "NI             23\n",
       "Name: count, dtype: int64"
      ]
     },
     "execution_count": 30,
     "metadata": {},
     "output_type": "execute_result"
    }
   ],
   "execution_count": 30
  },
  {
   "metadata": {},
   "cell_type": "markdown",
   "source": "Creating a list to filter the non,observation columns from Votes\n",
   "id": "a1b108d1a21c72fb"
  },
  {
   "metadata": {
    "ExecuteTime": {
     "end_time": "2024-06-17T14:53:56.365876Z",
     "start_time": "2024-06-17T14:53:56.361636Z"
    }
   },
   "cell_type": "code",
   "source": [
    "filtered_list = ['MepId',\n",
    " 'Fname',\n",
    " 'Lname',\n",
    " 'FullName',\n",
    " 'Activ',\n",
    " 'Country',\n",
    " 'Party',\n",
    " 'EPG',\n",
    " 'Start',\n",
    " 'End']"
   ],
   "id": "d89bc4401816510a",
   "outputs": [],
   "execution_count": 31
  },
  {
   "metadata": {},
   "cell_type": "markdown",
   "source": "Melting votes into long format\n",
   "id": "404479173ab9ef7b"
  },
  {
   "metadata": {
    "ExecuteTime": {
     "end_time": "2024-06-17T14:53:57.067901Z",
     "start_time": "2024-06-17T14:53:56.365876Z"
    }
   },
   "cell_type": "code",
   "source": [
    "mep_info = EP_8_votes_fixed_names[filtered_list]\n",
    "vote_columns = [col for col in EP_8_votes_fixed_names.columns if col not in filtered_list]\n",
    "melted_votes = pd.melt(EP_8_votes_fixed_names, id_vars='MepId', value_vars=vote_columns, var_name='VoteId', value_name='Vote')\n"
   ],
   "id": "ca534abfe7b76b5",
   "outputs": [],
   "execution_count": 32
  },
  {
   "metadata": {
    "ExecuteTime": {
     "end_time": "2024-06-17T14:54:02.331157Z",
     "start_time": "2024-06-17T14:53:57.068912Z"
    }
   },
   "cell_type": "code",
   "source": [
    "epg_df = hf.get_epgs()\n",
    "party_df = hf.get_parties()\n",
    "ep_df = hf.generate_ep_df(9)\n",
    "org_df = pd.concat([epg_df, party_df, ep_df], ignore_index=True)"
   ],
   "id": "869d5766f2d8ce06",
   "outputs": [],
   "execution_count": 33
  },
  {
   "metadata": {},
   "cell_type": "markdown",
   "source": "",
   "id": "4378dfd6b0e646ba"
  },
  {
   "metadata": {
    "ExecuteTime": {
     "end_time": "2024-06-17T14:54:02.352174Z",
     "start_time": "2024-06-17T14:54:02.331157Z"
    }
   },
   "cell_type": "code",
   "source": [
    "mep_info_for_wnominate = mep_info[['FullName','EPG']]\n",
    "matrix_ep_votes = EP_8_votes_fixed_names[vote_columns]"
   ],
   "id": "4fbb83da54df7d1d",
   "outputs": [],
   "execution_count": 34
  },
  {
   "metadata": {
    "ExecuteTime": {
     "end_time": "2024-06-17T14:54:02.355966Z",
     "start_time": "2024-06-17T14:54:02.352174Z"
    }
   },
   "cell_type": "code",
   "source": "# memberships_df = hf.get_memberships_df(mep_info,org_df)\n",
   "id": "91a1cd12d6663e2e",
   "outputs": [],
   "execution_count": 35
  },
  {
   "metadata": {
    "ExecuteTime": {
     "end_time": "2024-06-17T14:54:02.361590Z",
     "start_time": "2024-06-17T14:54:02.355966Z"
    }
   },
   "cell_type": "code",
   "source": "# mep_info_db = hf.get_mep_database(mep_info,memberships_df)\n",
   "id": "b545119dc7c15e0c",
   "outputs": [],
   "execution_count": 36
  },
  {
   "metadata": {
    "ExecuteTime": {
     "end_time": "2024-06-17T14:54:02.367177Z",
     "start_time": "2024-06-17T14:54:02.361590Z"
    }
   },
   "cell_type": "code",
   "source": [
    "votings_filtered_list = [\n",
    "    \"VoteId\" \n",
    "    ,\"Date\" \n",
    "    ,\"Title\"\n",
    "    ,\"TypeOfVote\"\n",
    "    ,\"Rapporteur\"\n",
    "    ,\"Link\"\n",
    "    ,\"CommitteeResponsabile\"\n",
    "    ,'Subject'\n",
    "    ,'FinalVote' \n",
    "    ,'AmNo'\n",
    "    ,'Author'\n",
    "    ,'Vote'   \n",
    "    ,'Yes'\n",
    "    ,'No' \n",
    "    ,'Abs']"
   ],
   "id": "d13f520319068a2e",
   "outputs": [],
   "execution_count": 37
  },
  {
   "metadata": {
    "ExecuteTime": {
     "end_time": "2024-06-17T14:54:02.373910Z",
     "start_time": "2024-06-17T14:54:02.367177Z"
    }
   },
   "cell_type": "code",
   "source": "votings = EP_8_votations[votings_filtered_list]\n",
   "id": "1a65df5ea5a52ad1",
   "outputs": [],
   "execution_count": 38
  },
  {
   "metadata": {
    "ExecuteTime": {
     "end_time": "2024-06-17T14:54:03.493913Z",
     "start_time": "2024-06-17T14:54:02.373910Z"
    }
   },
   "cell_type": "code",
   "source": "melted_votes.VoteId = melted_votes.VoteId.astype('Int64')\n",
   "id": "dc8ecfeac9b4caab",
   "outputs": [],
   "execution_count": 39
  },
  {
   "metadata": {},
   "cell_type": "markdown",
   "source": "Saving files to .csv\n",
   "id": "6550597da974817e"
  },
  {
   "metadata": {
    "ExecuteTime": {
     "end_time": "2024-06-17T14:54:03.498477Z",
     "start_time": "2024-06-17T14:54:03.493913Z"
    }
   },
   "cell_type": "code",
   "source": [
    "base_directory = os.path.join(\"Cleaned_data\",\"EP8_clean_data\")\n",
    "os.makedirs(base_directory, exist_ok=True)"
   ],
   "id": "69f1d72e9f8a9850",
   "outputs": [],
   "execution_count": 40
  },
  {
   "metadata": {
    "ExecuteTime": {
     "end_time": "2024-06-17T14:54:06.054536Z",
     "start_time": "2024-06-17T14:54:03.501598Z"
    }
   },
   "cell_type": "code",
   "source": [
    "matrix_ep_votes.to_csv(os.path.join(base_directory,\"matrix_ep8_votes.csv\"),index=False)\n",
    "mep_info_for_wnominate.to_csv(os.path.join(base_directory,\"mep_info_for_wnominate.csv\"),index=False)"
   ],
   "id": "9e42ce3eff8b7b6d",
   "outputs": [],
   "execution_count": 41
  },
  {
   "metadata": {
    "ExecuteTime": {
     "end_time": "2024-06-17T14:54:06.058579Z",
     "start_time": "2024-06-17T14:54:06.055553Z"
    }
   },
   "cell_type": "code",
   "source": [
    "# mep_info_db.to_csv(os.path.join(base_directory,\"mep_info_EP_8.csv\"),index=False)\n",
    "# melted_votes.to_csv(os.path.join(base_directory,\"votes_EP_8.csv\"),index=False)\n",
    "# votings.to_csv(os.path.join(base_directory,\"votings_EP_8.csv\"),index=False)\n",
    "# memberships_df.to_csv(os.path.join(base_directory,\"memberships_EP_8.csv\"),index=False)"
   ],
   "id": "89810ddec13787dd",
   "outputs": [],
   "execution_count": 42
  },
  {
   "metadata": {
    "ExecuteTime": {
     "end_time": "2024-06-17T14:54:06.062223Z",
     "start_time": "2024-06-17T14:54:06.058579Z"
    }
   },
   "cell_type": "code",
   "source": "",
   "id": "3ed9de6b2aeba466",
   "outputs": [],
   "execution_count": 42
  }
 ],
 "metadata": {
  "kernelspec": {
   "display_name": "Python 3",
   "language": "python",
   "name": "python3"
  },
  "language_info": {
   "codemirror_mode": {
    "name": "ipython",
    "version": 2
   },
   "file_extension": ".py",
   "mimetype": "text/x-python",
   "name": "python",
   "nbconvert_exporter": "python",
   "pygments_lexer": "ipython2",
   "version": "2.7.6"
  }
 },
 "nbformat": 4,
 "nbformat_minor": 5
}
