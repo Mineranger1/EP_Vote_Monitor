{
 "cells": [
  {
   "cell_type": "code",
   "id": "initial_id",
   "metadata": {
    "collapsed": true,
    "ExecuteTime": {
     "end_time": "2024-06-04T09:18:20.385343Z",
     "start_time": "2024-06-04T09:18:19.472667Z"
    }
   },
   "source": [
    "import pandas as pd\n",
    "import numpy as np\n",
    "import requests\n",
    "import glob\n",
    "import openpyxl\n",
    "import os\n",
    "import helperfunctions as hf"
   ],
   "outputs": [],
   "execution_count": 1
  },
  {
   "metadata": {},
   "cell_type": "markdown",
   "source": "Creating relative paths\n",
   "id": "659aa6659db15bff"
  },
  {
   "metadata": {
    "ExecuteTime": {
     "end_time": "2024-06-04T09:18:22.002192Z",
     "start_time": "2024-06-04T09:18:21.995662Z"
    }
   },
   "cell_type": "code",
   "source": [
    "votes = os.path.join(\"VoteWatch-EP-voting-data_2004-2022\", \"EP8_RCVs_2019_06_25.xlsx\")\n",
    "votations = os.path.join(\"VoteWatch-EP-voting-data_2004-2022\",\"EP8_Voted docs.xlsx\")"
   ],
   "id": "c794c4fafdf1aff",
   "outputs": [],
   "execution_count": 2
  },
  {
   "metadata": {},
   "cell_type": "markdown",
   "source": "Importing data from EU API (for correct names)\n",
   "id": "c9f5ffe84e9072c6"
  },
  {
   "metadata": {
    "ExecuteTime": {
     "end_time": "2024-06-04T09:18:30.465777Z",
     "start_time": "2024-06-04T09:18:23.367859Z"
    }
   },
   "cell_type": "code",
   "source": [
    "url = 'https://data.europarl.europa.eu/api/v2/meps?parliamentary-term=8&format=application%2Fld%2Bjson&offset=0'\n",
    "response = requests.get(url)\n",
    "meps_data = response.json()"
   ],
   "id": "20a23dbcf699b7ab",
   "outputs": [],
   "execution_count": 3
  },
  {
   "metadata": {},
   "cell_type": "markdown",
   "source": "Creating DataFrames (runtime is quite long, .xlsx files)",
   "id": "36c52cd5fb976fe7"
  },
  {
   "metadata": {
    "ExecuteTime": {
     "end_time": "2024-06-04T09:20:06.781554Z",
     "start_time": "2024-06-04T09:18:30.465777Z"
    }
   },
   "cell_type": "code",
   "source": [
    "meps_df_8 = pd.json_normalize(meps_data['data'])\n",
    "EP_8_votes = pd.read_excel(votes)\n",
    "EP_8_votations = pd.read_excel(votations)"
   ],
   "id": "4398b1b6656026d6",
   "outputs": [],
   "execution_count": 4
  },
  {
   "metadata": {},
   "cell_type": "markdown",
   "source": "Dropping irrelevant columns (to discuss)\n",
   "id": "c51d5f3c1f100763"
  },
  {
   "metadata": {
    "ExecuteTime": {
     "end_time": "2024-06-04T09:20:06.786345Z",
     "start_time": "2024-06-04T09:20:06.781554Z"
    }
   },
   "cell_type": "code",
   "source": [
    "\n",
    "meps_df_8.drop(columns=['id','type','sortLabel','officialFamilyName','officialGivenName'],inplace=True)"
   ],
   "id": "a24a084482b99c2c",
   "outputs": [],
   "execution_count": 5
  },
  {
   "metadata": {},
   "cell_type": "markdown",
   "source": "Renaming variables for pd.merge and correcting datatype\n",
   "id": "158dc6d07b046750"
  },
  {
   "metadata": {
    "ExecuteTime": {
     "end_time": "2024-06-04T09:20:06.804757Z",
     "start_time": "2024-06-04T09:20:06.787869Z"
    }
   },
   "cell_type": "code",
   "source": [
    "meps_df_8.rename(columns={'identifier': 'MepId'},inplace=True)\n",
    "EP_8_votes.rename(columns={'WebisteEpID': 'MepId'},inplace=True)"
   ],
   "id": "ed5a240474eca193",
   "outputs": [],
   "execution_count": 6
  },
  {
   "metadata": {
    "ExecuteTime": {
     "end_time": "2024-06-04T09:20:06.840156Z",
     "start_time": "2024-06-04T09:20:06.804757Z"
    }
   },
   "cell_type": "code",
   "source": "meps_df_8.MepId = meps_df_8.MepId.astype(int)\n",
   "id": "1e3c7056bfed71bc",
   "outputs": [],
   "execution_count": 7
  },
  {
   "metadata": {},
   "cell_type": "markdown",
   "source": "Merging",
   "id": "4cf891f5e1660a33"
  },
  {
   "metadata": {
    "ExecuteTime": {
     "end_time": "2024-06-04T09:20:06.890855Z",
     "start_time": "2024-06-04T09:20:06.840156Z"
    }
   },
   "cell_type": "code",
   "source": "EP_8_votes_fixed_names = pd.merge(EP_8_votes,meps_df_8 , on='MepId', how='left')",
   "id": "e632a803189b37f2",
   "outputs": [],
   "execution_count": 8
  },
  {
   "metadata": {},
   "cell_type": "markdown",
   "source": "Updating names of MPs\n",
   "id": "323edbc0cfb83f2d"
  },
  {
   "metadata": {
    "ExecuteTime": {
     "end_time": "2024-06-04T09:20:06.910498Z",
     "start_time": "2024-06-04T09:20:06.890855Z"
    }
   },
   "cell_type": "code",
   "source": "EP_8_votes_fixed_names[['Fname','Lname','FullName']] = EP_8_votes_fixed_names[['givenName','familyName','label']]\n",
   "id": "5b17cbe27c2acc73",
   "outputs": [],
   "execution_count": 9
  },
  {
   "metadata": {
    "ExecuteTime": {
     "end_time": "2024-06-04T09:20:06.995122Z",
     "start_time": "2024-06-04T09:20:06.910498Z"
    }
   },
   "cell_type": "code",
   "source": "EP_8_votes_fixed_names.drop(columns=['label','familyName','givenName'],inplace=True)\n",
   "id": "c3e9d8ece979ee3b",
   "outputs": [],
   "execution_count": 10
  },
  {
   "metadata": {},
   "cell_type": "markdown",
   "source": "Encoding missing party names\n",
   "id": "7ade8140becd27ed"
  },
  {
   "metadata": {
    "ExecuteTime": {
     "end_time": "2024-06-04T09:20:07.018767Z",
     "start_time": "2024-06-04T09:20:06.995122Z"
    }
   },
   "cell_type": "code",
   "source": [
    "filtered_df = EP_8_votes_fixed_names[EP_8_votes_fixed_names.Party.astype(str).apply(lambda x: len(x) < 3)]\n",
    "filtered_df.Party.value_counts()    "
   ],
   "id": "295c1818d0494c7e",
   "outputs": [
    {
     "data": {
      "text/plain": [
       "Party\n",
       "-    13\n",
       "Name: count, dtype: int64"
      ]
     },
     "execution_count": 11,
     "metadata": {},
     "output_type": "execute_result"
    }
   ],
   "execution_count": 11
  },
  {
   "metadata": {
    "ExecuteTime": {
     "end_time": "2024-06-04T09:20:07.026223Z",
     "start_time": "2024-06-04T09:20:07.019775Z"
    }
   },
   "cell_type": "code",
   "source": [
    "\n",
    "EP_8_votes_fixed_names.Party = EP_8_votes_fixed_names.Party.replace(\"-\",np.NAN)"
   ],
   "id": "853e90238f16f06",
   "outputs": [],
   "execution_count": 12
  },
  {
   "metadata": {},
   "cell_type": "markdown",
   "source": "Votations dataset inspection\n",
   "id": "d19db870859e911d"
  },
  {
   "metadata": {
    "ExecuteTime": {
     "end_time": "2024-06-04T09:20:07.048036Z",
     "start_time": "2024-06-04T09:20:07.026223Z"
    }
   },
   "cell_type": "code",
   "source": [
    "\n",
    "EP_8_votes_fixed_names.columns"
   ],
   "id": "d0259c0f4dd1e648",
   "outputs": [
    {
     "data": {
      "text/plain": [
       "Index([   'MepId',    'Fname',    'Lname',    'Activ',  'Country',    'Party',\n",
       "            'EPG',    'Start',      'End',          1,\n",
       "       ...\n",
       "            10268,      10269,      10270,      10271,      10272,      10273,\n",
       "            10274,      10275,      10276, 'FullName'],\n",
       "      dtype='object', length=10262)"
      ]
     },
     "execution_count": 13,
     "metadata": {},
     "output_type": "execute_result"
    }
   ],
   "execution_count": 13
  },
  {
   "metadata": {},
   "cell_type": "markdown",
   "source": "Rearranging ",
   "id": "99c4f0fc1a0316df"
  },
  {
   "metadata": {
    "ExecuteTime": {
     "end_time": "2024-06-04T09:20:07.082838Z",
     "start_time": "2024-06-04T09:20:07.049042Z"
    }
   },
   "cell_type": "code",
   "source": [
    "mepid_index = EP_8_votes_fixed_names.columns.get_loc('Lname')\n",
    "Full_name_col = EP_8_votes_fixed_names.pop('FullName')\n",
    "EP_8_votes_fixed_names.insert(loc=mepid_index + 1, column='FullName', value= Full_name_col)"
   ],
   "id": "375392bc59e138d4",
   "outputs": [],
   "execution_count": 14
  },
  {
   "metadata": {
    "ExecuteTime": {
     "end_time": "2024-06-04T09:20:07.116361Z",
     "start_time": "2024-06-04T09:20:07.082838Z"
    }
   },
   "cell_type": "code",
   "source": "EP_8_votes_fixed_names.columns",
   "id": "c0935e2a13c9ba03",
   "outputs": [
    {
     "data": {
      "text/plain": [
       "Index([   'MepId',    'Fname',    'Lname', 'FullName',    'Activ',  'Country',\n",
       "          'Party',      'EPG',    'Start',      'End',\n",
       "       ...\n",
       "            10267,      10268,      10269,      10270,      10271,      10272,\n",
       "            10273,      10274,      10275,      10276],\n",
       "      dtype='object', length=10262)"
      ]
     },
     "execution_count": 15,
     "metadata": {},
     "output_type": "execute_result"
    }
   ],
   "execution_count": 15
  },
  {
   "metadata": {},
   "cell_type": "markdown",
   "source": "Dropping irrelevant columns and renaming relevant (also to be discussed)\n",
   "id": "fb8f0a03b4fe478f"
  },
  {
   "metadata": {
    "ExecuteTime": {
     "end_time": "2024-06-04T09:20:07.150965Z",
     "start_time": "2024-06-04T09:20:07.116361Z"
    }
   },
   "cell_type": "code",
   "source": [
    "\n",
    "\n",
    "EP_8_votations.columns.tolist()"
   ],
   "id": "2ff1e622d87df21d",
   "outputs": [
    {
     "data": {
      "text/plain": [
       "['Vote ID',\n",
       " 'File',\n",
       " 'Order of vote',\n",
       " 'Date',\n",
       " \"O'clock\",\n",
       " 'Title',\n",
       " 'Title_Ro',\n",
       " 'Title_Fr',\n",
       " 'Title_German',\n",
       " 'Title_Polski',\n",
       " 'Procedure',\n",
       " 'Leg/Non-Leg/Bud',\n",
       " 'Type of Vote',\n",
       " 'Voting Rule',\n",
       " 'Rapporteur',\n",
       " 'Code',\n",
       " 'interinstitutional file number',\n",
       " 'Link',\n",
       " 'Committee responsabile',\n",
       " 'De/Policy area',\n",
       " 'Subject',\n",
       " 'Subject_ro',\n",
       " 'Subject_fr',\n",
       " 'Subject_ger',\n",
       " 'Subject_pl',\n",
       " 'Final \\nvote?',\n",
       " 'Am No.',\n",
       " 'Author',\n",
       " 'RCV',\n",
       " 'Vote',\n",
       " 'Yeas',\n",
       " 'No',\n",
       " 'Abs']"
      ]
     },
     "execution_count": 16,
     "metadata": {},
     "output_type": "execute_result"
    }
   ],
   "execution_count": 16
  },
  {
   "metadata": {
    "ExecuteTime": {
     "end_time": "2024-06-04T09:20:07.188365Z",
     "start_time": "2024-06-04T09:20:07.150965Z"
    }
   },
   "cell_type": "code",
   "source": [
    "renaming_dict = {\n",
    "    'Vote ID': 'VoteId',\n",
    "    'Date': 'Date',\n",
    "    'Title': 'Title',\n",
    "    'Procedure': 'Procedure',\n",
    "    'Leg/Non-Leg/Bud': 'Leg/Non-Leg/Bud',\n",
    "    'Type of Vote': 'TypeOfVote',\n",
    "    'Voting Rule': 'VotingRule',\n",
    "    'Rapporteur': 'Rapporteur',\n",
    "    'Link': 'Link',\n",
    "    'Committee responsabile': 'CommitteeResponsabile',\n",
    "    'De/Policy area': 'PolicyArea',\n",
    "    'Subject': 'Subject',\n",
    "    'Final \\nvote?': 'FinalVote',\n",
    "    'Am No.': 'AmNo',\n",
    "    'Author': 'Author',\n",
    "    'Vote': 'Vote',\n",
    "    'Yeas': 'Yes',\n",
    "    'No': 'No',\n",
    "    'Abs': 'Abs'\n",
    "}\n",
    "\n",
    "# Select and rename necessary columns\n",
    "EP_8_votations = EP_8_votations[list(renaming_dict.keys())]  # Select only the columns we need\n",
    "EP_8_votations.rename(columns=renaming_dict, inplace=True)  # Rename the columns"
   ],
   "id": "7e6432f4c548f6a4",
   "outputs": [],
   "execution_count": 17
  },
  {
   "metadata": {
    "ExecuteTime": {
     "end_time": "2024-06-04T09:20:07.219319Z",
     "start_time": "2024-06-04T09:20:07.188365Z"
    }
   },
   "cell_type": "code",
   "source": "EP_8_votations.columns",
   "id": "787ac6fa98b8533e",
   "outputs": [
    {
     "data": {
      "text/plain": [
       "Index(['VoteId', 'Date', 'Title', 'Procedure', 'Leg/Non-Leg/Bud', 'TypeOfVote',\n",
       "       'VotingRule', 'Rapporteur', 'Link', 'CommitteeResponsabile',\n",
       "       'PolicyArea', 'Subject', 'FinalVote', 'AmNo', 'Author', 'Vote', 'Yes',\n",
       "       'No', 'Abs'],\n",
       "      dtype='object')"
      ]
     },
     "execution_count": 18,
     "metadata": {},
     "output_type": "execute_result"
    }
   ],
   "execution_count": 18
  },
  {
   "metadata": {},
   "cell_type": "markdown",
   "source": "",
   "id": "6d08644d0c8702c6"
  },
  {
   "metadata": {},
   "cell_type": "markdown",
   "source": "Fixing dtype",
   "id": "6af99dffe22bd1e1"
  },
  {
   "metadata": {
    "ExecuteTime": {
     "end_time": "2024-06-04T09:20:07.257417Z",
     "start_time": "2024-06-04T09:20:07.219319Z"
    }
   },
   "cell_type": "code",
   "source": "EP_8_votations['Date'] = pd.to_datetime(EP_8_votations['Date'],format='mixed') ",
   "id": "6abad48cd0dbef9a",
   "outputs": [],
   "execution_count": 19
  },
  {
   "metadata": {
    "ExecuteTime": {
     "end_time": "2024-06-04T09:20:07.264529Z",
     "start_time": "2024-06-04T09:20:07.257417Z"
    }
   },
   "cell_type": "code",
   "source": "EP_8_votations.Date.tail()",
   "id": "742b3c1c1105b767",
   "outputs": [
    {
     "data": {
      "text/plain": [
       "10247   2019-04-18\n",
       "10248   2019-04-18\n",
       "10249   2019-04-18\n",
       "10250   2019-04-18\n",
       "10251   2019-04-18\n",
       "Name: Date, dtype: datetime64[ns]"
      ]
     },
     "execution_count": 20,
     "metadata": {},
     "output_type": "execute_result"
    }
   ],
   "execution_count": 20
  },
  {
   "metadata": {},
   "cell_type": "markdown",
   "source": "Recoding missing data\n",
   "id": "973b067c84cf48c6"
  },
  {
   "metadata": {
    "ExecuteTime": {
     "end_time": "2024-06-04T09:20:07.295141Z",
     "start_time": "2024-06-04T09:20:07.264529Z"
    }
   },
   "cell_type": "code",
   "source": [
    "def recode_votations(df):\n",
    "    df['TypeOfVote'] = df['TypeOfVote'].replace(0,np.NAN)\n",
    "    df['VotingRule'] = df['VotingRule'].replace(0,np.NAN)\n",
    "    df['Rapporteur'] = df['Rapporteur'].replace(0,np.NAN)\n",
    "    df['CommitteeResponsabile'] = df['CommitteeResponsabile'].replace(0,np.NAN)\n",
    "    df['Author'] = df['Author'].replace(0,np.NAN)\n",
    "    df['Subject'] = df['Subject'].replace(0,np.NAN)\n",
    "    df['AmNo'] = df['AmNo'].replace(0,np.NAN)\n",
    "    df['Vote'] = df['Vote'].replace({'+': 1, '-': 0,\"_\":0})"
   ],
   "id": "25974cdd9c371369",
   "outputs": [],
   "execution_count": 21
  },
  {
   "metadata": {
    "ExecuteTime": {
     "end_time": "2024-06-04T09:20:07.339250Z",
     "start_time": "2024-06-04T09:20:07.295141Z"
    }
   },
   "cell_type": "code",
   "source": "recode_votations(EP_8_votations)",
   "id": "d48d91b9d14a112b",
   "outputs": [
    {
     "name": "stderr",
     "output_type": "stream",
     "text": [
      "C:\\Users\\zwiad\\AppData\\Local\\Temp\\ipykernel_3028\\3036951935.py:9: FutureWarning: Downcasting behavior in `replace` is deprecated and will be removed in a future version. To retain the old behavior, explicitly call `result.infer_objects(copy=False)`. To opt-in to the future behavior, set `pd.set_option('future.no_silent_downcasting', True)`\n",
      "  df['Vote'] = df['Vote'].replace({'+': 1, '-': 0,\"_\":0})\n"
     ]
    }
   ],
   "execution_count": 22
  },
  {
   "metadata": {
    "ExecuteTime": {
     "end_time": "2024-06-04T09:20:07.371419Z",
     "start_time": "2024-06-04T09:20:07.339250Z"
    }
   },
   "cell_type": "code",
   "source": "EP_8_votations.head()\n",
   "id": "d230fda0004f7df",
   "outputs": [
    {
     "data": {
      "text/plain": [
       "   VoteId       Date                                              Title  \\\n",
       "0       1 2014-07-16  Appointment of 4 members of the European Commi...   \n",
       "1       2 2014-07-16  Adoption by Lithuania of the euro on 1 January...   \n",
       "2       3 2014-07-16  Adoption by Lithuania of the euro on 1 January...   \n",
       "3       4 2014-07-16  Adoption by Lithuania of the euro on 1 January...   \n",
       "4       5 2014-07-16  Adoption by Lithuania of the euro on 1 January...   \n",
       "\n",
       "  Procedure Leg/Non-Leg/Bud                    TypeOfVote VotingRule  \\\n",
       "0       NaN             Non  Appointment of commissioners          s   \n",
       "1         *             Leg  Draft legislative resolution          s   \n",
       "2         *             Leg  Draft legislative resolution          s   \n",
       "3         *             Leg  Draft legislative resolution          s   \n",
       "4         *             Leg  Draft legislative resolution          s   \n",
       "\n",
       "  Rapporteur                                               Link  \\\n",
       "0        NaN  http://www.europarl.europa.eu/sides/getDoc.do?...   \n",
       "1     Langen  http://www.europarl.europa.eu/sides/getDoc.do?...   \n",
       "2     Langen  http://www.europarl.europa.eu/sides/getDoc.do?...   \n",
       "3     Langen  http://www.europarl.europa.eu/sides/getDoc.do?...   \n",
       "4     Langen  http://www.europarl.europa.eu/sides/getDoc.do?...   \n",
       "\n",
       "                        CommitteeResponsabile  \\\n",
       "0                                         NaN   \n",
       "1  Committee on Economic and Monetary Affairs   \n",
       "2  Committee on Economic and Monetary Affairs   \n",
       "3  Committee on Economic and Monetary Affairs   \n",
       "4  Committee on Economic and Monetary Affairs   \n",
       "\n",
       "                                          PolicyArea  \\\n",
       "0  \\n\\nConstitutional and inter-institutional aff...   \n",
       "1                        Economic & monetary affairs   \n",
       "2                        Economic & monetary affairs   \n",
       "3                        Economic & monetary affairs   \n",
       "4                        Economic & monetary affairs   \n",
       "\n",
       "                        Subject  FinalVote AmNo       Author  Vote  Yes   No  \\\n",
       "0                           NaN        1.0  NaN          NaN     1  421  170   \n",
       "1                   Paragraph 2        0.0    4      GUE/NGL     0  148  514   \n",
       "2             After paragraph 7        0.0    1  Greens/ EFA     0  137  525   \n",
       "3             After paragraph 7        0.0    3  Greens/ EFA     0   93  550   \n",
       "4  vote: legislative resolution        1.0  NaN          NaN     1  545  116   \n",
       "\n",
       "   Abs  \n",
       "0   32  \n",
       "1   10  \n",
       "2   19  \n",
       "3   40  \n",
       "4   34  "
      ],
      "text/html": [
       "<div>\n",
       "<style scoped>\n",
       "    .dataframe tbody tr th:only-of-type {\n",
       "        vertical-align: middle;\n",
       "    }\n",
       "\n",
       "    .dataframe tbody tr th {\n",
       "        vertical-align: top;\n",
       "    }\n",
       "\n",
       "    .dataframe thead th {\n",
       "        text-align: right;\n",
       "    }\n",
       "</style>\n",
       "<table border=\"1\" class=\"dataframe\">\n",
       "  <thead>\n",
       "    <tr style=\"text-align: right;\">\n",
       "      <th></th>\n",
       "      <th>VoteId</th>\n",
       "      <th>Date</th>\n",
       "      <th>Title</th>\n",
       "      <th>Procedure</th>\n",
       "      <th>Leg/Non-Leg/Bud</th>\n",
       "      <th>TypeOfVote</th>\n",
       "      <th>VotingRule</th>\n",
       "      <th>Rapporteur</th>\n",
       "      <th>Link</th>\n",
       "      <th>CommitteeResponsabile</th>\n",
       "      <th>PolicyArea</th>\n",
       "      <th>Subject</th>\n",
       "      <th>FinalVote</th>\n",
       "      <th>AmNo</th>\n",
       "      <th>Author</th>\n",
       "      <th>Vote</th>\n",
       "      <th>Yes</th>\n",
       "      <th>No</th>\n",
       "      <th>Abs</th>\n",
       "    </tr>\n",
       "  </thead>\n",
       "  <tbody>\n",
       "    <tr>\n",
       "      <th>0</th>\n",
       "      <td>1</td>\n",
       "      <td>2014-07-16</td>\n",
       "      <td>Appointment of 4 members of the European Commi...</td>\n",
       "      <td>NaN</td>\n",
       "      <td>Non</td>\n",
       "      <td>Appointment of commissioners</td>\n",
       "      <td>s</td>\n",
       "      <td>NaN</td>\n",
       "      <td>http://www.europarl.europa.eu/sides/getDoc.do?...</td>\n",
       "      <td>NaN</td>\n",
       "      <td>\\n\\nConstitutional and inter-institutional aff...</td>\n",
       "      <td>NaN</td>\n",
       "      <td>1.0</td>\n",
       "      <td>NaN</td>\n",
       "      <td>NaN</td>\n",
       "      <td>1</td>\n",
       "      <td>421</td>\n",
       "      <td>170</td>\n",
       "      <td>32</td>\n",
       "    </tr>\n",
       "    <tr>\n",
       "      <th>1</th>\n",
       "      <td>2</td>\n",
       "      <td>2014-07-16</td>\n",
       "      <td>Adoption by Lithuania of the euro on 1 January...</td>\n",
       "      <td>*</td>\n",
       "      <td>Leg</td>\n",
       "      <td>Draft legislative resolution</td>\n",
       "      <td>s</td>\n",
       "      <td>Langen</td>\n",
       "      <td>http://www.europarl.europa.eu/sides/getDoc.do?...</td>\n",
       "      <td>Committee on Economic and Monetary Affairs</td>\n",
       "      <td>Economic &amp; monetary affairs</td>\n",
       "      <td>Paragraph 2</td>\n",
       "      <td>0.0</td>\n",
       "      <td>4</td>\n",
       "      <td>GUE/NGL</td>\n",
       "      <td>0</td>\n",
       "      <td>148</td>\n",
       "      <td>514</td>\n",
       "      <td>10</td>\n",
       "    </tr>\n",
       "    <tr>\n",
       "      <th>2</th>\n",
       "      <td>3</td>\n",
       "      <td>2014-07-16</td>\n",
       "      <td>Adoption by Lithuania of the euro on 1 January...</td>\n",
       "      <td>*</td>\n",
       "      <td>Leg</td>\n",
       "      <td>Draft legislative resolution</td>\n",
       "      <td>s</td>\n",
       "      <td>Langen</td>\n",
       "      <td>http://www.europarl.europa.eu/sides/getDoc.do?...</td>\n",
       "      <td>Committee on Economic and Monetary Affairs</td>\n",
       "      <td>Economic &amp; monetary affairs</td>\n",
       "      <td>After paragraph 7</td>\n",
       "      <td>0.0</td>\n",
       "      <td>1</td>\n",
       "      <td>Greens/ EFA</td>\n",
       "      <td>0</td>\n",
       "      <td>137</td>\n",
       "      <td>525</td>\n",
       "      <td>19</td>\n",
       "    </tr>\n",
       "    <tr>\n",
       "      <th>3</th>\n",
       "      <td>4</td>\n",
       "      <td>2014-07-16</td>\n",
       "      <td>Adoption by Lithuania of the euro on 1 January...</td>\n",
       "      <td>*</td>\n",
       "      <td>Leg</td>\n",
       "      <td>Draft legislative resolution</td>\n",
       "      <td>s</td>\n",
       "      <td>Langen</td>\n",
       "      <td>http://www.europarl.europa.eu/sides/getDoc.do?...</td>\n",
       "      <td>Committee on Economic and Monetary Affairs</td>\n",
       "      <td>Economic &amp; monetary affairs</td>\n",
       "      <td>After paragraph 7</td>\n",
       "      <td>0.0</td>\n",
       "      <td>3</td>\n",
       "      <td>Greens/ EFA</td>\n",
       "      <td>0</td>\n",
       "      <td>93</td>\n",
       "      <td>550</td>\n",
       "      <td>40</td>\n",
       "    </tr>\n",
       "    <tr>\n",
       "      <th>4</th>\n",
       "      <td>5</td>\n",
       "      <td>2014-07-16</td>\n",
       "      <td>Adoption by Lithuania of the euro on 1 January...</td>\n",
       "      <td>*</td>\n",
       "      <td>Leg</td>\n",
       "      <td>Draft legislative resolution</td>\n",
       "      <td>s</td>\n",
       "      <td>Langen</td>\n",
       "      <td>http://www.europarl.europa.eu/sides/getDoc.do?...</td>\n",
       "      <td>Committee on Economic and Monetary Affairs</td>\n",
       "      <td>Economic &amp; monetary affairs</td>\n",
       "      <td>vote: legislative resolution</td>\n",
       "      <td>1.0</td>\n",
       "      <td>NaN</td>\n",
       "      <td>NaN</td>\n",
       "      <td>1</td>\n",
       "      <td>545</td>\n",
       "      <td>116</td>\n",
       "      <td>34</td>\n",
       "    </tr>\n",
       "  </tbody>\n",
       "</table>\n",
       "</div>"
      ]
     },
     "execution_count": 23,
     "metadata": {},
     "output_type": "execute_result"
    }
   ],
   "execution_count": 23
  },
  {
   "metadata": {},
   "cell_type": "markdown",
   "source": "Checking and fixing the datatypes\n",
   "id": "b1dac66b0d9549cf"
  },
  {
   "metadata": {
    "ExecuteTime": {
     "end_time": "2024-06-04T09:20:07.394976Z",
     "start_time": "2024-06-04T09:20:07.372223Z"
    }
   },
   "cell_type": "code",
   "source": "EP_8_votations.dtypes\n",
   "id": "391bba4cf2e43903",
   "outputs": [
    {
     "data": {
      "text/plain": [
       "VoteId                            int64\n",
       "Date                     datetime64[ns]\n",
       "Title                            object\n",
       "Procedure                        object\n",
       "Leg/Non-Leg/Bud                  object\n",
       "TypeOfVote                       object\n",
       "VotingRule                       object\n",
       "Rapporteur                       object\n",
       "Link                             object\n",
       "CommitteeResponsabile            object\n",
       "PolicyArea                       object\n",
       "Subject                          object\n",
       "FinalVote                       float64\n",
       "AmNo                             object\n",
       "Author                           object\n",
       "Vote                              int64\n",
       "Yes                               int64\n",
       "No                                int64\n",
       "Abs                               int64\n",
       "dtype: object"
      ]
     },
     "execution_count": 24,
     "metadata": {},
     "output_type": "execute_result"
    }
   ],
   "execution_count": 24
  },
  {
   "metadata": {
    "ExecuteTime": {
     "end_time": "2024-06-04T09:20:07.430925Z",
     "start_time": "2024-06-04T09:20:07.394976Z"
    }
   },
   "cell_type": "code",
   "source": "EP_8_votations.FinalVote = EP_8_votations['FinalVote'].astype('Int64')",
   "id": "395d703a22933f1f",
   "outputs": [],
   "execution_count": 25
  },
  {
   "metadata": {
    "ExecuteTime": {
     "end_time": "2024-06-04T09:20:07.465501Z",
     "start_time": "2024-06-04T09:20:07.430925Z"
    }
   },
   "cell_type": "code",
   "source": "EP_8_votations.Vote = EP_8_votations['Vote'].astype('Int64')",
   "id": "1d658cc1f4a57e46",
   "outputs": [],
   "execution_count": 26
  },
  {
   "metadata": {},
   "cell_type": "markdown",
   "source": "Renaming EPG groups to fit the API convention\n",
   "id": "40d7647941aa1add"
  },
  {
   "metadata": {
    "ExecuteTime": {
     "end_time": "2024-06-04T09:20:07.473301Z",
     "start_time": "2024-06-04T09:20:07.465501Z"
    }
   },
   "cell_type": "code",
   "source": "EP_8_votes_fixed_names.EPG.value_counts()",
   "id": "665be290d0bdcf4e",
   "outputs": [
    {
     "data": {
      "text/plain": [
       "EPG\n",
       "Group of the European People's Party (Christian Democrats)                                  219\n",
       "Group of the Progressive Alliance of Socialists and Democrats in the European Parliament    188\n",
       "European Conservatives and Reformists Group                                                  73\n",
       "Group of the Alliance of Liberals and Democrats for Europe                                   68\n",
       "Group of the Greens/European Free Alliance                                                   52\n",
       "Confederal Group of the European United Left - Nordic Green Left                             51\n",
       "Europe of Freedom and Direct Democracy Group                                                 42\n",
       "Europe of Nations and Freedom Group                                                          35\n",
       "Non-attached Members                                                                         23\n",
       "Name: count, dtype: int64"
      ]
     },
     "execution_count": 27,
     "metadata": {},
     "output_type": "execute_result"
    }
   ],
   "execution_count": 27
  },
  {
   "metadata": {
    "ExecuteTime": {
     "end_time": "2024-06-04T09:20:07.501698Z",
     "start_time": "2024-06-04T09:20:07.473301Z"
    }
   },
   "cell_type": "code",
   "source": [
    "EPG_rename_dict = {\n",
    "    \"Group of the European People's Party (Christian Democrats)\":\"EPP\",\n",
    "    \"Group of the Progressive Alliance of Socialists and Democrats in the European Parliament\":\"S&D\",\n",
    "    \"Group of the Alliance of Liberals and Democrats for Europe\":\"ALDE\",\n",
    "    \"European Conservatives and Reformists Group\":\"ECR\",\n",
    "    \"Confederal Group of the European United Left - Nordic Green Left\":\"GUE–NGL\",\n",
    "    \"Group of the Greens/European Free Alliance\":\"Greens–EFA\",\n",
    "    \"Non-attached Members\":\"NI\",  \n",
    "    \"Europe of Freedom and Direct Democracy Group\":\"EFDD\",\n",
    "    \"Europe of Nations and Freedom Group\":\"ENFF\"\n",
    "}"
   ],
   "id": "8dddf70b12890858",
   "outputs": [],
   "execution_count": 28
  },
  {
   "metadata": {},
   "cell_type": "markdown",
   "source": "",
   "id": "3e92d9bd4897d756"
  },
  {
   "metadata": {
    "ExecuteTime": {
     "end_time": "2024-06-04T09:20:07.536047Z",
     "start_time": "2024-06-04T09:20:07.501698Z"
    }
   },
   "cell_type": "code",
   "source": "EP_8_votes_fixed_names.EPG = EP_8_votes_fixed_names.EPG.replace(EPG_rename_dict,regex=False)",
   "id": "fba5d5758e1e94b5",
   "outputs": [],
   "execution_count": 29
  },
  {
   "metadata": {
    "ExecuteTime": {
     "end_time": "2024-06-04T09:20:07.569024Z",
     "start_time": "2024-06-04T09:20:07.536047Z"
    }
   },
   "cell_type": "code",
   "source": "EP_8_votes_fixed_names.EPG.value_counts()",
   "id": "e1bdaae100c3e058",
   "outputs": [
    {
     "data": {
      "text/plain": [
       "EPG\n",
       "EPP           219\n",
       "S&D           188\n",
       "ECR            73\n",
       "ALDE           68\n",
       "Greens–EFA     52\n",
       "GUE–NGL        51\n",
       "EFDD           42\n",
       "ENFF           35\n",
       "NI             23\n",
       "Name: count, dtype: int64"
      ]
     },
     "execution_count": 30,
     "metadata": {},
     "output_type": "execute_result"
    }
   ],
   "execution_count": 30
  },
  {
   "metadata": {},
   "cell_type": "markdown",
   "source": "Creating a list to filter the non,observation columns from Votes\n",
   "id": "a1b108d1a21c72fb"
  },
  {
   "metadata": {
    "ExecuteTime": {
     "end_time": "2024-06-04T09:20:07.604042Z",
     "start_time": "2024-06-04T09:20:07.569024Z"
    }
   },
   "cell_type": "code",
   "source": [
    "filtered_list = ['MepId',\n",
    " 'Fname',\n",
    " 'Lname',\n",
    " 'FullName',\n",
    " 'Activ',\n",
    " 'Country',\n",
    " 'Party',\n",
    " 'EPG',\n",
    " 'Start',\n",
    " 'End']"
   ],
   "id": "d89bc4401816510a",
   "outputs": [],
   "execution_count": 31
  },
  {
   "metadata": {},
   "cell_type": "markdown",
   "source": "Melting votes into long format\n",
   "id": "404479173ab9ef7b"
  },
  {
   "metadata": {
    "ExecuteTime": {
     "end_time": "2024-06-04T09:20:08.846049Z",
     "start_time": "2024-06-04T09:20:07.604042Z"
    }
   },
   "cell_type": "code",
   "source": [
    "mep_info = EP_8_votes_fixed_names[filtered_list]\n",
    "vote_columns = [col for col in EP_8_votes_fixed_names.columns if col not in filtered_list]\n",
    "melted_votes = pd.melt(EP_8_votes_fixed_names, id_vars='MepId', value_vars=vote_columns, var_name='VoteId', value_name='Vote')\n"
   ],
   "id": "ca534abfe7b76b5",
   "outputs": [],
   "execution_count": 32
  },
  {
   "metadata": {
    "ExecuteTime": {
     "end_time": "2024-06-04T09:21:41.540064Z",
     "start_time": "2024-06-04T09:21:28.857497Z"
    }
   },
   "cell_type": "code",
   "source": [
    "epg_df = hf.get_epgs()\n",
    "party_df = hf.get_parties()\n",
    "ep_df = hf.generate_ep_df(9)\n",
    "org_df = pd.concat([epg_df, party_df, ep_df], ignore_index=True)"
   ],
   "id": "869d5766f2d8ce06",
   "outputs": [],
   "execution_count": 33
  },
  {
   "metadata": {
    "ExecuteTime": {
     "end_time": "2024-06-04T09:22:59.946976Z",
     "start_time": "2024-06-04T09:21:41.540064Z"
    }
   },
   "cell_type": "code",
   "source": "memberships_df = hf.get_memberships_df(mep_info,org_df)\n",
   "id": "91a1cd12d6663e2e",
   "outputs": [
    {
     "name": "stdout",
     "output_type": "stream",
     "text": [
      "Error fetching data from URL: https://data.europarl.europa.eu/api/v2/meps/97170?format=application%2Fld%2Bjson - 403 Client Error: Forbidden for url: https://data.europarl.europa.eu/api/v2/meps/97170?format=application%2Fld%2Bjson\n",
      "Error fetching data from URL: https://data.europarl.europa.eu/api/v2/meps/125064?format=application%2Fld%2Bjson - 403 Client Error: Forbidden for url: https://data.europarl.europa.eu/api/v2/meps/125064?format=application%2Fld%2Bjson\n",
      "Error fetching data from URL: https://data.europarl.europa.eu/api/v2/meps/4751?format=application%2Fld%2Bjson - 403 Client Error: Forbidden for url: https://data.europarl.europa.eu/api/v2/meps/4751?format=application%2Fld%2Bjson\n",
      "Error fetching data from URL: https://data.europarl.europa.eu/api/v2/meps/124852?format=application%2Fld%2Bjson - 403 Client Error: Forbidden for url: https://data.europarl.europa.eu/api/v2/meps/124852?format=application%2Fld%2Bjson\n",
      "Error fetching data from URL: https://data.europarl.europa.eu/api/v2/meps/124827?format=application%2Fld%2Bjson - 403 Client Error: Forbidden for url: https://data.europarl.europa.eu/api/v2/meps/124827?format=application%2Fld%2Bjson\n",
      "Error fetching data from URL: https://data.europarl.europa.eu/api/v2/meps/96831?format=application%2Fld%2Bjson - 403 Client Error: Forbidden for url: https://data.europarl.europa.eu/api/v2/meps/96831?format=application%2Fld%2Bjson\n",
      "Error fetching data from URL: https://data.europarl.europa.eu/api/v2/meps/124929?format=application%2Fld%2Bjson - 403 Client Error: Forbidden for url: https://data.europarl.europa.eu/api/v2/meps/124929?format=application%2Fld%2Bjson\n",
      "Error fetching data from URL: https://data.europarl.europa.eu/api/v2/meps/124702?format=application%2Fld%2Bjson - 403 Client Error: Forbidden for url: https://data.europarl.europa.eu/api/v2/meps/124702?format=application%2Fld%2Bjson\n",
      "Error fetching data from URL: https://data.europarl.europa.eu/api/v2/meps/125105?format=application%2Fld%2Bjson - 403 Client Error: Forbidden for url: https://data.europarl.europa.eu/api/v2/meps/125105?format=application%2Fld%2Bjson\n",
      "Error fetching data from URL: https://data.europarl.europa.eu/api/v2/meps/119435?format=application%2Fld%2Bjson - 403 Client Error: Forbidden for url: https://data.europarl.europa.eu/api/v2/meps/119435?format=application%2Fld%2Bjson\n",
      "Error fetching data from URL: https://data.europarl.europa.eu/api/v2/meps/4545?format=application%2Fld%2Bjson - 403 Client Error: Forbidden for url: https://data.europarl.europa.eu/api/v2/meps/4545?format=application%2Fld%2Bjson\n",
      "Error fetching data from URL: https://data.europarl.europa.eu/api/v2/meps/39721?format=application%2Fld%2Bjson - 403 Client Error: Forbidden for url: https://data.europarl.europa.eu/api/v2/meps/39721?format=application%2Fld%2Bjson\n",
      "Error fetching data from URL: https://data.europarl.europa.eu/api/v2/meps/125028?format=application%2Fld%2Bjson - 403 Client Error: Forbidden for url: https://data.europarl.europa.eu/api/v2/meps/125028?format=application%2Fld%2Bjson\n",
      "Error fetching data from URL: https://data.europarl.europa.eu/api/v2/meps/124688?format=application%2Fld%2Bjson - 403 Client Error: Forbidden for url: https://data.europarl.europa.eu/api/v2/meps/124688?format=application%2Fld%2Bjson\n",
      "Error fetching data from URL: https://data.europarl.europa.eu/api/v2/meps/124928?format=application%2Fld%2Bjson - 403 Client Error: Forbidden for url: https://data.europarl.europa.eu/api/v2/meps/124928?format=application%2Fld%2Bjson\n",
      "Error fetching data from URL: https://data.europarl.europa.eu/api/v2/meps/124825?format=application%2Fld%2Bjson - 403 Client Error: Forbidden for url: https://data.europarl.europa.eu/api/v2/meps/124825?format=application%2Fld%2Bjson\n",
      "Error fetching data from URL: https://data.europarl.europa.eu/api/v2/meps/125103?format=application%2Fld%2Bjson - 403 Client Error: Forbidden for url: https://data.europarl.europa.eu/api/v2/meps/125103?format=application%2Fld%2Bjson\n",
      "Error fetching data from URL: https://data.europarl.europa.eu/api/v2/meps/125072?format=application%2Fld%2Bjson - 403 Client Error: Forbidden for url: https://data.europarl.europa.eu/api/v2/meps/125072?format=application%2Fld%2Bjson\n",
      "Error fetching data from URL: https://data.europarl.europa.eu/api/v2/meps/119434?format=application%2Fld%2Bjson - 403 Client Error: Forbidden for url: https://data.europarl.europa.eu/api/v2/meps/119434?format=application%2Fld%2Bjson\n",
      "Error fetching data from URL: https://data.europarl.europa.eu/api/v2/meps/124689?format=application%2Fld%2Bjson - 403 Client Error: Forbidden for url: https://data.europarl.europa.eu/api/v2/meps/124689?format=application%2Fld%2Bjson\n",
      "Error fetching data from URL: https://data.europarl.europa.eu/api/v2/meps/96920?format=application%2Fld%2Bjson - 403 Client Error: Forbidden for url: https://data.europarl.europa.eu/api/v2/meps/96920?format=application%2Fld%2Bjson\n",
      "Error fetching data from URL: https://data.europarl.europa.eu/api/v2/meps/96272?format=application%2Fld%2Bjson - 403 Client Error: Forbidden for url: https://data.europarl.europa.eu/api/v2/meps/96272?format=application%2Fld%2Bjson\n",
      "Error fetching data from URL: https://data.europarl.europa.eu/api/v2/meps/23821?format=application%2Fld%2Bjson - 403 Client Error: Forbidden for url: https://data.europarl.europa.eu/api/v2/meps/23821?format=application%2Fld%2Bjson\n",
      "Error fetching data from URL: https://data.europarl.europa.eu/api/v2/meps/125020?format=application%2Fld%2Bjson - 403 Client Error: Forbidden for url: https://data.europarl.europa.eu/api/v2/meps/125020?format=application%2Fld%2BjsonError fetching data from URL: https://data.europarl.europa.eu/api/v2/meps/2187?format=application%2Fld%2Bjson - 403 Client Error: Forbidden for url: https://data.europarl.europa.eu/api/v2/meps/2187?format=application%2Fld%2Bjson\n",
      "\n",
      "Error fetching data from URL: https://data.europarl.europa.eu/api/v2/meps/124890?format=application%2Fld%2Bjson - 403 Client Error: Forbidden for url: https://data.europarl.europa.eu/api/v2/meps/124890?format=application%2Fld%2Bjson\n",
      "Error fetching data from URL: https://data.europarl.europa.eu/api/v2/meps/124703?format=application%2Fld%2Bjson - 403 Client Error: Forbidden for url: https://data.europarl.europa.eu/api/v2/meps/124703?format=application%2Fld%2Bjson\n",
      "Error fetching data from URL: https://data.europarl.europa.eu/api/v2/meps/96847?format=application%2Fld%2Bjson - 403 Client Error: Forbidden for url: https://data.europarl.europa.eu/api/v2/meps/96847?format=application%2Fld%2Bjson\n",
      "Error fetching data from URL: https://data.europarl.europa.eu/api/v2/meps/4521?format=application%2Fld%2Bjson - 403 Client Error: Forbidden for url: https://data.europarl.europa.eu/api/v2/meps/4521?format=application%2Fld%2Bjson\n",
      "Error fetching data from URL: https://data.europarl.europa.eu/api/v2/meps/124813?format=application%2Fld%2Bjson - 403 Client Error: Forbidden for url: https://data.europarl.europa.eu/api/v2/meps/124813?format=application%2Fld%2Bjson\n",
      "Error fetching data from URL: https://data.europarl.europa.eu/api/v2/meps/124793?format=application%2Fld%2Bjson - 403 Client Error: Forbidden for url: https://data.europarl.europa.eu/api/v2/meps/124793?format=application%2Fld%2Bjson\n",
      "Error fetching data from URL: https://data.europarl.europa.eu/api/v2/meps/97136?format=application%2Fld%2Bjson - 403 Client Error: Forbidden for url: https://data.europarl.europa.eu/api/v2/meps/97136?format=application%2Fld%2Bjson\n",
      "Error fetching data from URL: https://data.europarl.europa.eu/api/v2/meps/29579?format=application%2Fld%2Bjson - 403 Client Error: Forbidden for url: https://data.europarl.europa.eu/api/v2/meps/29579?format=application%2Fld%2Bjson\n",
      "Error fetching data from URL: https://data.europarl.europa.eu/api/v2/meps/124706?format=application%2Fld%2Bjson - 403 Client Error: Forbidden for url: https://data.europarl.europa.eu/api/v2/meps/124706?format=application%2Fld%2Bjson\n",
      "Error fetching data from URL: https://data.europarl.europa.eu/api/v2/meps/102931?format=application%2Fld%2Bjson - 403 Client Error: Forbidden for url: https://data.europarl.europa.eu/api/v2/meps/102931?format=application%2Fld%2Bjson\n",
      "Error fetching data from URL: https://data.europarl.europa.eu/api/v2/meps/107385?format=application%2Fld%2Bjson - 403 Client Error: Forbidden for url: https://data.europarl.europa.eu/api/v2/meps/107385?format=application%2Fld%2Bjson\n",
      "Error fetching data from URL: https://data.europarl.europa.eu/api/v2/meps/124932?format=application%2Fld%2Bjson - 403 Client Error: Forbidden for url: https://data.europarl.europa.eu/api/v2/meps/124932?format=application%2Fld%2Bjson\n",
      "Error fetching data from URL: https://data.europarl.europa.eu/api/v2/meps/25704?format=application%2Fld%2Bjson - 403 Client Error: Forbidden for url: https://data.europarl.europa.eu/api/v2/meps/25704?format=application%2Fld%2Bjson\n",
      "Error fetching data from URL: https://data.europarl.europa.eu/api/v2/meps/96871?format=application%2Fld%2Bjson - 403 Client Error: Forbidden for url: https://data.europarl.europa.eu/api/v2/meps/96871?format=application%2Fld%2Bjson\n",
      "Error fetching data from URL: https://data.europarl.europa.eu/api/v2/meps/114279?format=application%2Fld%2Bjson - 403 Client Error: Forbidden for url: https://data.europarl.europa.eu/api/v2/meps/114279?format=application%2Fld%2Bjson\n",
      "Error fetching data from URL: https://data.europarl.europa.eu/api/v2/meps/39726?format=application%2Fld%2Bjson - 403 Client Error: Forbidden for url: https://data.europarl.europa.eu/api/v2/meps/39726?format=application%2Fld%2Bjson\n",
      "Error fetching data from URL: https://data.europarl.europa.eu/api/v2/meps/96776?format=application%2Fld%2Bjson - 403 Client Error: Forbidden for url: https://data.europarl.europa.eu/api/v2/meps/96776?format=application%2Fld%2Bjson\n",
      "Error fetching data from URL: https://data.europarl.europa.eu/api/v2/meps/1832?format=application%2Fld%2Bjson - 403 Client Error: Forbidden for url: https://data.europarl.europa.eu/api/v2/meps/1832?format=application%2Fld%2Bjson\n",
      "Error fetching data from URL: https://data.europarl.europa.eu/api/v2/meps/28340?format=application%2Fld%2Bjson - 403 Client Error: Forbidden for url: https://data.europarl.europa.eu/api/v2/meps/28340?format=application%2Fld%2Bjson\n",
      "Error fetching data from URL: https://data.europarl.europa.eu/api/v2/meps/124880?format=application%2Fld%2Bjson - 403 Client Error: Forbidden for url: https://data.europarl.europa.eu/api/v2/meps/124880?format=application%2Fld%2Bjson\n",
      "Error fetching data from URL: https://data.europarl.europa.eu/api/v2/meps/96697?format=application%2Fld%2Bjson - 403 Client Error: Forbidden for url: https://data.europarl.europa.eu/api/v2/meps/96697?format=application%2Fld%2Bjson\n",
      "Error fetching data from URL: https://data.europarl.europa.eu/api/v2/meps/119431?format=application%2Fld%2Bjson - 403 Client Error: Forbidden for url: https://data.europarl.europa.eu/api/v2/meps/119431?format=application%2Fld%2Bjson\n",
      "Error fetching data from URL: https://data.europarl.europa.eu/api/v2/meps/125104?format=application%2Fld%2Bjson - 403 Client Error: Forbidden for url: https://data.europarl.europa.eu/api/v2/meps/125104?format=application%2Fld%2Bjson\n",
      "Error fetching data from URL: https://data.europarl.europa.eu/api/v2/meps/124700?format=application%2Fld%2Bjson - 403 Client Error: Forbidden for url: https://data.europarl.europa.eu/api/v2/meps/124700?format=application%2Fld%2Bjson\n",
      "Error fetching data from URL: https://data.europarl.europa.eu/api/v2/meps/124764?format=application%2Fld%2Bjson - 403 Client Error: Forbidden for url: https://data.europarl.europa.eu/api/v2/meps/124764?format=application%2Fld%2Bjson\n",
      "Error fetching data from URL: https://data.europarl.europa.eu/api/v2/meps/114268?format=application%2Fld%2Bjson - 403 Client Error: Forbidden for url: https://data.europarl.europa.eu/api/v2/meps/114268?format=application%2Fld%2Bjson\n",
      "Error fetching data from URL: https://data.europarl.europa.eu/api/v2/meps/124829?format=application%2Fld%2Bjson - 403 Client Error: Forbidden for url: https://data.europarl.europa.eu/api/v2/meps/124829?format=application%2Fld%2Bjson\n",
      "Error fetching data from URL: https://data.europarl.europa.eu/api/v2/meps/96713?format=application%2Fld%2Bjson - 403 Client Error: Forbidden for url: https://data.europarl.europa.eu/api/v2/meps/96713?format=application%2Fld%2Bjson\n",
      "Error fetching data from URL: https://data.europarl.europa.eu/api/v2/meps/97203?format=application%2Fld%2Bjson - 403 Client Error: Forbidden for url: https://data.europarl.europa.eu/api/v2/meps/97203?format=application%2Fld%2Bjson\n",
      "Error fetching data from URL: https://data.europarl.europa.eu/api/v2/meps/124758?format=application%2Fld%2Bjson - 403 Client Error: Forbidden for url: https://data.europarl.europa.eu/api/v2/meps/124758?format=application%2Fld%2Bjson\n",
      "Error fetching data from URL: https://data.europarl.europa.eu/api/v2/meps/23791?format=application%2Fld%2Bjson - 403 Client Error: Forbidden for url: https://data.europarl.europa.eu/api/v2/meps/23791?format=application%2Fld%2Bjson\n",
      "Error fetching data from URL: https://data.europarl.europa.eu/api/v2/meps/28240?format=application%2Fld%2Bjson - 403 Client Error: Forbidden for url: https://data.europarl.europa.eu/api/v2/meps/28240?format=application%2Fld%2Bjson\n",
      "Error fetching data from URL: https://data.europarl.europa.eu/api/v2/meps/4432?format=application%2Fld%2Bjson - 403 Client Error: Forbidden for url: https://data.europarl.europa.eu/api/v2/meps/4432?format=application%2Fld%2Bjson\n",
      "Error fetching data from URL: https://data.europarl.europa.eu/api/v2/meps/96835?format=application%2Fld%2Bjson - 403 Client Error: Forbidden for url: https://data.europarl.europa.eu/api/v2/meps/96835?format=application%2Fld%2BjsonError fetching data from URL: https://data.europarl.europa.eu/api/v2/meps/124705?format=application%2Fld%2Bjson - 403 Client Error: Forbidden for url: https://data.europarl.europa.eu/api/v2/meps/124705?format=application%2Fld%2Bjson\n",
      "\n",
      "Error fetching data from URL: https://data.europarl.europa.eu/api/v2/meps/96672?format=application%2Fld%2Bjson - 403 Client Error: Forbidden for url: https://data.europarl.europa.eu/api/v2/meps/96672?format=application%2Fld%2Bjson\n",
      "Error fetching data from URL: https://data.europarl.europa.eu/api/v2/meps/97019?format=application%2Fld%2Bjson - 403 Client Error: Forbidden for url: https://data.europarl.europa.eu/api/v2/meps/97019?format=application%2Fld%2Bjson\n",
      "Error fetching data from URL: https://data.europarl.europa.eu/api/v2/meps/96698?format=application%2Fld%2Bjson - 403 Client Error: Forbidden for url: https://data.europarl.europa.eu/api/v2/meps/96698?format=application%2Fld%2Bjson\n",
      "Error fetching data from URL: https://data.europarl.europa.eu/api/v2/meps/124972?format=application%2Fld%2Bjson - 403 Client Error: Forbidden for url: https://data.europarl.europa.eu/api/v2/meps/124972?format=application%2Fld%2Bjson\n",
      "Error fetching data from URL: https://data.europarl.europa.eu/api/v2/meps/38601?format=application%2Fld%2Bjson - 403 Client Error: Forbidden for url: https://data.europarl.europa.eu/api/v2/meps/38601?format=application%2Fld%2Bjson\n",
      "Error fetching data from URL: https://data.europarl.europa.eu/api/v2/meps/125032?format=application%2Fld%2Bjson - 403 Client Error: Forbidden for url: https://data.europarl.europa.eu/api/v2/meps/125032?format=application%2Fld%2Bjson\n",
      "Error fetching data from URL: https://data.europarl.europa.eu/api/v2/meps/4334?format=application%2Fld%2Bjson - 403 Client Error: Forbidden for url: https://data.europarl.europa.eu/api/v2/meps/4334?format=application%2Fld%2Bjson\n",
      "Error fetching data from URL: https://data.europarl.europa.eu/api/v2/meps/125050?format=application%2Fld%2Bjson - 403 Client Error: Forbidden for url: https://data.europarl.europa.eu/api/v2/meps/125050?format=application%2Fld%2Bjson\n",
      "Error fetching data from URL: https://data.europarl.europa.eu/api/v2/meps/5729?format=application%2Fld%2Bjson - 403 Client Error: Forbidden for url: https://data.europarl.europa.eu/api/v2/meps/5729?format=application%2Fld%2Bjson\n",
      "Error fetching data from URL: https://data.europarl.europa.eu/api/v2/meps/37324?format=application%2Fld%2Bjson - 403 Client Error: Forbidden for url: https://data.europarl.europa.eu/api/v2/meps/37324?format=application%2Fld%2Bjson\n",
      "Error fetching data from URL: https://data.europarl.europa.eu/api/v2/meps/125106?format=application%2Fld%2Bjson - 403 Client Error: Forbidden for url: https://data.europarl.europa.eu/api/v2/meps/125106?format=application%2Fld%2Bjson\n",
      "Error fetching data from URL: https://data.europarl.europa.eu/api/v2/meps/124778?format=application%2Fld%2Bjson - 403 Client Error: Forbidden for url: https://data.europarl.europa.eu/api/v2/meps/124778?format=application%2Fld%2Bjson\n",
      "Error fetching data from URL: https://data.europarl.europa.eu/api/v2/meps/96918?format=application%2Fld%2Bjson - 403 Client Error: Forbidden for url: https://data.europarl.europa.eu/api/v2/meps/96918?format=application%2Fld%2Bjson\n",
      "Error fetching data from URL: https://data.europarl.europa.eu/api/v2/meps/124934?format=application%2Fld%2Bjson - 403 Client Error: Forbidden for url: https://data.europarl.europa.eu/api/v2/meps/124934?format=application%2Fld%2Bjson\n",
      "Error fetching data from URL: https://data.europarl.europa.eu/api/v2/meps/4513?format=application%2Fld%2Bjson - 403 Client Error: Forbidden for url: https://data.europarl.europa.eu/api/v2/meps/4513?format=application%2Fld%2Bjson\n",
      "Error fetching data from URL: https://data.europarl.europa.eu/api/v2/meps/2128?format=application%2Fld%2Bjson - 403 Client Error: Forbidden for url: https://data.europarl.europa.eu/api/v2/meps/2128?format=application%2Fld%2Bjson\n",
      "Error fetching data from URL: https://data.europarl.europa.eu/api/v2/meps/96756?format=application%2Fld%2Bjson - 403 Client Error: Forbidden for url: https://data.europarl.europa.eu/api/v2/meps/96756?format=application%2Fld%2Bjson\n",
      "Error fetching data from URL: https://data.europarl.europa.eu/api/v2/meps/97058?format=application%2Fld%2Bjson - 403 Client Error: Forbidden for url: https://data.europarl.europa.eu/api/v2/meps/97058?format=application%2Fld%2Bjson\n",
      "Error fetching data from URL: https://data.europarl.europa.eu/api/v2/meps/96858?format=application%2Fld%2Bjson - 403 Client Error: Forbidden for url: https://data.europarl.europa.eu/api/v2/meps/96858?format=application%2Fld%2Bjson\n",
      "Error fetching data from URL: https://data.europarl.europa.eu/api/v2/meps/125100?format=application%2Fld%2Bjson - 403 Client Error: Forbidden for url: https://data.europarl.europa.eu/api/v2/meps/125100?format=application%2Fld%2Bjson\n",
      "Error fetching data from URL: https://data.europarl.europa.eu/api/v2/meps/124791?format=application%2Fld%2Bjson - 403 Client Error: Forbidden for url: https://data.europarl.europa.eu/api/v2/meps/124791?format=application%2Fld%2Bjson\n",
      "Error fetching data from URL: https://data.europarl.europa.eu/api/v2/meps/125001?format=application%2Fld%2Bjson - 403 Client Error: Forbidden for url: https://data.europarl.europa.eu/api/v2/meps/125001?format=application%2Fld%2Bjson\n",
      "Error fetching data from URL: https://data.europarl.europa.eu/api/v2/meps/124726?format=application%2Fld%2Bjson - 403 Client Error: Forbidden for url: https://data.europarl.europa.eu/api/v2/meps/124726?format=application%2Fld%2Bjson\n",
      "Error fetching data from URL: https://data.europarl.europa.eu/api/v2/meps/124832?format=application%2Fld%2Bjson - 403 Client Error: Forbidden for url: https://data.europarl.europa.eu/api/v2/meps/124832?format=application%2Fld%2Bjson\n",
      "Error fetching data from URL: https://data.europarl.europa.eu/api/v2/meps/96774?format=application%2Fld%2Bjson - 403 Client Error: Forbidden for url: https://data.europarl.europa.eu/api/v2/meps/96774?format=application%2Fld%2Bjson\n",
      "Error fetching data from URL: https://data.europarl.europa.eu/api/v2/meps/39713?format=application%2Fld%2Bjson - 403 Client Error: Forbidden for url: https://data.europarl.europa.eu/api/v2/meps/39713?format=application%2Fld%2Bjson\n",
      "Error fetching data from URL: https://data.europarl.europa.eu/api/v2/meps/124963?format=application%2Fld%2Bjson - 403 Client Error: Forbidden for url: https://data.europarl.europa.eu/api/v2/meps/124963?format=application%2Fld%2Bjson\n",
      "Error fetching data from URL: https://data.europarl.europa.eu/api/v2/meps/96761?format=application%2Fld%2Bjson - 403 Client Error: Forbidden for url: https://data.europarl.europa.eu/api/v2/meps/96761?format=application%2Fld%2Bjson\n",
      "Error fetching data from URL: https://data.europarl.europa.eu/api/v2/meps/124875?format=application%2Fld%2Bjson - 403 Client Error: Forbidden for url: https://data.europarl.europa.eu/api/v2/meps/124875?format=application%2Fld%2Bjson\n",
      "Error fetching data from URL: https://data.europarl.europa.eu/api/v2/meps/28229?format=application%2Fld%2Bjson - 403 Client Error: Forbidden for url: https://data.europarl.europa.eu/api/v2/meps/28229?format=application%2Fld%2Bjson\n",
      "Error fetching data from URL: https://data.europarl.europa.eu/api/v2/meps/124840?format=application%2Fld%2Bjson - 403 Client Error: Forbidden for url: https://data.europarl.europa.eu/api/v2/meps/124840?format=application%2Fld%2Bjson\n",
      "Error fetching data from URL: https://data.europarl.europa.eu/api/v2/meps/125065?format=application%2Fld%2Bjson - 403 Client Error: Forbidden for url: https://data.europarl.europa.eu/api/v2/meps/125065?format=application%2Fld%2Bjson\n",
      "Error fetching data from URL: https://data.europarl.europa.eu/api/v2/meps/111014?format=application%2Fld%2Bjson - 403 Client Error: Forbidden for url: https://data.europarl.europa.eu/api/v2/meps/111014?format=application%2Fld%2Bjson\n",
      "Error fetching data from URL: https://data.europarl.europa.eu/api/v2/meps/96839?format=application%2Fld%2Bjson - 403 Client Error: Forbidden for url: https://data.europarl.europa.eu/api/v2/meps/96839?format=application%2Fld%2Bjson\n",
      "Error fetching data from URL: https://data.europarl.europa.eu/api/v2/meps/124826?format=application%2Fld%2Bjson - 403 Client Error: Forbidden for url: https://data.europarl.europa.eu/api/v2/meps/124826?format=application%2Fld%2Bjson\n",
      "Error fetching data from URL: https://data.europarl.europa.eu/api/v2/meps/124903?format=application%2Fld%2Bjson - 403 Client Error: Forbidden for url: https://data.europarl.europa.eu/api/v2/meps/124903?format=application%2Fld%2Bjson\n",
      "Error fetching data from URL: https://data.europarl.europa.eu/api/v2/meps/96677?format=application%2Fld%2Bjson - 403 Client Error: Forbidden for url: https://data.europarl.europa.eu/api/v2/meps/96677?format=application%2Fld%2Bjson\n",
      "Error fetching data from URL: https://data.europarl.europa.eu/api/v2/meps/2323?format=application%2Fld%2Bjson - 403 Client Error: Forbidden for url: https://data.europarl.europa.eu/api/v2/meps/2323?format=application%2Fld%2Bjson\n",
      "Error fetching data from URL: https://data.europarl.europa.eu/api/v2/meps/35743?format=application%2Fld%2Bjson - 403 Client Error: Forbidden for url: https://data.europarl.europa.eu/api/v2/meps/35743?format=application%2Fld%2Bjson\n",
      "Error fetching data from URL: https://data.europarl.europa.eu/api/v2/meps/96764?format=application%2Fld%2Bjson - 403 Client Error: Forbidden for url: https://data.europarl.europa.eu/api/v2/meps/96764?format=application%2Fld%2Bjson\n",
      "Error fetching data from URL: https://data.europarl.europa.eu/api/v2/meps/39725?format=application%2Fld%2Bjson - 403 Client Error: Forbidden for url: https://data.europarl.europa.eu/api/v2/meps/39725?format=application%2Fld%2Bjson\n",
      "Error fetching data from URL: https://data.europarl.europa.eu/api/v2/meps/124995?format=application%2Fld%2Bjson - 403 Client Error: Forbidden for url: https://data.europarl.europa.eu/api/v2/meps/124995?format=application%2Fld%2Bjson\n",
      "Error fetching data from URL: https://data.europarl.europa.eu/api/v2/meps/23894?format=application%2Fld%2Bjson - 403 Client Error: Forbidden for url: https://data.europarl.europa.eu/api/v2/meps/23894?format=application%2Fld%2Bjson\n",
      "Error fetching data from URL: https://data.europarl.europa.eu/api/v2/meps/124966?format=application%2Fld%2Bjson - 403 Client Error: Forbidden for url: https://data.europarl.europa.eu/api/v2/meps/124966?format=application%2Fld%2Bjson\n",
      "Error fetching data from URL: https://data.europarl.europa.eu/api/v2/meps/125067?format=application%2Fld%2Bjson - 403 Client Error: Forbidden for url: https://data.europarl.europa.eu/api/v2/meps/125067?format=application%2Fld%2Bjson\n",
      "Error fetching data from URL: https://data.europarl.europa.eu/api/v2/meps/124877?format=application%2Fld%2Bjson - 403 Client Error: Forbidden for url: https://data.europarl.europa.eu/api/v2/meps/124877?format=application%2Fld%2Bjson\n",
      "Error fetching data from URL: https://data.europarl.europa.eu/api/v2/meps/23784?format=application%2Fld%2Bjson - 403 Client Error: Forbidden for url: https://data.europarl.europa.eu/api/v2/meps/23784?format=application%2Fld%2Bjson\n",
      "Error fetching data from URL: https://data.europarl.europa.eu/api/v2/meps/23712?format=application%2Fld%2Bjson - 403 Client Error: Forbidden for url: https://data.europarl.europa.eu/api/v2/meps/23712?format=application%2Fld%2Bjson\n",
      "Error fetching data from URL: https://data.europarl.europa.eu/api/v2/meps/96763?format=application%2Fld%2Bjson - 403 Client Error: Forbidden for url: https://data.europarl.europa.eu/api/v2/meps/96763?format=application%2Fld%2Bjson\n",
      "Error fetching data from URL: https://data.europarl.europa.eu/api/v2/meps/96656?format=application%2Fld%2Bjson - 403 Client Error: Forbidden for url: https://data.europarl.europa.eu/api/v2/meps/96656?format=application%2Fld%2Bjson\n",
      "Error fetching data from URL: https://data.europarl.europa.eu/api/v2/meps/124780?format=application%2Fld%2Bjson - 403 Client Error: Forbidden for url: https://data.europarl.europa.eu/api/v2/meps/124780?format=application%2Fld%2Bjson\n",
      "Error fetching data from URL: https://data.europarl.europa.eu/api/v2/meps/124800?format=application%2Fld%2Bjson - 403 Client Error: Forbidden for url: https://data.europarl.europa.eu/api/v2/meps/124800?format=application%2Fld%2Bjson\n",
      "Error fetching data from URL: https://data.europarl.europa.eu/api/v2/meps/28619?format=application%2Fld%2Bjson - 403 Client Error: Forbidden for url: https://data.europarl.europa.eu/api/v2/meps/28619?format=application%2Fld%2Bjson\n",
      "Error fetching data from URL: https://data.europarl.europa.eu/api/v2/meps/125090?format=application%2Fld%2Bjson - 403 Client Error: Forbidden for url: https://data.europarl.europa.eu/api/v2/meps/125090?format=application%2Fld%2Bjson\n",
      "Error fetching data from URL: https://data.europarl.europa.eu/api/v2/meps/124713?format=application%2Fld%2Bjson - 403 Client Error: Forbidden for url: https://data.europarl.europa.eu/api/v2/meps/124713?format=application%2Fld%2Bjson\n",
      "Error fetching data from URL: https://data.europarl.europa.eu/api/v2/meps/96762?format=application%2Fld%2Bjson - 403 Client Error: Forbidden for url: https://data.europarl.europa.eu/api/v2/meps/96762?format=application%2Fld%2Bjson\n",
      "Error fetching data from URL: https://data.europarl.europa.eu/api/v2/meps/124893?format=application%2Fld%2Bjson - 403 Client Error: Forbidden for url: https://data.europarl.europa.eu/api/v2/meps/124893?format=application%2Fld%2Bjson\n",
      "Error fetching data from URL: https://data.europarl.europa.eu/api/v2/meps/96784?format=application%2Fld%2Bjson - 403 Client Error: Forbidden for url: https://data.europarl.europa.eu/api/v2/meps/96784?format=application%2Fld%2Bjson\n",
      "Error fetching data from URL: https://data.europarl.europa.eu/api/v2/meps/28248?format=application%2Fld%2Bjson - 403 Client Error: Forbidden for url: https://data.europarl.europa.eu/api/v2/meps/28248?format=application%2Fld%2Bjson\n",
      "Error fetching data from URL: https://data.europarl.europa.eu/api/v2/meps/28615?format=application%2Fld%2Bjson - 403 Client Error: Forbidden for url: https://data.europarl.europa.eu/api/v2/meps/28615?format=application%2Fld%2Bjson\n",
      "Error fetching data from URL: https://data.europarl.europa.eu/api/v2/meps/124902?format=application%2Fld%2Bjson - 403 Client Error: Forbidden for url: https://data.europarl.europa.eu/api/v2/meps/124902?format=application%2Fld%2Bjson\n",
      "Error fetching data from URL: https://data.europarl.europa.eu/api/v2/meps/124739?format=application%2Fld%2Bjson - 403 Client Error: Forbidden for url: https://data.europarl.europa.eu/api/v2/meps/124739?format=application%2Fld%2Bjson\n",
      "Error fetching data from URL: https://data.europarl.europa.eu/api/v2/meps/124901?format=application%2Fld%2Bjson - 403 Client Error: Forbidden for url: https://data.europarl.europa.eu/api/v2/meps/124901?format=application%2Fld%2BjsonError fetching data from URL: https://data.europarl.europa.eu/api/v2/meps/111589?format=application%2Fld%2Bjson - 403 Client Error: Forbidden for url: https://data.europarl.europa.eu/api/v2/meps/111589?format=application%2Fld%2Bjson\n",
      "Error fetching data from URL: https://data.europarl.europa.eu/api/v2/meps/124884?format=application%2Fld%2Bjson - 403 Client Error: Forbidden for url: https://data.europarl.europa.eu/api/v2/meps/124884?format=application%2Fld%2Bjson\n",
      "\n",
      "Error fetching data from URL: https://data.europarl.europa.eu/api/v2/meps/124795?format=application%2Fld%2Bjson - 403 Client Error: Forbidden for url: https://data.europarl.europa.eu/api/v2/meps/124795?format=application%2Fld%2Bjson\n",
      "Error fetching data from URL: https://data.europarl.europa.eu/api/v2/meps/125237?format=application%2Fld%2Bjson - 403 Client Error: Forbidden for url: https://data.europarl.europa.eu/api/v2/meps/125237?format=application%2Fld%2Bjson\n",
      "Error fetching data from URL: https://data.europarl.europa.eu/api/v2/meps/96933?format=application%2Fld%2Bjson - 403 Client Error: Forbidden for url: https://data.europarl.europa.eu/api/v2/meps/96933?format=application%2Fld%2Bjson\n",
      "Error fetching data from URL: https://data.europarl.europa.eu/api/v2/meps/28301?format=application%2Fld%2Bjson - 403 Client Error: Forbidden for url: https://data.europarl.europa.eu/api/v2/meps/28301?format=application%2Fld%2Bjson\n",
      "Error fetching data from URL: https://data.europarl.europa.eu/api/v2/meps/127330?format=application%2Fld%2Bjson - 403 Client Error: Forbidden for url: https://data.europarl.europa.eu/api/v2/meps/127330?format=application%2Fld%2Bjson\n",
      "Error fetching data from URL: https://data.europarl.europa.eu/api/v2/meps/128717?format=application%2Fld%2Bjson - 403 Client Error: Forbidden for url: https://data.europarl.europa.eu/api/v2/meps/128717?format=application%2Fld%2Bjson\n",
      "Error fetching data from URL: https://data.europarl.europa.eu/api/v2/meps/129073?format=application%2Fld%2Bjson - 403 Client Error: Forbidden for url: https://data.europarl.europa.eu/api/v2/meps/129073?format=application%2Fld%2Bjson\n",
      "Error fetching data from URL: https://data.europarl.europa.eu/api/v2/meps/128588?format=application%2Fld%2Bjson - 403 Client Error: Forbidden for url: https://data.europarl.europa.eu/api/v2/meps/128588?format=application%2Fld%2Bjson\n",
      "Error fetching data from URL: https://data.europarl.europa.eu/api/v2/meps/28407?format=application%2Fld%2Bjson - 403 Client Error: Forbidden for url: https://data.europarl.europa.eu/api/v2/meps/28407?format=application%2Fld%2Bjson\n",
      "Error fetching data from URL: https://data.europarl.europa.eu/api/v2/meps/26837?format=application%2Fld%2Bjson - 403 Client Error: Forbidden for url: https://data.europarl.europa.eu/api/v2/meps/26837?format=application%2Fld%2Bjson\n",
      "Error fetching data from URL: https://data.europarl.europa.eu/api/v2/meps/28398?format=application%2Fld%2Bjson - 403 Client Error: Forbidden for url: https://data.europarl.europa.eu/api/v2/meps/28398?format=application%2Fld%2Bjson\n",
      "Error fetching data from URL: https://data.europarl.europa.eu/api/v2/meps/129256?format=application%2Fld%2Bjson - 403 Client Error: Forbidden for url: https://data.europarl.europa.eu/api/v2/meps/129256?format=application%2Fld%2Bjson\n",
      "Error fetching data from URL: https://data.europarl.europa.eu/api/v2/meps/28617?format=application%2Fld%2Bjson - 403 Client Error: Forbidden for url: https://data.europarl.europa.eu/api/v2/meps/28617?format=application%2Fld%2Bjson\n",
      "Error fetching data from URL: https://data.europarl.europa.eu/api/v2/meps/129164?format=application%2Fld%2Bjson - 403 Client Error: Forbidden for url: https://data.europarl.europa.eu/api/v2/meps/129164?format=application%2Fld%2Bjson\n",
      "Error fetching data from URL: https://data.europarl.europa.eu/api/v2/meps/107212?format=application%2Fld%2Bjson - 403 Client Error: Forbidden for url: https://data.europarl.europa.eu/api/v2/meps/107212?format=application%2Fld%2Bjson\n",
      "Error fetching data from URL: https://data.europarl.europa.eu/api/v2/meps/35135?format=application%2Fld%2Bjson - 403 Client Error: Forbidden for url: https://data.europarl.europa.eu/api/v2/meps/35135?format=application%2Fld%2Bjson\n",
      "Error fetching data from URL: https://data.europarl.europa.eu/api/v2/meps/129407?format=application%2Fld%2Bjson - 403 Client Error: Forbidden for url: https://data.europarl.europa.eu/api/v2/meps/129407?format=application%2Fld%2Bjson\n",
      "Error fetching data from URL: https://data.europarl.europa.eu/api/v2/meps/130100?format=application%2Fld%2Bjson - 403 Client Error: Forbidden for url: https://data.europarl.europa.eu/api/v2/meps/130100?format=application%2Fld%2Bjson\n",
      "Error fetching data from URL: https://data.europarl.europa.eu/api/v2/meps/117491?format=application%2Fld%2Bjson - 403 Client Error: Forbidden for url: https://data.europarl.europa.eu/api/v2/meps/117491?format=application%2Fld%2BjsonError fetching data from URL: https://data.europarl.europa.eu/api/v2/meps/130833?format=application%2Fld%2Bjson - 403 Client Error: Forbidden for url: https://data.europarl.europa.eu/api/v2/meps/130833?format=application%2Fld%2Bjson\n",
      "\n",
      "Error fetching data from URL: https://data.europarl.europa.eu/api/v2/meps/131507?format=application%2Fld%2Bjson - 403 Client Error: Forbidden for url: https://data.europarl.europa.eu/api/v2/meps/131507?format=application%2Fld%2Bjson\n",
      "Error fetching data from URL: https://data.europarl.europa.eu/api/v2/meps/131051?format=application%2Fld%2Bjson - 403 Client Error: Forbidden for url: https://data.europarl.europa.eu/api/v2/meps/131051?format=application%2Fld%2Bjson\n",
      "Error fetching data from URL: https://data.europarl.europa.eu/api/v2/meps/131749?format=application%2Fld%2Bjson - 403 Client Error: Forbidden for url: https://data.europarl.europa.eu/api/v2/meps/131749?format=application%2Fld%2Bjson\n",
      "Error fetching data from URL: https://data.europarl.europa.eu/api/v2/meps/132366?format=application%2Fld%2Bjson - 403 Client Error: Forbidden for url: https://data.europarl.europa.eu/api/v2/meps/132366?format=application%2Fld%2Bjson\n",
      "Error fetching data from URL: https://data.europarl.europa.eu/api/v2/meps/131750?format=application%2Fld%2Bjson - 403 Client Error: Forbidden for url: https://data.europarl.europa.eu/api/v2/meps/131750?format=application%2Fld%2Bjson\n",
      "Error fetching data from URL: https://data.europarl.europa.eu/api/v2/meps/132925?format=application%2Fld%2Bjson - 403 Client Error: Forbidden for url: https://data.europarl.europa.eu/api/v2/meps/132925?format=application%2Fld%2Bjson\n",
      "Error fetching data from URL: https://data.europarl.europa.eu/api/v2/meps/28316?format=application%2Fld%2Bjson - 403 Client Error: Forbidden for url: https://data.europarl.europa.eu/api/v2/meps/28316?format=application%2Fld%2Bjson\n",
      "Error fetching data from URL: https://data.europarl.europa.eu/api/v2/meps/133326?format=application%2Fld%2Bjson - 403 Client Error: Forbidden for url: https://data.europarl.europa.eu/api/v2/meps/133326?format=application%2Fld%2Bjson\n",
      "Error fetching data from URL: https://data.europarl.europa.eu/api/v2/meps/135491?format=application%2Fld%2Bjson - 403 Client Error: Forbidden for url: https://data.europarl.europa.eu/api/v2/meps/135491?format=application%2Fld%2Bjson\n",
      "Error fetching data from URL: https://data.europarl.europa.eu/api/v2/meps/26851?format=application%2Fld%2Bjson - 403 Client Error: Forbidden for url: https://data.europarl.europa.eu/api/v2/meps/26851?format=application%2Fld%2Bjson\n",
      "Error fetching data from URL: https://data.europarl.europa.eu/api/v2/meps/134243?format=application%2Fld%2Bjson - 403 Client Error: Forbidden for url: https://data.europarl.europa.eu/api/v2/meps/134243?format=application%2Fld%2Bjson\n",
      "Error fetching data from URL: https://data.europarl.europa.eu/api/v2/meps/103246?format=application%2Fld%2Bjson - 403 Client Error: Forbidden for url: https://data.europarl.europa.eu/api/v2/meps/103246?format=application%2Fld%2Bjson\n",
      "Error fetching data from URL: https://data.europarl.europa.eu/api/v2/meps/135490?format=application%2Fld%2Bjson - 403 Client Error: Forbidden for url: https://data.europarl.europa.eu/api/v2/meps/135490?format=application%2Fld%2Bjson\n",
      "Error fetching data from URL: https://data.europarl.europa.eu/api/v2/meps/133316?format=application%2Fld%2Bjson - 403 Client Error: Forbidden for url: https://data.europarl.europa.eu/api/v2/meps/133316?format=application%2Fld%2Bjson\n",
      "Error fetching data from URL: https://data.europarl.europa.eu/api/v2/meps/135540?format=application%2Fld%2Bjson - 403 Client Error: Forbidden for url: https://data.europarl.europa.eu/api/v2/meps/135540?format=application%2Fld%2Bjson\n",
      "Error fetching data from URL: https://data.europarl.europa.eu/api/v2/meps/135541?format=application%2Fld%2Bjson - 403 Client Error: Forbidden for url: https://data.europarl.europa.eu/api/v2/meps/135541?format=application%2Fld%2Bjson\n",
      "Error fetching data from URL: https://data.europarl.europa.eu/api/v2/meps/136236?format=application%2Fld%2Bjson - 403 Client Error: Forbidden for url: https://data.europarl.europa.eu/api/v2/meps/136236?format=application%2Fld%2Bjson\n",
      "Error fetching data from URL: https://data.europarl.europa.eu/api/v2/meps/90110?format=application%2Fld%2Bjson - 403 Client Error: Forbidden for url: https://data.europarl.europa.eu/api/v2/meps/90110?format=application%2Fld%2Bjson\n",
      "Error fetching data from URL: https://data.europarl.europa.eu/api/v2/meps/183022?format=application%2Fld%2Bjson - 403 Client Error: Forbidden for url: https://data.europarl.europa.eu/api/v2/meps/183022?format=application%2Fld%2BjsonError fetching data from URL: https://data.europarl.europa.eu/api/v2/meps/96709?format=application%2Fld%2Bjson - 403 Client Error: Forbidden for url: https://data.europarl.europa.eu/api/v2/meps/96709?format=application%2Fld%2Bjson\n",
      "\n",
      "Error fetching data from URL: https://data.europarl.europa.eu/api/v2/meps/28331?format=application%2Fld%2Bjson - 403 Client Error: Forbidden for url: https://data.europarl.europa.eu/api/v2/meps/28331?format=application%2Fld%2Bjson\n",
      "Error fetching data from URL: https://data.europarl.europa.eu/api/v2/meps/183793?format=application%2Fld%2Bjson - 403 Client Error: Forbidden for url: https://data.europarl.europa.eu/api/v2/meps/183793?format=application%2Fld%2Bjson\n",
      "Error fetching data from URL: https://data.europarl.europa.eu/api/v2/meps/28276?format=application%2Fld%2Bjson - 403 Client Error: Forbidden for url: https://data.europarl.europa.eu/api/v2/meps/28276?format=application%2Fld%2Bjson\n",
      "Error fetching data from URL: https://data.europarl.europa.eu/api/v2/meps/21918?format=application%2Fld%2Bjson - 403 Client Error: Forbidden for url: https://data.europarl.europa.eu/api/v2/meps/21918?format=application%2Fld%2Bjson\n",
      "Error fetching data from URL: https://data.europarl.europa.eu/api/v2/meps/28334?format=application%2Fld%2Bjson - 403 Client Error: Forbidden for url: https://data.europarl.europa.eu/api/v2/meps/28334?format=application%2Fld%2Bjson\n",
      "Error fetching data from URL: https://data.europarl.europa.eu/api/v2/meps/183338?format=application%2Fld%2Bjson - 403 Client Error: Forbidden for url: https://data.europarl.europa.eu/api/v2/meps/183338?format=application%2Fld%2Bjson\n",
      "Error fetching data from URL: https://data.europarl.europa.eu/api/v2/meps/185341?format=application%2Fld%2Bjson - 403 Client Error: Forbidden for url: https://data.europarl.europa.eu/api/v2/meps/185341?format=application%2Fld%2Bjson\n",
      "Error fetching data from URL: https://data.europarl.europa.eu/api/v2/meps/26146?format=application%2Fld%2Bjson - 403 Client Error: Forbidden for url: https://data.europarl.europa.eu/api/v2/meps/26146?format=application%2Fld%2Bjson\n",
      "Error fetching data from URL: https://data.europarl.europa.eu/api/v2/meps/185340?format=application%2Fld%2Bjson - 403 Client Error: Forbidden for url: https://data.europarl.europa.eu/api/v2/meps/185340?format=application%2Fld%2Bjson\n",
      "Error fetching data from URL: https://data.europarl.europa.eu/api/v2/meps/185637?format=application%2Fld%2Bjson - 403 Client Error: Forbidden for url: https://data.europarl.europa.eu/api/v2/meps/185637?format=application%2Fld%2Bjson\n",
      "Error fetching data from URL: https://data.europarl.europa.eu/api/v2/meps/185619?format=application%2Fld%2Bjson - 403 Client Error: Forbidden for url: https://data.europarl.europa.eu/api/v2/meps/185619?format=application%2Fld%2Bjson\n",
      "Error fetching data from URL: https://data.europarl.europa.eu/api/v2/meps/185628?format=application%2Fld%2Bjson - 403 Client Error: Forbidden for url: https://data.europarl.europa.eu/api/v2/meps/185628?format=application%2Fld%2Bjson\n",
      "Error fetching data from URL: https://data.europarl.europa.eu/api/v2/meps/2002?format=application%2Fld%2Bjson - 403 Client Error: Forbidden for url: https://data.europarl.europa.eu/api/v2/meps/2002?format=application%2Fld%2Bjson\n",
      "Error fetching data from URL: https://data.europarl.europa.eu/api/v2/meps/185974?format=application%2Fld%2Bjson - 403 Client Error: Forbidden for url: https://data.europarl.europa.eu/api/v2/meps/185974?format=application%2Fld%2Bjson\n",
      "Error fetching data from URL: https://data.europarl.europa.eu/api/v2/meps/124857?format=application%2Fld%2Bjson - 403 Client Error: Forbidden for url: https://data.europarl.europa.eu/api/v2/meps/124857?format=application%2Fld%2Bjson\n",
      "Error fetching data from URL: https://data.europarl.europa.eu/api/v2/meps/186884?format=application%2Fld%2Bjson - 403 Client Error: Forbidden for url: https://data.europarl.europa.eu/api/v2/meps/186884?format=application%2Fld%2Bjson\n",
      "Error fetching data from URL: https://data.europarl.europa.eu/api/v2/meps/188445?format=application%2Fld%2Bjson - 403 Client Error: Forbidden for url: https://data.europarl.europa.eu/api/v2/meps/188445?format=application%2Fld%2Bjson\n",
      "Error fetching data from URL: https://data.europarl.europa.eu/api/v2/meps/4338?format=application%2Fld%2Bjson - 403 Client Error: Forbidden for url: https://data.europarl.europa.eu/api/v2/meps/4338?format=application%2Fld%2Bjson\n",
      "Error fetching data from URL: https://data.europarl.europa.eu/api/v2/meps/188254?format=application%2Fld%2Bjson - 403 Client Error: Forbidden for url: https://data.europarl.europa.eu/api/v2/meps/188254?format=application%2Fld%2Bjson\n",
      "Error fetching data from URL: https://data.europarl.europa.eu/api/v2/meps/188623?format=application%2Fld%2Bjson - 403 Client Error: Forbidden for url: https://data.europarl.europa.eu/api/v2/meps/188623?format=application%2Fld%2Bjson\n",
      "Error fetching data from URL: https://data.europarl.europa.eu/api/v2/meps/188636?format=application%2Fld%2Bjson - 403 Client Error: Forbidden for url: https://data.europarl.europa.eu/api/v2/meps/188636?format=application%2Fld%2Bjson\n",
      "Error fetching data from URL: https://data.europarl.europa.eu/api/v2/meps/188624?format=application%2Fld%2Bjson - 403 Client Error: Forbidden for url: https://data.europarl.europa.eu/api/v2/meps/188624?format=application%2Fld%2Bjson\n",
      "Error fetching data from URL: https://data.europarl.europa.eu/api/v2/meps/188622?format=application%2Fld%2Bjson - 403 Client Error: Forbidden for url: https://data.europarl.europa.eu/api/v2/meps/188622?format=application%2Fld%2Bjson\n",
      "Error fetching data from URL: https://data.europarl.europa.eu/api/v2/meps/188718?format=application%2Fld%2Bjson - 403 Client Error: Forbidden for url: https://data.europarl.europa.eu/api/v2/meps/188718?format=application%2Fld%2Bjson\n",
      "Error fetching data from URL: https://data.europarl.europa.eu/api/v2/meps/188721?format=application%2Fld%2Bjson - 403 Client Error: Forbidden for url: https://data.europarl.europa.eu/api/v2/meps/188721?format=application%2Fld%2Bjson\n",
      "Error fetching data from URL: https://data.europarl.europa.eu/api/v2/meps/188733?format=application%2Fld%2Bjson - 403 Client Error: Forbidden for url: https://data.europarl.europa.eu/api/v2/meps/188733?format=application%2Fld%2Bjson\n",
      "Error fetching data from URL: https://data.europarl.europa.eu/api/v2/meps/189065?format=application%2Fld%2Bjson - 403 Client Error: Forbidden for url: https://data.europarl.europa.eu/api/v2/meps/189065?format=application%2Fld%2Bjson\n",
      "Error fetching data from URL: https://data.europarl.europa.eu/api/v2/meps/189391?format=application%2Fld%2Bjson - 403 Client Error: Forbidden for url: https://data.europarl.europa.eu/api/v2/meps/189391?format=application%2Fld%2Bjson\n",
      "Error fetching data from URL: https://data.europarl.europa.eu/api/v2/meps/188906?format=application%2Fld%2Bjson - 403 Client Error: Forbidden for url: https://data.europarl.europa.eu/api/v2/meps/188906?format=application%2Fld%2Bjson\n",
      "Error fetching data from URL: https://data.europarl.europa.eu/api/v2/meps/189525?format=application%2Fld%2Bjson - 403 Client Error: Forbidden for url: https://data.europarl.europa.eu/api/v2/meps/189525?format=application%2Fld%2Bjson\n",
      "Error fetching data from URL: https://data.europarl.europa.eu/api/v2/meps/188945?format=application%2Fld%2Bjson - 403 Client Error: Forbidden for url: https://data.europarl.europa.eu/api/v2/meps/188945?format=application%2Fld%2Bjson\n",
      "Error fetching data from URL: https://data.europarl.europa.eu/api/v2/meps/96872?format=application%2Fld%2Bjson - 403 Client Error: Forbidden for url: https://data.europarl.europa.eu/api/v2/meps/96872?format=application%2Fld%2Bjson\n",
      "Error fetching data from URL: https://data.europarl.europa.eu/api/v2/meps/190099?format=application%2Fld%2Bjson - 403 Client Error: Forbidden for url: https://data.europarl.europa.eu/api/v2/meps/190099?format=application%2Fld%2Bjson\n",
      "Error fetching data from URL: https://data.europarl.europa.eu/api/v2/meps/189507?format=application%2Fld%2Bjson - 403 Client Error: Forbidden for url: https://data.europarl.europa.eu/api/v2/meps/189507?format=application%2Fld%2Bjson\n",
      "Error fetching data from URL: https://data.europarl.europa.eu/api/v2/meps/28244?format=application%2Fld%2Bjson - 403 Client Error: Forbidden for url: https://data.europarl.europa.eu/api/v2/meps/28244?format=application%2Fld%2Bjson\n",
      "Error fetching data from URL: https://data.europarl.europa.eu/api/v2/meps/28141?format=application%2Fld%2Bjson - 403 Client Error: Forbidden for url: https://data.europarl.europa.eu/api/v2/meps/28141?format=application%2Fld%2Bjson\n",
      "Error fetching data from URL: https://data.europarl.europa.eu/api/v2/meps/190518?format=application%2Fld%2Bjson - 403 Client Error: Forbidden for url: https://data.europarl.europa.eu/api/v2/meps/190518?format=application%2Fld%2Bjson\n",
      "Error fetching data from URL: https://data.europarl.europa.eu/api/v2/meps/189490?format=application%2Fld%2Bjson - 403 Client Error: Forbidden for url: https://data.europarl.europa.eu/api/v2/meps/189490?format=application%2Fld%2Bjson\n",
      "Error fetching data from URL: https://data.europarl.europa.eu/api/v2/meps/190519?format=application%2Fld%2Bjson - 403 Client Error: Forbidden for url: https://data.europarl.europa.eu/api/v2/meps/190519?format=application%2Fld%2Bjson\n",
      "Error fetching data from URL: https://data.europarl.europa.eu/api/v2/meps/97025?format=application%2Fld%2Bjson - 403 Client Error: Forbidden for url: https://data.europarl.europa.eu/api/v2/meps/97025?format=application%2Fld%2Bjson\n",
      "Error fetching data from URL: https://data.europarl.europa.eu/api/v2/meps/190774?format=application%2Fld%2Bjson - 403 Client Error: Forbidden for url: https://data.europarl.europa.eu/api/v2/meps/190774?format=application%2Fld%2Bjson\n",
      "Error fetching data from URL: https://data.europarl.europa.eu/api/v2/meps/190464?format=application%2Fld%2Bjson - 403 Client Error: Forbidden for url: https://data.europarl.europa.eu/api/v2/meps/190464?format=application%2Fld%2Bjson\n",
      "Error fetching data from URL: https://data.europarl.europa.eu/api/v2/meps/190517?format=application%2Fld%2Bjson - 403 Client Error: Forbidden for url: https://data.europarl.europa.eu/api/v2/meps/190517?format=application%2Fld%2Bjson\n",
      "Error fetching data from URL: https://data.europarl.europa.eu/api/v2/meps/190799?format=application%2Fld%2Bjson - 403 Client Error: Forbidden for url: https://data.europarl.europa.eu/api/v2/meps/190799?format=application%2Fld%2Bjson\n",
      "Error fetching data from URL: https://data.europarl.europa.eu/api/v2/meps/190713?format=application%2Fld%2Bjson - 403 Client Error: Forbidden for url: https://data.europarl.europa.eu/api/v2/meps/190713?format=application%2Fld%2Bjson\n",
      "Error fetching data from URL: https://data.europarl.europa.eu/api/v2/meps/191377?format=application%2Fld%2Bjson - 403 Client Error: Forbidden for url: https://data.europarl.europa.eu/api/v2/meps/191377?format=application%2Fld%2Bjson\n",
      "Error fetching data from URL: https://data.europarl.europa.eu/api/v2/meps/191510?format=application%2Fld%2Bjson - 403 Client Error: Forbidden for url: https://data.europarl.europa.eu/api/v2/meps/191510?format=application%2Fld%2Bjson\n",
      "Error fetching data from URL: https://data.europarl.europa.eu/api/v2/meps/191693?format=application%2Fld%2Bjson - 403 Client Error: Forbidden for url: https://data.europarl.europa.eu/api/v2/meps/191693?format=application%2Fld%2Bjson\n",
      "Error fetching data from URL: https://data.europarl.europa.eu/api/v2/meps/191695?format=application%2Fld%2Bjson - 403 Client Error: Forbidden for url: https://data.europarl.europa.eu/api/v2/meps/191695?format=application%2Fld%2Bjson\n",
      "Error fetching data from URL: https://data.europarl.europa.eu/api/v2/meps/192465?format=application%2Fld%2Bjson - 403 Client Error: Forbidden for url: https://data.europarl.europa.eu/api/v2/meps/192465?format=application%2Fld%2Bjson\n",
      "Error fetching data from URL: https://data.europarl.europa.eu/api/v2/meps/192635?format=application%2Fld%2Bjson - 403 Client Error: Forbidden for url: https://data.europarl.europa.eu/api/v2/meps/192635?format=application%2Fld%2Bjson\n",
      "Error fetching data from URL: https://data.europarl.europa.eu/api/v2/meps/192634?format=application%2Fld%2Bjson - 403 Client Error: Forbidden for url: https://data.europarl.europa.eu/api/v2/meps/192634?format=application%2Fld%2Bjson\n",
      "Error fetching data from URL: https://data.europarl.europa.eu/api/v2/meps/96996?format=application%2Fld%2Bjson - 403 Client Error: Forbidden for url: https://data.europarl.europa.eu/api/v2/meps/96996?format=application%2Fld%2Bjson\n",
      "Error fetching data from URL: https://data.europarl.europa.eu/api/v2/meps/24942?format=application%2Fld%2Bjson - 403 Client Error: Forbidden for url: https://data.europarl.europa.eu/api/v2/meps/24942?format=application%2Fld%2Bjson\n",
      "Error fetching data from URL: https://data.europarl.europa.eu/api/v2/meps/192298?format=application%2Fld%2Bjson - 403 Client Error: Forbidden for url: https://data.europarl.europa.eu/api/v2/meps/192298?format=application%2Fld%2Bjson\n",
      "Error fetching data from URL: https://data.europarl.europa.eu/api/v2/meps/193269?format=application%2Fld%2Bjson - 403 Client Error: Forbidden for url: https://data.europarl.europa.eu/api/v2/meps/193269?format=application%2Fld%2Bjson\n",
      "Error fetching data from URL: https://data.europarl.europa.eu/api/v2/meps/193080?format=application%2Fld%2Bjson - 403 Client Error: Forbidden for url: https://data.europarl.europa.eu/api/v2/meps/193080?format=application%2Fld%2Bjson\n",
      "Error fetching data from URL: https://data.europarl.europa.eu/api/v2/meps/193273?format=application%2Fld%2Bjson - 403 Client Error: Forbidden for url: https://data.europarl.europa.eu/api/v2/meps/193273?format=application%2Fld%2Bjson\n",
      "Error fetching data from URL: https://data.europarl.europa.eu/api/v2/meps/193292?format=application%2Fld%2Bjson - 403 Client Error: Forbidden for url: https://data.europarl.europa.eu/api/v2/meps/193292?format=application%2Fld%2Bjson\n",
      "Error fetching data from URL: https://data.europarl.europa.eu/api/v2/meps/193706?format=application%2Fld%2Bjson - 403 Client Error: Forbidden for url: https://data.europarl.europa.eu/api/v2/meps/193706?format=application%2Fld%2Bjson\n",
      "Error fetching data from URL: https://data.europarl.europa.eu/api/v2/meps/193419?format=application%2Fld%2Bjson - 403 Client Error: Forbidden for url: https://data.europarl.europa.eu/api/v2/meps/193419?format=application%2Fld%2Bjson\n",
      "Error fetching data from URL: https://data.europarl.europa.eu/api/v2/meps/193879?format=application%2Fld%2Bjson - 403 Client Error: Forbidden for url: https://data.europarl.europa.eu/api/v2/meps/193879?format=application%2Fld%2Bjson\n",
      "Error fetching data from URL: https://data.europarl.europa.eu/api/v2/meps/72754?format=application%2Fld%2Bjson - 403 Client Error: Forbidden for url: https://data.europarl.europa.eu/api/v2/meps/72754?format=application%2Fld%2Bjson\n",
      "Error fetching data from URL: https://data.europarl.europa.eu/api/v2/meps/194391?format=application%2Fld%2Bjson - 403 Client Error: Forbidden for url: https://data.europarl.europa.eu/api/v2/meps/194391?format=application%2Fld%2Bjson\n",
      "Error fetching data from URL: https://data.europarl.europa.eu/api/v2/meps/194658?format=application%2Fld%2Bjson - 403 Client Error: Forbidden for url: https://data.europarl.europa.eu/api/v2/meps/194658?format=application%2Fld%2Bjson\n",
      "Error fetching data from URL: https://data.europarl.europa.eu/api/v2/meps/196042?format=application%2Fld%2Bjson - 403 Client Error: Forbidden for url: https://data.europarl.europa.eu/api/v2/meps/196042?format=application%2Fld%2Bjson\n",
      "Error fetching data from URL: https://data.europarl.europa.eu/api/v2/meps/195454?format=application%2Fld%2Bjson - 403 Client Error: Forbidden for url: https://data.europarl.europa.eu/api/v2/meps/195454?format=application%2Fld%2Bjson\n",
      "Error fetching data from URL: https://data.europarl.europa.eu/api/v2/meps/111033?format=application%2Fld%2Bjson - 403 Client Error: Forbidden for url: https://data.europarl.europa.eu/api/v2/meps/111033?format=application%2Fld%2Bjson\n",
      "Error fetching data from URL: https://data.europarl.europa.eu/api/v2/meps/28299?format=application%2Fld%2Bjson - 403 Client Error: Forbidden for url: https://data.europarl.europa.eu/api/v2/meps/28299?format=application%2Fld%2Bjson\n",
      "Error fetching data from URL: https://data.europarl.europa.eu/api/v2/meps/195912?format=application%2Fld%2Bjson - 403 Client Error: Forbidden for url: https://data.europarl.europa.eu/api/v2/meps/195912?format=application%2Fld%2Bjson\n"
     ]
    }
   ],
   "execution_count": 34
  },
  {
   "metadata": {
    "ExecuteTime": {
     "end_time": "2024-06-04T09:23:01.938482Z",
     "start_time": "2024-06-04T09:22:59.946976Z"
    }
   },
   "cell_type": "code",
   "source": "mep_info_db = hf.get_mep_database(mep_info,memberships_df)\n",
   "id": "b545119dc7c15e0c",
   "outputs": [
    {
     "ename": "IndexError",
     "evalue": "single positional indexer is out-of-bounds",
     "output_type": "error",
     "traceback": [
      "\u001B[1;31m---------------------------------------------------------------------------\u001B[0m",
      "\u001B[1;31mIndexError\u001B[0m                                Traceback (most recent call last)",
      "Cell \u001B[1;32mIn[35], line 1\u001B[0m\n\u001B[1;32m----> 1\u001B[0m mep_info_db \u001B[38;5;241m=\u001B[39m \u001B[43mhf\u001B[49m\u001B[38;5;241;43m.\u001B[39;49m\u001B[43mget_mep_database\u001B[49m\u001B[43m(\u001B[49m\u001B[43mmep_info\u001B[49m\u001B[43m,\u001B[49m\u001B[43mmemberships_df\u001B[49m\u001B[43m)\u001B[49m\n",
      "File \u001B[1;32mD:\\EP_Vote_Monitor_copy\\helperfunctions.py:111\u001B[0m, in \u001B[0;36mget_mep_database\u001B[1;34m(mep_df, memberships_df)\u001B[0m\n\u001B[0;32m    109\u001B[0m mep_df[\u001B[38;5;124m'\u001B[39m\u001B[38;5;124mLname\u001B[39m\u001B[38;5;124m'\u001B[39m] \u001B[38;5;241m=\u001B[39m temp_df[\u001B[38;5;124m'\u001B[39m\u001B[38;5;124mLname\u001B[39m\u001B[38;5;124m'\u001B[39m]\n\u001B[0;32m    110\u001B[0m mep_df[\u001B[38;5;124m'\u001B[39m\u001B[38;5;124mFullName\u001B[39m\u001B[38;5;124m'\u001B[39m] \u001B[38;5;241m=\u001B[39m temp_df[\u001B[38;5;124m'\u001B[39m\u001B[38;5;124mFullName\u001B[39m\u001B[38;5;124m'\u001B[39m]\n\u001B[1;32m--> 111\u001B[0m mep_df[\u001B[38;5;124m'\u001B[39m\u001B[38;5;124mBirthday\u001B[39m\u001B[38;5;124m'\u001B[39m] \u001B[38;5;241m=\u001B[39m \u001B[43mtemp_df\u001B[49m\u001B[43m[\u001B[49m\u001B[38;5;124;43m'\u001B[39;49m\u001B[38;5;124;43mMepId\u001B[39;49m\u001B[38;5;124;43m'\u001B[39;49m\u001B[43m]\u001B[49m\u001B[38;5;241;43m.\u001B[39;49m\u001B[43mapply\u001B[49m\u001B[43m(\u001B[49m\u001B[43mextract_birthday\u001B[49m\u001B[43m,\u001B[49m\u001B[43mdf\u001B[49m\u001B[38;5;241;43m=\u001B[39;49m\u001B[43mmemberships_df\u001B[49m\u001B[43m)\u001B[49m\n\u001B[0;32m    112\u001B[0m mep_df[\u001B[38;5;124m'\u001B[39m\u001B[38;5;124mGender\u001B[39m\u001B[38;5;124m'\u001B[39m] \u001B[38;5;241m=\u001B[39m temp_df[\u001B[38;5;124m'\u001B[39m\u001B[38;5;124mMepId\u001B[39m\u001B[38;5;124m'\u001B[39m]\u001B[38;5;241m.\u001B[39mapply(extract_gender,df\u001B[38;5;241m=\u001B[39mmemberships_df)\n\u001B[0;32m    113\u001B[0m mep_df[\u001B[38;5;124m'\u001B[39m\u001B[38;5;124mCountry\u001B[39m\u001B[38;5;124m'\u001B[39m] \u001B[38;5;241m=\u001B[39m temp_df[\u001B[38;5;124m'\u001B[39m\u001B[38;5;124mCountry\u001B[39m\u001B[38;5;124m'\u001B[39m]\n",
      "File \u001B[1;32m~\\AppData\\Local\\Programs\\Python\\Python312\\Lib\\site-packages\\pandas\\core\\series.py:4924\u001B[0m, in \u001B[0;36mSeries.apply\u001B[1;34m(self, func, convert_dtype, args, by_row, **kwargs)\u001B[0m\n\u001B[0;32m   4789\u001B[0m \u001B[38;5;28;01mdef\u001B[39;00m \u001B[38;5;21mapply\u001B[39m(\n\u001B[0;32m   4790\u001B[0m     \u001B[38;5;28mself\u001B[39m,\n\u001B[0;32m   4791\u001B[0m     func: AggFuncType,\n\u001B[1;32m   (...)\u001B[0m\n\u001B[0;32m   4796\u001B[0m     \u001B[38;5;241m*\u001B[39m\u001B[38;5;241m*\u001B[39mkwargs,\n\u001B[0;32m   4797\u001B[0m ) \u001B[38;5;241m-\u001B[39m\u001B[38;5;241m>\u001B[39m DataFrame \u001B[38;5;241m|\u001B[39m Series:\n\u001B[0;32m   4798\u001B[0m \u001B[38;5;250m    \u001B[39m\u001B[38;5;124;03m\"\"\"\u001B[39;00m\n\u001B[0;32m   4799\u001B[0m \u001B[38;5;124;03m    Invoke function on values of Series.\u001B[39;00m\n\u001B[0;32m   4800\u001B[0m \n\u001B[1;32m   (...)\u001B[0m\n\u001B[0;32m   4915\u001B[0m \u001B[38;5;124;03m    dtype: float64\u001B[39;00m\n\u001B[0;32m   4916\u001B[0m \u001B[38;5;124;03m    \"\"\"\u001B[39;00m\n\u001B[0;32m   4917\u001B[0m     \u001B[38;5;28;01mreturn\u001B[39;00m \u001B[43mSeriesApply\u001B[49m\u001B[43m(\u001B[49m\n\u001B[0;32m   4918\u001B[0m \u001B[43m        \u001B[49m\u001B[38;5;28;43mself\u001B[39;49m\u001B[43m,\u001B[49m\n\u001B[0;32m   4919\u001B[0m \u001B[43m        \u001B[49m\u001B[43mfunc\u001B[49m\u001B[43m,\u001B[49m\n\u001B[0;32m   4920\u001B[0m \u001B[43m        \u001B[49m\u001B[43mconvert_dtype\u001B[49m\u001B[38;5;241;43m=\u001B[39;49m\u001B[43mconvert_dtype\u001B[49m\u001B[43m,\u001B[49m\n\u001B[0;32m   4921\u001B[0m \u001B[43m        \u001B[49m\u001B[43mby_row\u001B[49m\u001B[38;5;241;43m=\u001B[39;49m\u001B[43mby_row\u001B[49m\u001B[43m,\u001B[49m\n\u001B[0;32m   4922\u001B[0m \u001B[43m        \u001B[49m\u001B[43margs\u001B[49m\u001B[38;5;241;43m=\u001B[39;49m\u001B[43margs\u001B[49m\u001B[43m,\u001B[49m\n\u001B[0;32m   4923\u001B[0m \u001B[43m        \u001B[49m\u001B[43mkwargs\u001B[49m\u001B[38;5;241;43m=\u001B[39;49m\u001B[43mkwargs\u001B[49m\u001B[43m,\u001B[49m\n\u001B[1;32m-> 4924\u001B[0m \u001B[43m    \u001B[49m\u001B[43m)\u001B[49m\u001B[38;5;241;43m.\u001B[39;49m\u001B[43mapply\u001B[49m\u001B[43m(\u001B[49m\u001B[43m)\u001B[49m\n",
      "File \u001B[1;32m~\\AppData\\Local\\Programs\\Python\\Python312\\Lib\\site-packages\\pandas\\core\\apply.py:1427\u001B[0m, in \u001B[0;36mSeriesApply.apply\u001B[1;34m(self)\u001B[0m\n\u001B[0;32m   1424\u001B[0m     \u001B[38;5;28;01mreturn\u001B[39;00m \u001B[38;5;28mself\u001B[39m\u001B[38;5;241m.\u001B[39mapply_compat()\n\u001B[0;32m   1426\u001B[0m \u001B[38;5;66;03m# self.func is Callable\u001B[39;00m\n\u001B[1;32m-> 1427\u001B[0m \u001B[38;5;28;01mreturn\u001B[39;00m \u001B[38;5;28;43mself\u001B[39;49m\u001B[38;5;241;43m.\u001B[39;49m\u001B[43mapply_standard\u001B[49m\u001B[43m(\u001B[49m\u001B[43m)\u001B[49m\n",
      "File \u001B[1;32m~\\AppData\\Local\\Programs\\Python\\Python312\\Lib\\site-packages\\pandas\\core\\apply.py:1507\u001B[0m, in \u001B[0;36mSeriesApply.apply_standard\u001B[1;34m(self)\u001B[0m\n\u001B[0;32m   1501\u001B[0m \u001B[38;5;66;03m# row-wise access\u001B[39;00m\n\u001B[0;32m   1502\u001B[0m \u001B[38;5;66;03m# apply doesn't have a `na_action` keyword and for backward compat reasons\u001B[39;00m\n\u001B[0;32m   1503\u001B[0m \u001B[38;5;66;03m# we need to give `na_action=\"ignore\"` for categorical data.\u001B[39;00m\n\u001B[0;32m   1504\u001B[0m \u001B[38;5;66;03m# TODO: remove the `na_action=\"ignore\"` when that default has been changed in\u001B[39;00m\n\u001B[0;32m   1505\u001B[0m \u001B[38;5;66;03m#  Categorical (GH51645).\u001B[39;00m\n\u001B[0;32m   1506\u001B[0m action \u001B[38;5;241m=\u001B[39m \u001B[38;5;124m\"\u001B[39m\u001B[38;5;124mignore\u001B[39m\u001B[38;5;124m\"\u001B[39m \u001B[38;5;28;01mif\u001B[39;00m \u001B[38;5;28misinstance\u001B[39m(obj\u001B[38;5;241m.\u001B[39mdtype, CategoricalDtype) \u001B[38;5;28;01melse\u001B[39;00m \u001B[38;5;28;01mNone\u001B[39;00m\n\u001B[1;32m-> 1507\u001B[0m mapped \u001B[38;5;241m=\u001B[39m \u001B[43mobj\u001B[49m\u001B[38;5;241;43m.\u001B[39;49m\u001B[43m_map_values\u001B[49m\u001B[43m(\u001B[49m\n\u001B[0;32m   1508\u001B[0m \u001B[43m    \u001B[49m\u001B[43mmapper\u001B[49m\u001B[38;5;241;43m=\u001B[39;49m\u001B[43mcurried\u001B[49m\u001B[43m,\u001B[49m\u001B[43m \u001B[49m\u001B[43mna_action\u001B[49m\u001B[38;5;241;43m=\u001B[39;49m\u001B[43maction\u001B[49m\u001B[43m,\u001B[49m\u001B[43m \u001B[49m\u001B[43mconvert\u001B[49m\u001B[38;5;241;43m=\u001B[39;49m\u001B[38;5;28;43mself\u001B[39;49m\u001B[38;5;241;43m.\u001B[39;49m\u001B[43mconvert_dtype\u001B[49m\n\u001B[0;32m   1509\u001B[0m \u001B[43m\u001B[49m\u001B[43m)\u001B[49m\n\u001B[0;32m   1511\u001B[0m \u001B[38;5;28;01mif\u001B[39;00m \u001B[38;5;28mlen\u001B[39m(mapped) \u001B[38;5;129;01mand\u001B[39;00m \u001B[38;5;28misinstance\u001B[39m(mapped[\u001B[38;5;241m0\u001B[39m], ABCSeries):\n\u001B[0;32m   1512\u001B[0m     \u001B[38;5;66;03m# GH#43986 Need to do list(mapped) in order to get treated as nested\u001B[39;00m\n\u001B[0;32m   1513\u001B[0m     \u001B[38;5;66;03m#  See also GH#25959 regarding EA support\u001B[39;00m\n\u001B[0;32m   1514\u001B[0m     \u001B[38;5;28;01mreturn\u001B[39;00m obj\u001B[38;5;241m.\u001B[39m_constructor_expanddim(\u001B[38;5;28mlist\u001B[39m(mapped), index\u001B[38;5;241m=\u001B[39mobj\u001B[38;5;241m.\u001B[39mindex)\n",
      "File \u001B[1;32m~\\AppData\\Local\\Programs\\Python\\Python312\\Lib\\site-packages\\pandas\\core\\base.py:921\u001B[0m, in \u001B[0;36mIndexOpsMixin._map_values\u001B[1;34m(self, mapper, na_action, convert)\u001B[0m\n\u001B[0;32m    918\u001B[0m \u001B[38;5;28;01mif\u001B[39;00m \u001B[38;5;28misinstance\u001B[39m(arr, ExtensionArray):\n\u001B[0;32m    919\u001B[0m     \u001B[38;5;28;01mreturn\u001B[39;00m arr\u001B[38;5;241m.\u001B[39mmap(mapper, na_action\u001B[38;5;241m=\u001B[39mna_action)\n\u001B[1;32m--> 921\u001B[0m \u001B[38;5;28;01mreturn\u001B[39;00m \u001B[43malgorithms\u001B[49m\u001B[38;5;241;43m.\u001B[39;49m\u001B[43mmap_array\u001B[49m\u001B[43m(\u001B[49m\u001B[43marr\u001B[49m\u001B[43m,\u001B[49m\u001B[43m \u001B[49m\u001B[43mmapper\u001B[49m\u001B[43m,\u001B[49m\u001B[43m \u001B[49m\u001B[43mna_action\u001B[49m\u001B[38;5;241;43m=\u001B[39;49m\u001B[43mna_action\u001B[49m\u001B[43m,\u001B[49m\u001B[43m \u001B[49m\u001B[43mconvert\u001B[49m\u001B[38;5;241;43m=\u001B[39;49m\u001B[43mconvert\u001B[49m\u001B[43m)\u001B[49m\n",
      "File \u001B[1;32m~\\AppData\\Local\\Programs\\Python\\Python312\\Lib\\site-packages\\pandas\\core\\algorithms.py:1743\u001B[0m, in \u001B[0;36mmap_array\u001B[1;34m(arr, mapper, na_action, convert)\u001B[0m\n\u001B[0;32m   1741\u001B[0m values \u001B[38;5;241m=\u001B[39m arr\u001B[38;5;241m.\u001B[39mastype(\u001B[38;5;28mobject\u001B[39m, copy\u001B[38;5;241m=\u001B[39m\u001B[38;5;28;01mFalse\u001B[39;00m)\n\u001B[0;32m   1742\u001B[0m \u001B[38;5;28;01mif\u001B[39;00m na_action \u001B[38;5;129;01mis\u001B[39;00m \u001B[38;5;28;01mNone\u001B[39;00m:\n\u001B[1;32m-> 1743\u001B[0m     \u001B[38;5;28;01mreturn\u001B[39;00m \u001B[43mlib\u001B[49m\u001B[38;5;241;43m.\u001B[39;49m\u001B[43mmap_infer\u001B[49m\u001B[43m(\u001B[49m\u001B[43mvalues\u001B[49m\u001B[43m,\u001B[49m\u001B[43m \u001B[49m\u001B[43mmapper\u001B[49m\u001B[43m,\u001B[49m\u001B[43m \u001B[49m\u001B[43mconvert\u001B[49m\u001B[38;5;241;43m=\u001B[39;49m\u001B[43mconvert\u001B[49m\u001B[43m)\u001B[49m\n\u001B[0;32m   1744\u001B[0m \u001B[38;5;28;01melse\u001B[39;00m:\n\u001B[0;32m   1745\u001B[0m     \u001B[38;5;28;01mreturn\u001B[39;00m lib\u001B[38;5;241m.\u001B[39mmap_infer_mask(\n\u001B[0;32m   1746\u001B[0m         values, mapper, mask\u001B[38;5;241m=\u001B[39misna(values)\u001B[38;5;241m.\u001B[39mview(np\u001B[38;5;241m.\u001B[39muint8), convert\u001B[38;5;241m=\u001B[39mconvert\n\u001B[0;32m   1747\u001B[0m     )\n",
      "File \u001B[1;32mlib.pyx:2972\u001B[0m, in \u001B[0;36mpandas._libs.lib.map_infer\u001B[1;34m()\u001B[0m\n",
      "File \u001B[1;32m~\\AppData\\Local\\Programs\\Python\\Python312\\Lib\\site-packages\\pandas\\core\\apply.py:1496\u001B[0m, in \u001B[0;36mSeriesApply.apply_standard.<locals>.curried\u001B[1;34m(x)\u001B[0m\n\u001B[0;32m   1495\u001B[0m \u001B[38;5;28;01mdef\u001B[39;00m \u001B[38;5;21mcurried\u001B[39m(x):\n\u001B[1;32m-> 1496\u001B[0m     \u001B[38;5;28;01mreturn\u001B[39;00m \u001B[43mfunc\u001B[49m\u001B[43m(\u001B[49m\u001B[43mx\u001B[49m\u001B[43m,\u001B[49m\u001B[43m \u001B[49m\u001B[38;5;241;43m*\u001B[39;49m\u001B[38;5;28;43mself\u001B[39;49m\u001B[38;5;241;43m.\u001B[39;49m\u001B[43margs\u001B[49m\u001B[43m,\u001B[49m\u001B[43m \u001B[49m\u001B[38;5;241;43m*\u001B[39;49m\u001B[38;5;241;43m*\u001B[39;49m\u001B[38;5;28;43mself\u001B[39;49m\u001B[38;5;241;43m.\u001B[39;49m\u001B[43mkwargs\u001B[49m\u001B[43m)\u001B[49m\n",
      "File \u001B[1;32mD:\\EP_Vote_Monitor_copy\\helperfunctions.py:97\u001B[0m, in \u001B[0;36mextract_birthday\u001B[1;34m(identifier, df)\u001B[0m\n\u001B[0;32m     95\u001B[0m \u001B[38;5;28;01mdef\u001B[39;00m \u001B[38;5;21mextract_birthday\u001B[39m(identifier,df):\n\u001B[0;32m     96\u001B[0m     df \u001B[38;5;241m=\u001B[39m df[df[\u001B[38;5;124m'\u001B[39m\u001B[38;5;124midentifier\u001B[39m\u001B[38;5;124m'\u001B[39m]\u001B[38;5;241m.\u001B[39mastype(\u001B[38;5;28mstr\u001B[39m) \u001B[38;5;241m==\u001B[39m \u001B[38;5;28mstr\u001B[39m(identifier)]\n\u001B[1;32m---> 97\u001B[0m     bday \u001B[38;5;241m=\u001B[39m \u001B[43mdf\u001B[49m\u001B[38;5;241;43m.\u001B[39;49m\u001B[43miloc\u001B[49m\u001B[43m[\u001B[49m\u001B[38;5;241;43m0\u001B[39;49m\u001B[43m]\u001B[49m[\u001B[38;5;124m\"\u001B[39m\u001B[38;5;124mbday\u001B[39m\u001B[38;5;124m\"\u001B[39m]\n\u001B[0;32m     98\u001B[0m     \u001B[38;5;28;01mreturn\u001B[39;00m bday\n",
      "File \u001B[1;32m~\\AppData\\Local\\Programs\\Python\\Python312\\Lib\\site-packages\\pandas\\core\\indexing.py:1191\u001B[0m, in \u001B[0;36m_LocationIndexer.__getitem__\u001B[1;34m(self, key)\u001B[0m\n\u001B[0;32m   1189\u001B[0m maybe_callable \u001B[38;5;241m=\u001B[39m com\u001B[38;5;241m.\u001B[39mapply_if_callable(key, \u001B[38;5;28mself\u001B[39m\u001B[38;5;241m.\u001B[39mobj)\n\u001B[0;32m   1190\u001B[0m maybe_callable \u001B[38;5;241m=\u001B[39m \u001B[38;5;28mself\u001B[39m\u001B[38;5;241m.\u001B[39m_check_deprecated_callable_usage(key, maybe_callable)\n\u001B[1;32m-> 1191\u001B[0m \u001B[38;5;28;01mreturn\u001B[39;00m \u001B[38;5;28;43mself\u001B[39;49m\u001B[38;5;241;43m.\u001B[39;49m\u001B[43m_getitem_axis\u001B[49m\u001B[43m(\u001B[49m\u001B[43mmaybe_callable\u001B[49m\u001B[43m,\u001B[49m\u001B[43m \u001B[49m\u001B[43maxis\u001B[49m\u001B[38;5;241;43m=\u001B[39;49m\u001B[43maxis\u001B[49m\u001B[43m)\u001B[49m\n",
      "File \u001B[1;32m~\\AppData\\Local\\Programs\\Python\\Python312\\Lib\\site-packages\\pandas\\core\\indexing.py:1752\u001B[0m, in \u001B[0;36m_iLocIndexer._getitem_axis\u001B[1;34m(self, key, axis)\u001B[0m\n\u001B[0;32m   1749\u001B[0m     \u001B[38;5;28;01mraise\u001B[39;00m \u001B[38;5;167;01mTypeError\u001B[39;00m(\u001B[38;5;124m\"\u001B[39m\u001B[38;5;124mCannot index by location index with a non-integer key\u001B[39m\u001B[38;5;124m\"\u001B[39m)\n\u001B[0;32m   1751\u001B[0m \u001B[38;5;66;03m# validate the location\u001B[39;00m\n\u001B[1;32m-> 1752\u001B[0m \u001B[38;5;28;43mself\u001B[39;49m\u001B[38;5;241;43m.\u001B[39;49m\u001B[43m_validate_integer\u001B[49m\u001B[43m(\u001B[49m\u001B[43mkey\u001B[49m\u001B[43m,\u001B[49m\u001B[43m \u001B[49m\u001B[43maxis\u001B[49m\u001B[43m)\u001B[49m\n\u001B[0;32m   1754\u001B[0m \u001B[38;5;28;01mreturn\u001B[39;00m \u001B[38;5;28mself\u001B[39m\u001B[38;5;241m.\u001B[39mobj\u001B[38;5;241m.\u001B[39m_ixs(key, axis\u001B[38;5;241m=\u001B[39maxis)\n",
      "File \u001B[1;32m~\\AppData\\Local\\Programs\\Python\\Python312\\Lib\\site-packages\\pandas\\core\\indexing.py:1685\u001B[0m, in \u001B[0;36m_iLocIndexer._validate_integer\u001B[1;34m(self, key, axis)\u001B[0m\n\u001B[0;32m   1683\u001B[0m len_axis \u001B[38;5;241m=\u001B[39m \u001B[38;5;28mlen\u001B[39m(\u001B[38;5;28mself\u001B[39m\u001B[38;5;241m.\u001B[39mobj\u001B[38;5;241m.\u001B[39m_get_axis(axis))\n\u001B[0;32m   1684\u001B[0m \u001B[38;5;28;01mif\u001B[39;00m key \u001B[38;5;241m>\u001B[39m\u001B[38;5;241m=\u001B[39m len_axis \u001B[38;5;129;01mor\u001B[39;00m key \u001B[38;5;241m<\u001B[39m \u001B[38;5;241m-\u001B[39mlen_axis:\n\u001B[1;32m-> 1685\u001B[0m     \u001B[38;5;28;01mraise\u001B[39;00m \u001B[38;5;167;01mIndexError\u001B[39;00m(\u001B[38;5;124m\"\u001B[39m\u001B[38;5;124msingle positional indexer is out-of-bounds\u001B[39m\u001B[38;5;124m\"\u001B[39m)\n",
      "\u001B[1;31mIndexError\u001B[0m: single positional indexer is out-of-bounds"
     ]
    }
   ],
   "execution_count": 35
  },
  {
   "metadata": {
    "ExecuteTime": {
     "end_time": "2024-06-04T09:23:01.938482Z",
     "start_time": "2024-06-04T09:23:01.938482Z"
    }
   },
   "cell_type": "code",
   "source": [
    "votings_filtered_list = [\n",
    "    \"VoteId\" \n",
    "    ,\"Date\" \n",
    "    ,\"Title\"\n",
    "    ,\"TypeOfVote\"\n",
    "    ,\"Rapporteur\"\n",
    "    ,\"Link\"\n",
    "    ,\"CommitteeResponsabile\"\n",
    "    ,'Subject'\n",
    "    ,'FinalVote' \n",
    "    ,'AmNo'\n",
    "    ,'Author'\n",
    "    ,'Vote'   \n",
    "    ,'Yes'\n",
    "    ,'No' \n",
    "    ,'Abs']"
   ],
   "id": "d13f520319068a2e",
   "outputs": [],
   "execution_count": null
  },
  {
   "metadata": {},
   "cell_type": "code",
   "source": "votings = EP_8_votations[votings_filtered_list]\n",
   "id": "1a65df5ea5a52ad1",
   "outputs": [],
   "execution_count": null
  },
  {
   "metadata": {},
   "cell_type": "code",
   "source": "melted_votes.VoteId = melted_votes.VoteId.astype('Int64')\n",
   "id": "dc8ecfeac9b4caab",
   "outputs": [],
   "execution_count": null
  },
  {
   "metadata": {},
   "cell_type": "markdown",
   "source": "Saving files to .csv\n",
   "id": "6550597da974817e"
  },
  {
   "metadata": {},
   "cell_type": "code",
   "source": [
    "base_directory = os.path.join(\"Cleaned_data\",\"EP8_clean_data\")\n",
    "os.makedirs(base_directory, exist_ok=True)"
   ],
   "id": "69f1d72e9f8a9850",
   "outputs": [],
   "execution_count": null
  },
  {
   "metadata": {},
   "cell_type": "code",
   "source": [
    "mep_info_db.to_csv(os.path.join(base_directory,\"mep_info_EP_8.csv\"),index=False)\n",
    "melted_votes.to_csv(os.path.join(base_directory,\"votes_EP_8.csv\"),index=False)\n",
    "votings.to_csv(os.path.join(base_directory,\"votings_EP_8.csv\"),index=False)\n",
    "memberships_df.to_csv(os.path.join(base_directory,\"memberships_EP_8.csv\"),index=False)"
   ],
   "id": "89810ddec13787dd",
   "outputs": [],
   "execution_count": null
  },
  {
   "metadata": {},
   "cell_type": "code",
   "outputs": [],
   "execution_count": null,
   "source": "",
   "id": "3ed9de6b2aeba466"
  }
 ],
 "metadata": {
  "kernelspec": {
   "display_name": "Python 3",
   "language": "python",
   "name": "python3"
  },
  "language_info": {
   "codemirror_mode": {
    "name": "ipython",
    "version": 2
   },
   "file_extension": ".py",
   "mimetype": "text/x-python",
   "name": "python",
   "nbconvert_exporter": "python",
   "pygments_lexer": "ipython2",
   "version": "2.7.6"
  }
 },
 "nbformat": 4,
 "nbformat_minor": 5
}
